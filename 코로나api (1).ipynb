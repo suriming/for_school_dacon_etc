{
  "nbformat": 4,
  "nbformat_minor": 0,
  "metadata": {
    "colab": {
      "name": "코로나api.ipynb",
      "provenance": [],
      "collapsed_sections": []
    },
    "kernelspec": {
      "name": "python3",
      "display_name": "Python 3"
    },
    "language_info": {
      "name": "python"
    }
  },
  "cells": [
    {
      "cell_type": "code",
      "metadata": {
        "colab": {
          "base_uri": "https://localhost:8080/"
        },
        "id": "xRpUKFAVHnXE",
        "outputId": "2ae04b7d-9def-407d-d79f-b07a4d9a7148"
      },
      "source": [
        "from urllib.request import Request, urlopen\n",
        "from urllib.parse import urlencode, quote_plus\n",
        "#import ssl\n",
        "\n",
        "url = 'http://openapi.data.go.kr/openapi/service/rest/Covid19/getCovid19InfStateJson'\n",
        "queryParams = '?' + urlencode({ quote_plus('ServiceKey') : 'z8OxOFITHLP8MriopdLbgEuZtZsXZp9V+hdYTUKIwsj4c0eiqjxoBqCnSDg7yHzBq/ZPkW4az276bs7fNnKYuA==', quote_plus('pageNo') : '1', quote_plus('numOfRows') : '10', quote_plus('startCreateDt') : '20210301', quote_plus('endCreateDt') : '20210531' })\n",
        "\n",
        "request = Request(url + queryParams)\n",
        "request.get_method = lambda: 'GET'\n",
        "#context = ssl._create_unverified_context();\n",
        "#response_body = urlopen(request, context=context).read().decode('utf-8')\n",
        "response_body = urlopen(request).read().decode('utf-8')\n",
        "print (response_body)"
      ],
      "execution_count": null,
      "outputs": [
        {
          "output_type": "stream",
          "text": [
            "<?xml version=\"1.0\" encoding=\"UTF-8\" standalone=\"yes\"?><response><header><resultCode>00</resultCode><resultMsg>NORMAL SERVICE.</resultMsg></header><body><items><item><accDefRate>1.4568360166</accDefRate><accExamCnt>9761158</accExamCnt><accExamCompCnt>9633205</accExamCompCnt><careCnt>7558</careCnt><clearCnt>130823</clearCnt><createDt>2021-05-31 09:34:29.254</createDt><deathCnt>1959</deathCnt><decideCnt>140340</decideCnt><examCnt>127953</examCnt><resutlNegCnt>9492865</resutlNegCnt><seq>528</seq><stateDt>20210531</stateDt><stateTime>00:00</stateTime><updateDt>null</updateDt></item><item><accDefRate>1.4541964496</accDefRate><accExamCnt>9747614</accExamCnt><accExamCompCnt>9621121</accExamCompCnt><careCnt>7572</careCnt><clearCnt>130381</clearCnt><createDt>2021-05-30 09:24:39.384</createDt><deathCnt>1957</deathCnt><decideCnt>139910</decideCnt><examCnt>126493</examCnt><resutlNegCnt>9481211</resutlNegCnt><seq>527</seq><stateDt>20210530</stateDt><stateTime>00:00</stateTime><updateDt>null</updateDt></item><item><accDefRate>1.4509249463</accDefRate><accExamCnt>9733591</accExamCnt><accExamCompCnt>9609801</accExamCompCnt><careCnt>7741</careCnt><clearCnt>129739</clearCnt><createDt>2021-05-29 09:45:26.765</createDt><deathCnt>1951</deathCnt><decideCnt>139431</decideCnt><examCnt>123790</examCnt><resutlNegCnt>9470370</resutlNegCnt><seq>526</seq><stateDt>20210529</stateDt><stateTime>00:00</stateTime><updateDt>null</updateDt></item><item><accDefRate>1.4499377008</accDefRate><accExamCnt>9702456</accExamCnt><accExamCompCnt>9579584</accExamCompCnt><careCnt>8193</careCnt><clearCnt>128759</clearCnt><createDt>2021-05-28 09:34:29.553</createDt><deathCnt>1946</deathCnt><decideCnt>138898</decideCnt><examCnt>122872</examCnt><resutlNegCnt>9440686</resutlNegCnt><seq>525</seq><stateDt>20210528</stateDt><stateTime>00:00</stateTime><updateDt>2021-05-29 09:47:35.466</updateDt></item><item><accDefRate>1.4493399059</accDefRate><accExamCnt>9665693</accExamCnt><accExamCompCnt>9543034</accExamCompCnt><careCnt>8188</careCnt><clearCnt>128180</clearCnt><createDt>2021-05-27 09:39:43.099</createDt><deathCnt>1943</deathCnt><decideCnt>138311</decideCnt><examCnt>122659</examCnt><resutlNegCnt>9404723</resutlNegCnt><seq>524</seq><stateDt>20210527</stateDt><stateTime>00:00</stateTime><updateDt>null</updateDt></item><item><accDefRate>1.4479226274</accDefRate><accExamCnt>9629450</accExamCnt><accExamCompCnt>9508381</accExamCompCnt><careCnt>8160</careCnt><clearCnt>127574</clearCnt><createDt>2021-05-26 09:46:42.628</createDt><deathCnt>1940</deathCnt><decideCnt>137674</decideCnt><examCnt>121069</examCnt><resutlNegCnt>9370707</resutlNegCnt><seq>523</seq><stateDt>20210526</stateDt><stateTime>00:00</stateTime><updateDt>2021-05-27 09:40:52.468</updateDt></item><item><accDefRate>1.4455504748</accDefRate><accExamCnt>9592727</accExamCnt><accExamCompCnt>9475629</accExamCompCnt><careCnt>8044</careCnt><clearCnt>126993</clearCnt><createDt>2021-05-25 09:33:39.762</createDt><deathCnt>1938</deathCnt><decideCnt>136975</decideCnt><examCnt>117098</examCnt><resutlNegCnt>9338654</resutlNegCnt><seq>522</seq><stateDt>20210525</stateDt><stateTime>00:00</stateTime><updateDt>2021-05-26 17:26:57.787</updateDt></item><item><accDefRate>1.4466269101</accDefRate><accExamCnt>9553613</accExamCnt><accExamCompCnt>9432909</accExamCompCnt><careCnt>8098</careCnt><clearCnt>126427</clearCnt><createDt>2021-05-24 09:42:11.785</createDt><deathCnt>1934</deathCnt><decideCnt>136459</decideCnt><examCnt>120704</examCnt><resutlNegCnt>9296450</resutlNegCnt><seq>521</seq><stateDt>20210524</stateDt><stateTime>00:00</stateTime><updateDt>2021-05-26 17:11:27.494</updateDt></item><item><accDefRate>1.4438928819</accDefRate><accExamCnt>9536299</accExamCnt><accExamCompCnt>9414064</accExamCompCnt><careCnt>8117</careCnt><clearCnt>125881</clearCnt><createDt>2021-05-23 09:37:54.099</createDt><deathCnt>1931</deathCnt><decideCnt>135929</decideCnt><examCnt>122235</examCnt><resutlNegCnt>9278135</resutlNegCnt><seq>520</seq><stateDt>20210523</stateDt><stateTime>00:00</stateTime><updateDt>null</updateDt></item><item><accDefRate>1.4393079615</accDefRate><accExamCnt>9520966</accExamCnt><accExamCompCnt>9403408</accExamCompCnt><careCnt>8386</careCnt><clearCnt>125032</clearCnt><createDt>2021-05-22 09:37:01.885</createDt><deathCnt>1926</deathCnt><decideCnt>135344</decideCnt><examCnt>117558</examCnt><resutlNegCnt>9268064</resutlNegCnt><seq>519</seq><stateDt>20210522</stateDt><stateTime>00:00</stateTime><updateDt>null</updateDt></item><item><accDefRate>1.4368773847</accDefRate><accExamCnt>9487108</accExamCnt><accExamCompCnt>9372964</accExamCompCnt><careCnt>8598</careCnt><clearCnt>124158</clearCnt><createDt>2021-05-21 09:36:32.023</createDt><deathCnt>1922</deathCnt><decideCnt>134678</decideCnt><examCnt>114144</examCnt><resutlNegCnt>9238286</resutlNegCnt><seq>518</seq><stateDt>20210521</stateDt><stateTime>00:00</stateTime><updateDt>null</updateDt></item><item><accDefRate>1.4361751397</accDefRate><accExamCnt>9447358</accExamCnt><accExamCompCnt>9338485</accExamCompCnt><careCnt>8542</careCnt><clearCnt>123659</clearCnt><createDt>2021-05-20 09:35:45.542</createDt><deathCnt>1916</deathCnt><decideCnt>134117</decideCnt><examCnt>108873</examCnt><resutlNegCnt>9204368</resutlNegCnt><seq>517</seq><stateDt>20210520</stateDt><stateTime>00:00</stateTime><updateDt>2021-05-21 09:47:58.875</updateDt></item><item><accDefRate>1.4314548779</accDefRate><accExamCnt>9428644</accExamCnt><accExamCompCnt>9324150</accExamCompCnt><careCnt>8322</careCnt><clearCnt>123237</clearCnt><createDt>2021-05-19 09:39:48.186</createDt><deathCnt>1912</deathCnt><decideCnt>133471</decideCnt><examCnt>104494</examCnt><resutlNegCnt>9190679</resutlNegCnt><seq>516</seq><stateDt>20210519</stateDt><stateTime>00:00</stateTime><updateDt>null</updateDt></item><item><accDefRate>1.4294430308</accDefRate><accExamCnt>9395004</accExamCnt><accExamCompCnt>9291591</accExamCompCnt><careCnt>8283</careCnt><clearCnt>122631</clearCnt><createDt>2021-05-18 09:41:35.393</createDt><deathCnt>1904</deathCnt><decideCnt>132818</decideCnt><examCnt>103413</examCnt><resutlNegCnt>9158773</resutlNegCnt><seq>515</seq><stateDt>20210518</stateDt><stateTime>00:00</stateTime><updateDt>null</updateDt></item><item><accDefRate>1.4299308998</accDefRate><accExamCnt>9353300</accExamCnt><accExamCompCnt>9251496</accExamCompCnt><careCnt>8224</careCnt><clearCnt>122163</clearCnt><createDt>2021-05-17 09:39:34.169</createDt><deathCnt>1903</deathCnt><decideCnt>132290</decideCnt><examCnt>101804</examCnt><resutlNegCnt>9119206</resutlNegCnt><seq>514</seq><stateDt>20210517</stateDt><stateTime>00:00</stateTime><updateDt>null</updateDt></item><item><accDefRate>1.4257899148</accDefRate><accExamCnt>9336614</accExamCnt><accExamCompCnt>9234951</accExamCompCnt><careCnt>8007</careCnt><clearCnt>121764</clearCnt><createDt>2021-05-16 09:26:31.589</createDt><deathCnt>1900</deathCnt><decideCnt>131671</decideCnt><examCnt>101663</examCnt><resutlNegCnt>9103280</resutlNegCnt><seq>513</seq><stateDt>20210516</stateDt><stateTime>00:00</stateTime><updateDt>null</updateDt></item><item><accDefRate>1.4215047097</accDefRate><accExamCnt>9319094</accExamCnt><accExamCompCnt>9219878</accExamCompCnt><careCnt>7883</careCnt><clearCnt>121282</clearCnt><createDt>2021-05-15 09:38:53.579</createDt><deathCnt>1896</deathCnt><decideCnt>131061</decideCnt><examCnt>99216</examCnt><resutlNegCnt>9088817</resutlNegCnt><seq>512</seq><stateDt>20210515</stateDt><stateTime>00:00</stateTime><updateDt>null</updateDt></item><item><accDefRate>1.4193209445</accDefRate><accExamCnt>9281291</accExamCnt><accExamCompCnt>9186083</accExamCompCnt><careCnt>8092</careCnt><clearCnt>120395</clearCnt><createDt>2021-05-14 09:44:47.494</createDt><deathCnt>1893</deathCnt><decideCnt>130380</decideCnt><examCnt>95208</examCnt><resutlNegCnt>9055703</resutlNegCnt><seq>511</seq><stateDt>20210514</stateDt><stateTime>00:00</stateTime><updateDt>null</updateDt></item><item><accDefRate>1.4161913364</accDefRate><accExamCnt>9241153</accExamCnt><accExamCompCnt>9153636</accExamCompCnt><careCnt>7836</careCnt><clearCnt>119906</clearCnt><createDt>2021-05-13 09:41:10.7</createDt><deathCnt>1891</deathCnt><decideCnt>129633</decideCnt><examCnt>87517</examCnt><resutlNegCnt>9024003</resutlNegCnt><seq>510</seq><stateDt>20210513</stateDt><stateTime>00:00</stateTime><updateDt>null</updateDt></item><item><accDefRate>1.4139993813</accDefRate><accExamCnt>9201539</accExamCnt><accExamCompCnt>9117260</accExamCompCnt><careCnt>7661</careCnt><clearCnt>119373</clearCnt><createDt>2021-05-12 09:38:47.792</createDt><deathCnt>1884</deathCnt><decideCnt>128918</decideCnt><examCnt>84279</examCnt><resutlNegCnt>8988342</resutlNegCnt><seq>509</seq><stateDt>20210512</stateDt><stateTime>00:00</stateTime><updateDt>null</updateDt></item><item><accDefRate>1.4128508833</accDefRate><accExamCnt>9164284</accExamCnt><accExamCompCnt>9079656</accExamCompCnt><careCnt>7686</careCnt><clearCnt>118717</clearCnt><createDt>2021-05-11 09:39:41.186</createDt><deathCnt>1879</deathCnt><decideCnt>128282</decideCnt><examCnt>84628</examCnt><resutlNegCnt>8951374</resutlNegCnt><seq>508</seq><stateDt>20210511</stateDt><stateTime>00:00</stateTime><updateDt>2021-05-27 09:53:30.741</updateDt></item><item><accDefRate>1.4136164637</accDefRate><accExamCnt>9122059</accExamCnt><accExamCompCnt>9038661</accExamCompCnt><careCnt>8053</careCnt><clearCnt>117844</clearCnt><createDt>2021-05-10 09:36:30.35</createDt><deathCnt>1875</deathCnt><decideCnt>127772</decideCnt><examCnt>83398</examCnt><resutlNegCnt>8910889</resutlNegCnt><seq>507</seq><stateDt>20210510</stateDt><stateTime>00:00</stateTime><updateDt>null</updateDt></item><item><accDefRate>1.4107056010</accDefRate><accExamCnt>9105771</accExamCnt><accExamCompCnt>9024491</accExamCompCnt><careCnt>8012</careCnt><clearCnt>117423</clearCnt><createDt>2021-05-09 09:38:01.137</createDt><deathCnt>1874</deathCnt><decideCnt>127309</decideCnt><examCnt>81280</examCnt><resutlNegCnt>8897182</resutlNegCnt><seq>506</seq><stateDt>20210509</stateDt><stateTime>00:00</stateTime><updateDt>null</updateDt></item><item><accDefRate>1.4065731673</accDefRate><accExamCnt>9089166</accExamCnt><accExamCompCnt>9010907</accExamCompCnt><careCnt>7999</careCnt><clearCnt>116881</clearCnt><createDt>2021-05-08 09:37:54.141</createDt><deathCnt>1865</deathCnt><decideCnt>126745</decideCnt><examCnt>78259</examCnt><resutlNegCnt>8884162</resutlNegCnt><seq>505</seq><stateDt>20210508</stateDt><stateTime>00:00</stateTime><updateDt>null</updateDt></item><item><accDefRate>1.4047878518</accDefRate><accExamCnt>9051354</accExamCnt><accExamCompCnt>8972458</accExamCompCnt><careCnt>8162</careCnt><clearCnt>116022</clearCnt><createDt>2021-05-07 09:38:57.839</createDt><deathCnt>1860</deathCnt><decideCnt>126044</decideCnt><examCnt>78896</examCnt><resutlNegCnt>8846414</resutlNegCnt><seq>504</seq><stateDt>20210507</stateDt><stateTime>00:00</stateTime><updateDt>null</updateDt></item><item><accDefRate>1.4049684926</accDefRate><accExamCnt>9010992</accExamCnt><accExamCompCnt>8933937</accExamCompCnt><careCnt>8177</careCnt><clearCnt>115491</clearCnt><createDt>2021-05-06 09:34:55.519</createDt><deathCnt>1851</deathCnt><decideCnt>125519</decideCnt><examCnt>77055</examCnt><resutlNegCnt>8808418</resutlNegCnt><seq>503</seq><stateDt>20210506</stateDt><stateTime>00:00</stateTime><updateDt>null</updateDt></item><item><accDefRate>1.4015026684</accDefRate><accExamCnt>8994069</accExamCnt><accExamCompCnt>8915074</accExamCompCnt><careCnt>8154</careCnt><clearCnt>114944</clearCnt><createDt>2021-05-05 09:37:42.237</createDt><deathCnt>1847</deathCnt><decideCnt>124945</decideCnt><examCnt>78995</examCnt><resutlNegCnt>8790129</resutlNegCnt><seq>502</seq><stateDt>20210505</stateDt><stateTime>00:00</stateTime><updateDt>null</updateDt></item><item><accDefRate>1.3995739863</accDefRate><accExamCnt>8957155</accExamCnt><accExamCompCnt>8879059</accExamCompCnt><careCnt>8301</careCnt><clearCnt>114128</clearCnt><createDt>2021-05-04 09:46:01.635</createDt><deathCnt>1840</deathCnt><decideCnt>124269</decideCnt><examCnt>78096</examCnt><resutlNegCnt>8754790</resutlNegCnt><seq>501</seq><stateDt>20210504</stateDt><stateTime>00:00</stateTime><updateDt>null</updateDt></item><item><accDefRate>1.4018098628</accDefRate><accExamCnt>8915326</accExamCnt><accExamCompCnt>8826304</accExamCompCnt><careCnt>8538</careCnt><clearCnt>113356</clearCnt><createDt>2021-05-03 09:31:59.949</createDt><deathCnt>1834</deathCnt><decideCnt>123728</decideCnt><examCnt>89022</examCnt><resutlNegCnt>8702576</resutlNegCnt><seq>500</seq><stateDt>20210503</stateDt><stateTime>00:00</stateTime><updateDt>null</updateDt></item><item><accDefRate>1.3986066364</accDefRate><accExamCnt>8898234</accExamCnt><accExamCompCnt>8811627</accExamCompCnt><careCnt>8542</careCnt><clearCnt>112865</clearCnt><createDt>2021-05-02 09:23:20.57</createDt><deathCnt>1833</deathCnt><decideCnt>123240</decideCnt><examCnt>86607</examCnt><resutlNegCnt>8688387</resutlNegCnt><seq>499</seq><stateDt>20210502</stateDt><stateTime>00:00</stateTime><updateDt>null</updateDt></item><item><accDefRate>1.3938570903</accDefRate><accExamCnt>8883388</accExamCnt><accExamCompCnt>8798176</accExamCompCnt><careCnt>8466</careCnt><clearCnt>112337</clearCnt><createDt>2021-05-01 09:17:27.172</createDt><deathCnt>1831</deathCnt><decideCnt>122634</decideCnt><examCnt>85212</examCnt><resutlNegCnt>8675542</resutlNegCnt><seq>498</seq><stateDt>20210501</stateDt><stateTime>00:00</stateTime><updateDt>null</updateDt></item><item><accDefRate>1.3918554433</accDefRate><accExamCnt>8848292</accExamCnt><accExamCompCnt>8765781</accExamCompCnt><careCnt>8757</careCnt><clearCnt>111422</clearCnt><createDt>2021-04-30 09:33:44.165</createDt><deathCnt>1828</deathCnt><decideCnt>122007</decideCnt><examCnt>82511</examCnt><resutlNegCnt>8643774</resutlNegCnt><seq>497</seq><stateDt>20210430</stateDt><stateTime>00:00</stateTime><updateDt>null</updateDt></item><item><accDefRate>1.3907242112</accDefRate><accExamCnt>8805774</accExamCnt><accExamCompCnt>8725382</accExamCompCnt><careCnt>8734</careCnt><clearCnt>110787</clearCnt><createDt>2021-04-29 09:32:46.339</createDt><deathCnt>1825</deathCnt><decideCnt>121346</decideCnt><examCnt>80392</examCnt><resutlNegCnt>8604036</resutlNegCnt><seq>496</seq><stateDt>20210429</stateDt><stateTime>00:00</stateTime><updateDt>2021-04-30 09:39:29.337</updateDt></item><item><accDefRate>1.3886694305</accDefRate><accExamCnt>8766491</accExamCnt><accExamCompCnt>8689325</accExamCompCnt><careCnt>8597</careCnt><clearCnt>110248</clearCnt><createDt>2021-04-28 09:33:01.863</createDt><deathCnt>1821</deathCnt><decideCnt>120666</decideCnt><examCnt>77166</examCnt><resutlNegCnt>8568659</resutlNegCnt><seq>495</seq><stateDt>20210428</stateDt><stateTime>00:00</stateTime><updateDt>2021-04-30 09:39:12.945</updateDt></item><item><accDefRate>1.3868895227</accDefRate><accExamCnt>8721609</accExamCnt><accExamCompCnt>8645101</accExamCompCnt><careCnt>8383</careCnt><clearCnt>109695</clearCnt><createDt>2021-04-27 09:34:47.417</createDt><deathCnt>1820</deathCnt><decideCnt>119898</decideCnt><examCnt>76508</examCnt><resutlNegCnt>8525203</resutlNegCnt><seq>494</seq><stateDt>20210427</stateDt><stateTime>00:00</stateTime><updateDt>null</updateDt></item><item><accDefRate>1.3890340008</accDefRate><accExamCnt>8672978</accExamCnt><accExamCompCnt>8594894</accExamCompCnt><careCnt>8719</careCnt><clearCnt>108850</clearCnt><createDt>2021-04-26 09:42:14.75</createDt><deathCnt>1817</deathCnt><decideCnt>119386</decideCnt><examCnt>78084</examCnt><resutlNegCnt>8475508</resutlNegCnt><seq>493</seq><stateDt>20210426</stateDt><stateTime>00:00</stateTime><updateDt>2021-04-27 09:37:24.371</updateDt></item><item><accDefRate>1.3860766953</accDefRate><accExamCnt>8654791</accExamCnt><accExamCompCnt>8577231</accExamCompCnt><careCnt>8599</careCnt><clearCnt>108475</clearCnt><createDt>2021-04-25 09:52:51.000</createDt><deathCnt>1813</deathCnt><decideCnt>118887</decideCnt><examCnt>77560</examCnt><resutlNegCnt>8458344</resutlNegCnt><seq>492</seq><stateDt>20210425</stateDt><stateTime>00:00</stateTime><updateDt>null</updateDt></item><item><accDefRate>1.3822066912</accDefRate><accExamCnt>8632923</accExamCnt><accExamCompCnt>8554654</accExamCompCnt><careCnt>8650</careCnt><clearCnt>107781</clearCnt><createDt>2021-04-24 09:38:23.778</createDt><deathCnt>1812</deathCnt><decideCnt>118243</decideCnt><examCnt>78269</examCnt><resutlNegCnt>8436411</resutlNegCnt><seq>491</seq><stateDt>20210424</stateDt><stateTime>00:00</stateTime><updateDt>null</updateDt></item><item><accDefRate>1.3796528397</accDefRate><accExamCnt>8583530</accExamCnt><accExamCompCnt>8513591</accExamCompCnt><careCnt>8576</careCnt><clearCnt>107071</clearCnt><createDt>2021-04-23 09:51:40.55</createDt><deathCnt>1811</deathCnt><decideCnt>117458</decideCnt><examCnt>69939</examCnt><resutlNegCnt>8396133</resutlNegCnt><seq>490</seq><stateDt>20210423</stateDt><stateTime>00:00</stateTime><updateDt>null</updateDt></item><item><accDefRate>1.3772840512</accDefRate><accExamCnt>8537505</accExamCnt><accExamCompCnt>8470366</accExamCompCnt><careCnt>8394</careCnt><clearCnt>106459</clearCnt><createDt>2021-04-22 09:31:58.246</createDt><deathCnt>1808</deathCnt><decideCnt>116661</decideCnt><examCnt>67139</examCnt><resutlNegCnt>8353705</resutlNegCnt><seq>489</seq><stateDt>20210422</stateDt><stateTime>00:00</stateTime><updateDt>null</updateDt></item><item><accDefRate>1.3750976675</accDefRate><accExamCnt>8497594</accExamCnt><accExamCompCnt>8430383</accExamCompCnt><careCnt>8243</careCnt><clearCnt>105877</clearCnt><createDt>2021-04-21 09:36:56.675</createDt><deathCnt>1806</deathCnt><decideCnt>115926</decideCnt><examCnt>67211</examCnt><resutlNegCnt>8314457</resutlNegCnt><seq>488</seq><stateDt>20210421</stateDt><stateTime>00:00</stateTime><updateDt>null</updateDt></item><item><accDefRate>1.3726760312</accDefRate><accExamCnt>8458592</accExamCnt><accExamCompCnt>8392002</accExamCompCnt><careCnt>8166</careCnt><clearCnt>105227</clearCnt><createDt>2021-04-20 09:34:02.801</createDt><deathCnt>1802</deathCnt><decideCnt>115195</decideCnt><examCnt>66590</examCnt><resutlNegCnt>8276807</resutlNegCnt><seq>486</seq><stateDt>20210420</stateDt><stateTime>00:00</stateTime><updateDt>null</updateDt></item><item><accDefRate>1.3739837378</accDefRate><accExamCnt>8414821</accExamCnt><accExamCompCnt>8344058</accExamCompCnt><careCnt>8371</careCnt><clearCnt>104474</clearCnt><createDt>2021-04-19 09:39:21.483</createDt><deathCnt>1801</deathCnt><decideCnt>114646</decideCnt><examCnt>70763</examCnt><resutlNegCnt>8229412</resutlNegCnt><seq>485</seq><stateDt>20210419</stateDt><stateTime>00:00</stateTime><updateDt>null</updateDt></item><item><accDefRate>1.3709239987</accDefRate><accExamCnt>8396066</accExamCnt><accExamCompCnt>8323875</accExamCompCnt><careCnt>8311</careCnt><clearCnt>104006</clearCnt><createDt>2021-04-18 09:30:44.979</createDt><deathCnt>1797</deathCnt><decideCnt>114114</decideCnt><examCnt>72191</examCnt><resutlNegCnt>8209761</resutlNegCnt><seq>484</seq><stateDt>20210418</stateDt><stateTime>00:00</stateTime><updateDt>2021-04-19 09:39:27.906</updateDt></item><item><accDefRate>1.3656743037</accDefRate><accExamCnt>8377778</accExamCnt><accExamCompCnt>8306739</accExamCompCnt><careCnt>8055</careCnt><clearCnt>103594</clearCnt><createDt>2021-04-17 09:40:16.606</createDt><deathCnt>1794</deathCnt><decideCnt>113443</decideCnt><examCnt>71039</examCnt><resutlNegCnt>8193296</resutlNegCnt><seq>483</seq><stateDt>20210417</stateDt><stateTime>00:00</stateTime><updateDt>2021-04-18 09:35:59.415</updateDt></item><item><accDefRate>1.3650312837</accDefRate><accExamCnt>8333331</accExamCnt><accExamCompCnt>8262448</accExamCompCnt><careCnt>7933</careCnt><clearCnt>103062</clearCnt><createDt>2021-04-16 09:32:10.738</createDt><deathCnt>1790</deathCnt><decideCnt>112785</decideCnt><examCnt>70883</examCnt><resutlNegCnt>8149663</resutlNegCnt><seq>482</seq><stateDt>20210416</stateDt><stateTime>00:00</stateTime><updateDt>2021-04-20 14:35:13.573</updateDt></item><item><accDefRate>1.3637436290</accDefRate><accExamCnt>8291121</accExamCnt><accExamCompCnt>8220900</accExamCompCnt><careCnt>7811</careCnt><clearCnt>102513</clearCnt><createDt>2021-04-15 09:38:50.34</createDt><deathCnt>1788</deathCnt><decideCnt>112112</decideCnt><examCnt>70221</examCnt><resutlNegCnt>8108788</resutlNegCnt><seq>481</seq><stateDt>20210415</stateDt><stateTime>00:00</stateTime><updateDt>2021-04-20 14:35:43.42</updateDt></item><item><accDefRate>1.3635702742</accDefRate><accExamCnt>8245383</accExamCnt><accExamCompCnt>8170756</accExamCompCnt><careCnt>7649</careCnt><clearCnt>101983</clearCnt><createDt>2021-04-14 09:33:58.653</createDt><deathCnt>1782</deathCnt><decideCnt>111414</decideCnt><examCnt>74627</examCnt><resutlNegCnt>8059342</resutlNegCnt><seq>480</seq><stateDt>20210414</stateDt><stateTime>00:00</stateTime><updateDt>2021-04-20 14:35:54.244</updateDt></item><item><accDefRate>1.3639427573</accDefRate><accExamCnt>8200514</accExamCnt><accExamCompCnt>8114930</accExamCompCnt><careCnt>7576</careCnt><clearCnt>101332</clearCnt><createDt>2021-04-13 09:36:30.661</createDt><deathCnt>1775</deathCnt><decideCnt>110683</decideCnt><examCnt>85584</examCnt><resutlNegCnt>8004247</resutlNegCnt><seq>479</seq><stateDt>20210413</stateDt><stateTime>00:00</stateTime><updateDt>2021-04-20 14:36:13.585</updateDt></item><item><accDefRate>1.3669325463</accDefRate><accExamCnt>8152778</accExamCnt><accExamCompCnt>8057530</accExamCompCnt><careCnt>7567</careCnt><clearCnt>100804</clearCnt><createDt>2021-04-12 09:36:52.596</createDt><deathCnt>1770</deathCnt><decideCnt>110141</decideCnt><examCnt>95248</examCnt><resutlNegCnt>7947389</resutlNegCnt><seq>478</seq><stateDt>20210412</stateDt><stateTime>00:00</stateTime><updateDt>2021-04-20 14:36:31.34</updateDt></item><item><accDefRate>1.3630157591</accDefRate><accExamCnt>8129527</accExamCnt><accExamCompCnt>8037618</accExamCompCnt><careCnt>7677</careCnt><clearCnt>100109</clearCnt><createDt>2021-04-11 09:36:07.611</createDt><deathCnt>1768</deathCnt><decideCnt>109554</decideCnt><examCnt>91909</examCnt><resutlNegCnt>7928064</resutlNegCnt><seq>477</seq><stateDt>20210411</stateDt><stateTime>00:00</stateTime><updateDt>2021-04-20 14:36:51.706</updateDt></item><item><accDefRate>1.3589283551</accDefRate><accExamCnt>8106625</accExamCnt><accExamCompCnt>8016611</accExamCompCnt><careCnt>7874</careCnt><clearCnt>99301</clearCnt><createDt>2021-04-10 09:36:31.907</createDt><deathCnt>1765</deathCnt><decideCnt>108940</decideCnt><examCnt>90014</examCnt><resutlNegCnt>7907671</resutlNegCnt><seq>476</seq><stateDt>20210410</stateDt><stateTime>00:00</stateTime><updateDt>2021-04-20 14:37:10.346</updateDt></item><item><accDefRate>1.3571562435</accDefRate><accExamCnt>8059107</accExamCnt><accExamCompCnt>7977195</accExamCompCnt><careCnt>7713</careCnt><clearCnt>98786</clearCnt><createDt>2021-04-09 09:33:53.3</createDt><deathCnt>1764</deathCnt><decideCnt>108263</decideCnt><examCnt>81912</examCnt><resutlNegCnt>7868932</resutlNegCnt><seq>475</seq><stateDt>20210409</stateDt><stateTime>00:00</stateTime><updateDt>2021-04-20 14:37:51.855</updateDt></item><item><accDefRate>1.3560157697</accDefRate><accExamCnt>8012415</accExamCnt><accExamCompCnt>7934421</accExamCompCnt><careCnt>7474</careCnt><clearCnt>98360</clearCnt><createDt>2021-04-08 09:30:58.826</createDt><deathCnt>1758</deathCnt><decideCnt>107592</decideCnt><examCnt>77994</examCnt><resutlNegCnt>7826829</resutlNegCnt><seq>474</seq><stateDt>20210408</stateDt><stateTime>00:00</stateTime><updateDt>2021-04-20 14:38:13.56</updateDt></item><item><accDefRate>1.3545174256</accDefRate><accExamCnt>7966161</accExamCnt><accExamCompCnt>7891519</accExamCompCnt><careCnt>7208</careCnt><clearCnt>97928</clearCnt><createDt>2021-04-07 09:37:24.979</createDt><deathCnt>1756</deathCnt><decideCnt>106892</decideCnt><examCnt>74642</examCnt><resutlNegCnt>7784627</resutlNegCnt><seq>473</seq><stateDt>20210407</stateDt><stateTime>00:00</stateTime><updateDt>2021-04-20 14:38:33.513</updateDt></item><item><accDefRate>1.3545301282</accDefRate><accExamCnt>7921284</accExamCnt><accExamCompCnt>7842129</accExamCompCnt><careCnt>7109</careCnt><clearCnt>97363</clearCnt><createDt>2021-04-06 09:31:57.498</createDt><deathCnt>1752</deathCnt><decideCnt>106224</decideCnt><examCnt>79155</examCnt><resutlNegCnt>7735905</resutlNegCnt><seq>472</seq><stateDt>20210406</stateDt><stateTime>00:00</stateTime><updateDt>2021-04-20 14:39:01.36</updateDt></item><item><accDefRate>1.3577642823</accDefRate><accExamCnt>7868815</accExamCnt><accExamCompCnt>7788318</accExamCompCnt><careCnt>7099</careCnt><clearCnt>96900</clearCnt><createDt>2021-04-05 09:44:27.235</createDt><deathCnt>1748</deathCnt><decideCnt>105747</decideCnt><examCnt>80497</examCnt><resutlNegCnt>7682571</resutlNegCnt><seq>471</seq><stateDt>20210405</stateDt><stateTime>00:00</stateTime><updateDt>2021-04-20 14:39:30.302</updateDt></item><item><accDefRate>1.3549222354</accDefRate><accExamCnt>7849470</accExamCnt><accExamCompCnt>7769671</accExamCompCnt><careCnt>6940</careCnt><clearCnt>96589</clearCnt><createDt>2021-04-04 09:45:05.147</createDt><deathCnt>1744</deathCnt><decideCnt>105273</decideCnt><examCnt>79799</examCnt><resutlNegCnt>7664398</resutlNegCnt><seq>470</seq><stateDt>20210404</stateDt><stateTime>00:00</stateTime><updateDt>2021-04-20 14:40:12.582</updateDt></item><item><accDefRate>1.3506169731</accDefRate><accExamCnt>7829596</accExamCnt><accExamCompCnt>7754308</accExamCompCnt><careCnt>6795</careCnt><clearCnt>96196</clearCnt><createDt>2021-04-03 09:34:03.806</createDt><deathCnt>1740</deathCnt><decideCnt>104731</decideCnt><examCnt>75288</examCnt><resutlNegCnt>7649577</resutlNegCnt><seq>469</seq><stateDt>20210403</stateDt><stateTime>00:00</stateTime><updateDt>2021-04-20 14:40:25.997</updateDt></item><item><accDefRate>1.3500160284</accDefRate><accExamCnt>7788290</accExamCnt><accExamCompCnt>7717538</accExamCompCnt><careCnt>6590</careCnt><clearCnt>95861</clearCnt><createDt>2021-04-02 09:54:00.108</createDt><deathCnt>1737</deathCnt><decideCnt>104188</decideCnt><examCnt>70752</examCnt><resutlNegCnt>7613350</resutlNegCnt><seq>468</seq><stateDt>20210402</stateDt><stateTime>00:00</stateTime><updateDt>2021-04-20 14:40:42.759</updateDt></item><item><accDefRate>1.3496016740</accDefRate><accExamCnt>7747295</accExamCnt><accExamCompCnt>7678636</accExamCompCnt><careCnt>6457</careCnt><clearCnt>95439</clearCnt><createDt>2021-04-01 09:32:19.52</createDt><deathCnt>1735</deathCnt><decideCnt>103631</decideCnt><examCnt>68659</examCnt><resutlNegCnt>7575005</resutlNegCnt><seq>467</seq><stateDt>20210401</stateDt><stateTime>00:00</stateTime><updateDt>2021-04-20 14:41:23.051</updateDt></item><item><accDefRate>1.3498348063</accDefRate><accExamCnt>7707792</accExamCnt><accExamCompCnt>7636490</accExamCompCnt><careCnt>6319</careCnt><clearCnt>95030</clearCnt><createDt>2021-03-31 09:32:59.933</createDt><deathCnt>1731</deathCnt><decideCnt>103080</decideCnt><examCnt>71302</examCnt><resutlNegCnt>7533410</resutlNegCnt><seq>466</seq><stateDt>20210331</stateDt><stateTime>00:00</stateTime><updateDt>2021-04-20 14:41:41.712</updateDt></item><item><accDefRate>1.3522258784</accDefRate><accExamCnt>7663991</accExamCnt><accExamCompCnt>7585567</accExamCompCnt><careCnt>6282</careCnt><clearCnt>94563</clearCnt><createDt>2021-03-30 09:39:54.626</createDt><deathCnt>1729</deathCnt><decideCnt>102574</decideCnt><examCnt>78424</examCnt><resutlNegCnt>7482993</resutlNegCnt><seq>465</seq><stateDt>20210330</stateDt><stateTime>00:00</stateTime><updateDt>2021-04-20 14:42:04.778</updateDt></item><item><accDefRate>1.3549404905</accDefRate><accExamCnt>7616317</accExamCnt><accExamCompCnt>7537379</accExamCompCnt><careCnt>6277</careCnt><clearCnt>94124</clearCnt><createDt>2021-03-29 09:41:57.983</createDt><deathCnt>1726</deathCnt><decideCnt>102127</decideCnt><examCnt>78938</examCnt><resutlNegCnt>7435252</resutlNegCnt><seq>463</seq><stateDt>20210329</stateDt><stateTime>00:00</stateTime><updateDt>2021-04-20 14:42:25.82</updateDt></item><item><accDefRate>1.3535357754</accDefRate><accExamCnt>7595584</accExamCnt><accExamCompCnt>7516979</accExamCompCnt><careCnt>6168</careCnt><clearCnt>93855</clearCnt><createDt>2021-03-28 11:17:23.373</createDt><deathCnt>1722</deathCnt><decideCnt>101745</decideCnt><examCnt>78605</examCnt><resutlNegCnt>7415234</resutlNegCnt><seq>462</seq><stateDt>20210328</stateDt><stateTime>00:00</stateTime><updateDt>2021-04-20 14:42:38.562</updateDt></item><item><accDefRate>1.3506447984</accDefRate><accExamCnt>7572556</accExamCnt><accExamCompCnt>7497382</accExamCompCnt><careCnt>6067</careCnt><clearCnt>93475</clearCnt><createDt>2021-03-27 09:53:35.032</createDt><deathCnt>1721</deathCnt><decideCnt>101263</decideCnt><examCnt>75174</examCnt><resutlNegCnt>7396119</resutlNegCnt><seq>461</seq><stateDt>20210327</stateDt><stateTime>00:00</stateTime><updateDt>2021-04-20 14:42:54.126</updateDt></item><item><accDefRate>1.3520966636</accDefRate><accExamCnt>7529391</accExamCnt><accExamCompCnt>7451982</accExamCompCnt><careCnt>6412</careCnt><clearCnt>92630</clearCnt><createDt>2021-03-26 09:33:28.3</createDt><deathCnt>1716</deathCnt><decideCnt>100758</decideCnt><examCnt>77409</examCnt><resutlNegCnt>7351224</resutlNegCnt><seq>460</seq><stateDt>20210326</stateDt><stateTime>00:00</stateTime><updateDt>2021-04-20 14:43:22.594</updateDt></item><item><accDefRate>1.3551936113</accDefRate><accExamCnt>7485852</accExamCnt><accExamCompCnt>7398869</accExamCompCnt><careCnt>6492</careCnt><clearCnt>92068</clearCnt><createDt>2021-03-25 09:34:48.91</createDt><deathCnt>1709</deathCnt><decideCnt>100269</decideCnt><examCnt>86983</examCnt><resutlNegCnt>7298600</resutlNegCnt><seq>459</seq><stateDt>20210325</stateDt><stateTime>00:00</stateTime><updateDt>2021-04-20 14:43:42.787</updateDt></item><item><accDefRate>1.3589311485</accDefRate><accExamCnt>7441203</accExamCnt><accExamCompCnt>7346877</accExamCompCnt><careCnt>6572</careCnt><clearCnt>91560</clearCnt><createDt>2021-03-24 09:35:12.391</createDt><deathCnt>1707</deathCnt><decideCnt>99839</decideCnt><examCnt>94326</examCnt><resutlNegCnt>7247038</resutlNegCnt><seq>458</seq><stateDt>20210324</stateDt><stateTime>00:00</stateTime><updateDt>2021-04-20 14:43:58.157</updateDt></item><item><accDefRate>1.3616438070</accDefRate><accExamCnt>7400980</accExamCnt><accExamCompCnt>7300808</accExamCompCnt><careCnt>6628</careCnt><clearCnt>91079</clearCnt><createDt>2021-03-23 09:32:10.986</createDt><deathCnt>1704</deathCnt><decideCnt>99411</decideCnt><examCnt>100172</examCnt><resutlNegCnt>7201397</resutlNegCnt><seq>457</seq><stateDt>20210323</stateDt><stateTime>00:00</stateTime><updateDt>2021-04-20 14:44:18.502</updateDt></item><item><accDefRate>1.3658821352</accDefRate><accExamCnt>7355954</accExamCnt><accExamCompCnt>7252822</accExamCompCnt><careCnt>6757</careCnt><clearCnt>90611</clearCnt><createDt>2021-03-22 10:04:58.004</createDt><deathCnt>1697</deathCnt><decideCnt>99065</decideCnt><examCnt>103132</examCnt><resutlNegCnt>7153757</resutlNegCnt><seq>456</seq><stateDt>20210322</stateDt><stateTime>00:00</stateTime><updateDt>2021-04-20 14:44:34.623</updateDt></item><item><accDefRate>1.3636254938</accDefRate><accExamCnt>7332699</accExamCnt><accExamCompCnt>7234391</accExamCompCnt><careCnt>6626</careCnt><clearCnt>90328</clearCnt><createDt>2021-03-21 09:53:34.815</createDt><deathCnt>1696</deathCnt><decideCnt>98650</decideCnt><examCnt>98308</examCnt><resutlNegCnt>7135741</resutlNegCnt><seq>455</seq><stateDt>20210321</stateDt><stateTime>00:00</stateTime><updateDt>2021-04-20 14:45:11.413</updateDt></item><item><accDefRate>1.3607972486</accDefRate><accExamCnt>7308935</accExamCnt><accExamCompCnt>7215917</accExamCompCnt><careCnt>6552</careCnt><clearCnt>89949</clearCnt><createDt>2021-03-20 09:31:53.146</createDt><deathCnt>1693</deathCnt><decideCnt>98194</decideCnt><examCnt>93018</examCnt><resutlNegCnt>7117723</resutlNegCnt><seq>454</seq><stateDt>20210320</stateDt><stateTime>00:00</stateTime><updateDt>2021-04-20 14:45:35.163</updateDt></item><item><accDefRate>1.3620256974</accDefRate><accExamCnt>7264931</accExamCnt><accExamCompCnt>7176590</accExamCompCnt><careCnt>6534</careCnt><clearCnt>89523</clearCnt><createDt>2021-03-19 09:32:03.884</createDt><deathCnt>1690</deathCnt><decideCnt>97747</decideCnt><examCnt>88341</examCnt><resutlNegCnt>7078843</resutlNegCnt><seq>453</seq><stateDt>20210319</stateDt><stateTime>00:00</stateTime><updateDt>2021-04-20 14:45:53.021</updateDt></item><item><accDefRate>1.3647468455</accDefRate><accExamCnt>7218077</accExamCnt><accExamCompCnt>7128355</accExamCompCnt><careCnt>6418</careCnt><clearCnt>89178</clearCnt><createDt>2021-03-18 09:38:40.962</createDt><deathCnt>1688</deathCnt><decideCnt>97284</decideCnt><examCnt>89722</examCnt><resutlNegCnt>7031071</resutlNegCnt><seq>452</seq><stateDt>20210318</stateDt><stateTime>00:00</stateTime><updateDt>2021-04-20 14:46:21.32</updateDt></item><item><accDefRate>1.3662313887</accDefRate><accExamCnt>7171500</accExamCnt><accExamCompCnt>7088038</accExamCompCnt><careCnt>6339</careCnt><clearCnt>88814</clearCnt><createDt>2021-03-17 09:31:37.789</createDt><deathCnt>1686</deathCnt><decideCnt>96839</decideCnt><examCnt>83462</examCnt><resutlNegCnt>6991199</resutlNegCnt><seq>451</seq><stateDt>20210317</stateDt><stateTime>00:00</stateTime><updateDt>2021-04-20 14:46:39.82</updateDt></item><item><accDefRate>1.3673337899</accDefRate><accExamCnt>7126067</accExamCnt><accExamCompCnt>7048023</accExamCompCnt><careCnt>6437</careCnt><clearCnt>88255</clearCnt><createDt>2021-03-16 09:36:13.502</createDt><deathCnt>1678</deathCnt><decideCnt>96370</decideCnt><examCnt>78044</examCnt><resutlNegCnt>6951653</resutlNegCnt><seq>450</seq><stateDt>20210316</stateDt><stateTime>00:00</stateTime><updateDt>2021-04-20 14:46:59.298</updateDt></item><item><accDefRate>1.3689198014</accDefRate><accExamCnt>7084930</accExamCnt><accExamCompCnt>7013340</accExamCompCnt><careCnt>6578</careCnt><clearCnt>87754</clearCnt><createDt>2021-03-15 09:51:09.37</createDt><deathCnt>1675</deathCnt><decideCnt>96007</decideCnt><examCnt>71590</examCnt><resutlNegCnt>6917333</resutlNegCnt><seq>449</seq><stateDt>20210315</stateDt><stateTime>00:00</stateTime><updateDt>2021-04-20 14:47:28.958</updateDt></item><item><accDefRate>1.3667877215</accDefRate><accExamCnt>7066394</accExamCnt><accExamCompCnt>6996551</accExamCompCnt><careCnt>6551</careCnt><clearCnt>87408</clearCnt><createDt>2021-03-14 09:42:57.64</createDt><deathCnt>1669</deathCnt><decideCnt>95628</decideCnt><examCnt>69843</examCnt><resutlNegCnt>6900923</resutlNegCnt><seq>448</seq><stateDt>20210314</stateDt><stateTime>00:00</stateTime><updateDt>2021-04-20 14:47:44.94</updateDt></item><item><accDefRate>1.3636674313</accDefRate><accExamCnt>7046775</accExamCnt><accExamCompCnt>6978901</accExamCompCnt><careCnt>6877</careCnt><clearCnt>86625</clearCnt><createDt>2021-03-13 09:36:41.886</createDt><deathCnt>1667</deathCnt><decideCnt>95169</decideCnt><examCnt>67874</examCnt><resutlNegCnt>6883732</resutlNegCnt><seq>447</seq><stateDt>20210313</stateDt><stateTime>00:00</stateTime><updateDt>2021-04-20 14:48:06.227</updateDt></item><item><accDefRate>1.3634807664</accDefRate><accExamCnt>7012657</accExamCnt><accExamCompCnt>6943919</accExamCompCnt><careCnt>7274</careCnt><clearCnt>85743</clearCnt><createDt>2021-03-12 09:49:58.077</createDt><deathCnt>1662</deathCnt><decideCnt>94679</decideCnt><examCnt>68738</examCnt><resutlNegCnt>6849240</resutlNegCnt><seq>446</seq><stateDt>20210312</stateDt><stateTime>00:00</stateTime><updateDt>2021-04-20 14:48:36.524</updateDt></item><item><accDefRate>1.3633620071</accDefRate><accExamCnt>6976978</accExamCnt><accExamCompCnt>6908730</accExamCompCnt><careCnt>7864</careCnt><clearCnt>84675</clearCnt><createDt>2021-03-11 09:39:02.159</createDt><deathCnt>1652</deathCnt><decideCnt>94191</decideCnt><examCnt>68248</examCnt><resutlNegCnt>6814539</resutlNegCnt><seq>445</seq><stateDt>20210311</stateDt><stateTime>00:00</stateTime><updateDt>2021-04-20 14:48:58.191</updateDt></item><item><accDefRate>1.3645577504</accDefRate><accExamCnt>6938877</accExamCnt><accExamCompCnt>6868599</accExamCompCnt><careCnt>7766</careCnt><clearCnt>84312</clearCnt><createDt>2021-03-10 09:45:29.181</createDt><deathCnt>1648</deathCnt><decideCnt>93726</decideCnt><examCnt>70278</examCnt><resutlNegCnt>6774873</resutlNegCnt><seq>444</seq><stateDt>20210310</stateDt><stateTime>00:00</stateTime><updateDt>2021-04-20 14:50:56.417</updateDt></item><item><accDefRate>1.3648931953</accDefRate><accExamCnt>6902977</accExamCnt><accExamCompCnt>6832476</accExamCompCnt><careCnt>7711</careCnt><clearCnt>83900</clearCnt><createDt>2021-03-09 09:52:46.909</createDt><deathCnt>1645</deathCnt><decideCnt>93256</decideCnt><examCnt>70501</examCnt><resutlNegCnt>6739220</resutlNegCnt><seq>443</seq><stateDt>20210309</stateDt><stateTime>00:00</stateTime><updateDt>2021-04-20 14:51:28.616</updateDt></item><item><accDefRate>1.3659762557</accDefRate><accExamCnt>6861802</accExamCnt><accExamCompCnt>6794408</accExamCompCnt><careCnt>7694</careCnt><clearCnt>83474</clearCnt><createDt>2021-03-08 09:31:46.646</createDt><deathCnt>1642</deathCnt><decideCnt>92810</decideCnt><examCnt>67394</examCnt><resutlNegCnt>6701598</resutlNegCnt><seq>442</seq><stateDt>20210308</stateDt><stateTime>00:00</stateTime><updateDt>2021-04-20 14:51:41.422</updateDt></item><item><accDefRate>1.3644352882</accDefRate><accExamCnt>6843119</accExamCnt><accExamCompCnt>6776723</accExamCompCnt><careCnt>7610</careCnt><clearCnt>83220</clearCnt><createDt>2021-03-07 09:52:34.246</createDt><deathCnt>1634</deathCnt><decideCnt>92464</decideCnt><examCnt>66396</examCnt><resutlNegCnt>6684259</resutlNegCnt><seq>441</seq><stateDt>20210307</stateDt><stateTime>00:00</stateTime><updateDt>2021-04-20 14:51:55.518</updateDt></item><item><accDefRate>1.3623087379</accDefRate><accExamCnt>6821936</accExamCnt><accExamCompCnt>6756765</accExamCompCnt><careCnt>7503</careCnt><clearCnt>82913</clearCnt><createDt>2021-03-06 09:40:17.621</createDt><deathCnt>1632</deathCnt><decideCnt>92048</decideCnt><examCnt>65171</examCnt><resutlNegCnt>6664717</resutlNegCnt><seq>440</seq><stateDt>20210306</stateDt><stateTime>00:00</stateTime><updateDt>2021-04-20 14:56:41.076</updateDt></item><item><accDefRate>1.3624677096</accDefRate><accExamCnt>6789004</accExamCnt><accExamCompCnt>6725297</accExamCompCnt><careCnt>7443</careCnt><clearCnt>82560</clearCnt><createDt>2021-03-05 09:41:54.92</createDt><deathCnt>1627</deathCnt><decideCnt>91630</decideCnt><examCnt>63707</examCnt><resutlNegCnt>6633667</resutlNegCnt><seq>439</seq><stateDt>20210305</stateDt><stateTime>00:00</stateTime><updateDt>2021-04-20 14:57:05.073</updateDt></item><item><accDefRate>1.3633393924</accDefRate><accExamCnt>6751893</accExamCnt><accExamCompCnt>6691804</accExamCompCnt><careCnt>7451</careCnt><clearCnt>82162</clearCnt><createDt>2021-03-04 09:33:23.999</createDt><deathCnt>1619</deathCnt><decideCnt>91232</decideCnt><examCnt>60089</examCnt><resutlNegCnt>6600572</resutlNegCnt><seq>438</seq><stateDt>20210304</stateDt><stateTime>00:00</stateTime><updateDt>2021-04-20 14:57:22.272</updateDt></item><item><accDefRate>1.3654662799</accDefRate><accExamCnt>6716196</accExamCnt><accExamCompCnt>6650329</accExamCompCnt><careCnt>7496</careCnt><clearCnt>81700</clearCnt><createDt>2021-03-03 09:33:02.813</createDt><deathCnt>1612</deathCnt><decideCnt>90808</decideCnt><examCnt>65867</examCnt><resutlNegCnt>6559521</resutlNegCnt><seq>437</seq><stateDt>20210303</stateDt><stateTime>00:00</stateTime><updateDt>2021-04-20 14:57:38.163</updateDt></item><item><accDefRate>1.3673828261</accDefRate><accExamCnt>6681969</accExamCnt><accExamCompCnt>6608537</accExamCompCnt><careCnt>7420</careCnt><clearCnt>81338</clearCnt><createDt>2021-03-02 09:32:41.95</createDt><deathCnt>1606</deathCnt><decideCnt>90364</decideCnt><examCnt>73432</examCnt><resutlNegCnt>6518173</resutlNegCnt><seq>436</seq><stateDt>20210302</stateDt><stateTime>00:00</stateTime><updateDt>2021-04-20 14:57:59.417</updateDt></item><item><accDefRate>1.3655942458</accDefRate><accExamCnt>6665747</accExamCnt><accExamCompCnt>6592002</accExamCompCnt><careCnt>7345</careCnt><clearCnt>81070</clearCnt><createDt>2021-03-01 09:48:21.402</createDt><deathCnt>1605</deathCnt><decideCnt>90020</decideCnt><examCnt>73745</examCnt><resutlNegCnt>6501982</resutlNegCnt><seq>435</seq><stateDt>20210301</stateDt><stateTime>00:00</stateTime><updateDt>2021-04-20 14:58:56.038</updateDt></item></items><numOfRows>10</numOfRows><pageNo>1</pageNo><totalCount>92</totalCount></body></response>\n"
          ],
          "name": "stdout"
        }
      ]
    },
    {
      "cell_type": "code",
      "metadata": {
        "colab": {
          "base_uri": "https://localhost:8080/"
        },
        "id": "BpjKpHlsH6eV",
        "outputId": "f63dec42-243a-40da-9634-a1a79d9e5480"
      },
      "source": [
        "!pip install bs4"
      ],
      "execution_count": null,
      "outputs": [
        {
          "output_type": "stream",
          "text": [
            "Requirement already satisfied: bs4 in /usr/local/lib/python3.7/dist-packages (0.0.1)\n",
            "Requirement already satisfied: beautifulsoup4 in /usr/local/lib/python3.7/dist-packages (from bs4) (4.6.3)\n"
          ],
          "name": "stdout"
        }
      ]
    },
    {
      "cell_type": "code",
      "metadata": {
        "colab": {
          "base_uri": "https://localhost:8080/"
        },
        "id": "TU1ZiEMDMKRf",
        "outputId": "e40daf90-517d-408e-fb0c-234fc4506b8f"
      },
      "source": [
        "from bs4 import BeautifulSoup\n",
        "\n",
        "soup = BeautifulSoup(response_body, 'html.parser')\n",
        "\n",
        "#soup.findAll('item')\n",
        "\n",
        "item_list = soup.findAll('item')\n",
        "\n",
        "for item in item_list:\n",
        "  print(item)\n",
        "  print('-------------------')"
      ],
      "execution_count": null,
      "outputs": [
        {
          "output_type": "stream",
          "text": [
            "<item><accdefrate>1.4568360166</accdefrate><accexamcnt>9761158</accexamcnt><accexamcompcnt>9633205</accexamcompcnt><carecnt>7558</carecnt><clearcnt>130823</clearcnt><createdt>2021-05-31 09:34:29.254</createdt><deathcnt>1959</deathcnt><decidecnt>140340</decidecnt><examcnt>127953</examcnt><resutlnegcnt>9492865</resutlnegcnt><seq>528</seq><statedt>20210531</statedt><statetime>00:00</statetime><updatedt>null</updatedt></item>\n",
            "-------------------\n",
            "<item><accdefrate>1.4541964496</accdefrate><accexamcnt>9747614</accexamcnt><accexamcompcnt>9621121</accexamcompcnt><carecnt>7572</carecnt><clearcnt>130381</clearcnt><createdt>2021-05-30 09:24:39.384</createdt><deathcnt>1957</deathcnt><decidecnt>139910</decidecnt><examcnt>126493</examcnt><resutlnegcnt>9481211</resutlnegcnt><seq>527</seq><statedt>20210530</statedt><statetime>00:00</statetime><updatedt>null</updatedt></item>\n",
            "-------------------\n",
            "<item><accdefrate>1.4509249463</accdefrate><accexamcnt>9733591</accexamcnt><accexamcompcnt>9609801</accexamcompcnt><carecnt>7741</carecnt><clearcnt>129739</clearcnt><createdt>2021-05-29 09:45:26.765</createdt><deathcnt>1951</deathcnt><decidecnt>139431</decidecnt><examcnt>123790</examcnt><resutlnegcnt>9470370</resutlnegcnt><seq>526</seq><statedt>20210529</statedt><statetime>00:00</statetime><updatedt>null</updatedt></item>\n",
            "-------------------\n",
            "<item><accdefrate>1.4499377008</accdefrate><accexamcnt>9702456</accexamcnt><accexamcompcnt>9579584</accexamcompcnt><carecnt>8193</carecnt><clearcnt>128759</clearcnt><createdt>2021-05-28 09:34:29.553</createdt><deathcnt>1946</deathcnt><decidecnt>138898</decidecnt><examcnt>122872</examcnt><resutlnegcnt>9440686</resutlnegcnt><seq>525</seq><statedt>20210528</statedt><statetime>00:00</statetime><updatedt>2021-05-29 09:47:35.466</updatedt></item>\n",
            "-------------------\n",
            "<item><accdefrate>1.4493399059</accdefrate><accexamcnt>9665693</accexamcnt><accexamcompcnt>9543034</accexamcompcnt><carecnt>8188</carecnt><clearcnt>128180</clearcnt><createdt>2021-05-27 09:39:43.099</createdt><deathcnt>1943</deathcnt><decidecnt>138311</decidecnt><examcnt>122659</examcnt><resutlnegcnt>9404723</resutlnegcnt><seq>524</seq><statedt>20210527</statedt><statetime>00:00</statetime><updatedt>null</updatedt></item>\n",
            "-------------------\n",
            "<item><accdefrate>1.4479226274</accdefrate><accexamcnt>9629450</accexamcnt><accexamcompcnt>9508381</accexamcompcnt><carecnt>8160</carecnt><clearcnt>127574</clearcnt><createdt>2021-05-26 09:46:42.628</createdt><deathcnt>1940</deathcnt><decidecnt>137674</decidecnt><examcnt>121069</examcnt><resutlnegcnt>9370707</resutlnegcnt><seq>523</seq><statedt>20210526</statedt><statetime>00:00</statetime><updatedt>2021-05-27 09:40:52.468</updatedt></item>\n",
            "-------------------\n",
            "<item><accdefrate>1.4455504748</accdefrate><accexamcnt>9592727</accexamcnt><accexamcompcnt>9475629</accexamcompcnt><carecnt>8044</carecnt><clearcnt>126993</clearcnt><createdt>2021-05-25 09:33:39.762</createdt><deathcnt>1938</deathcnt><decidecnt>136975</decidecnt><examcnt>117098</examcnt><resutlnegcnt>9338654</resutlnegcnt><seq>522</seq><statedt>20210525</statedt><statetime>00:00</statetime><updatedt>2021-05-26 17:26:57.787</updatedt></item>\n",
            "-------------------\n",
            "<item><accdefrate>1.4466269101</accdefrate><accexamcnt>9553613</accexamcnt><accexamcompcnt>9432909</accexamcompcnt><carecnt>8098</carecnt><clearcnt>126427</clearcnt><createdt>2021-05-24 09:42:11.785</createdt><deathcnt>1934</deathcnt><decidecnt>136459</decidecnt><examcnt>120704</examcnt><resutlnegcnt>9296450</resutlnegcnt><seq>521</seq><statedt>20210524</statedt><statetime>00:00</statetime><updatedt>2021-05-26 17:11:27.494</updatedt></item>\n",
            "-------------------\n",
            "<item><accdefrate>1.4438928819</accdefrate><accexamcnt>9536299</accexamcnt><accexamcompcnt>9414064</accexamcompcnt><carecnt>8117</carecnt><clearcnt>125881</clearcnt><createdt>2021-05-23 09:37:54.099</createdt><deathcnt>1931</deathcnt><decidecnt>135929</decidecnt><examcnt>122235</examcnt><resutlnegcnt>9278135</resutlnegcnt><seq>520</seq><statedt>20210523</statedt><statetime>00:00</statetime><updatedt>null</updatedt></item>\n",
            "-------------------\n",
            "<item><accdefrate>1.4393079615</accdefrate><accexamcnt>9520966</accexamcnt><accexamcompcnt>9403408</accexamcompcnt><carecnt>8386</carecnt><clearcnt>125032</clearcnt><createdt>2021-05-22 09:37:01.885</createdt><deathcnt>1926</deathcnt><decidecnt>135344</decidecnt><examcnt>117558</examcnt><resutlnegcnt>9268064</resutlnegcnt><seq>519</seq><statedt>20210522</statedt><statetime>00:00</statetime><updatedt>null</updatedt></item>\n",
            "-------------------\n",
            "<item><accdefrate>1.4368773847</accdefrate><accexamcnt>9487108</accexamcnt><accexamcompcnt>9372964</accexamcompcnt><carecnt>8598</carecnt><clearcnt>124158</clearcnt><createdt>2021-05-21 09:36:32.023</createdt><deathcnt>1922</deathcnt><decidecnt>134678</decidecnt><examcnt>114144</examcnt><resutlnegcnt>9238286</resutlnegcnt><seq>518</seq><statedt>20210521</statedt><statetime>00:00</statetime><updatedt>null</updatedt></item>\n",
            "-------------------\n",
            "<item><accdefrate>1.4361751397</accdefrate><accexamcnt>9447358</accexamcnt><accexamcompcnt>9338485</accexamcompcnt><carecnt>8542</carecnt><clearcnt>123659</clearcnt><createdt>2021-05-20 09:35:45.542</createdt><deathcnt>1916</deathcnt><decidecnt>134117</decidecnt><examcnt>108873</examcnt><resutlnegcnt>9204368</resutlnegcnt><seq>517</seq><statedt>20210520</statedt><statetime>00:00</statetime><updatedt>2021-05-21 09:47:58.875</updatedt></item>\n",
            "-------------------\n",
            "<item><accdefrate>1.4314548779</accdefrate><accexamcnt>9428644</accexamcnt><accexamcompcnt>9324150</accexamcompcnt><carecnt>8322</carecnt><clearcnt>123237</clearcnt><createdt>2021-05-19 09:39:48.186</createdt><deathcnt>1912</deathcnt><decidecnt>133471</decidecnt><examcnt>104494</examcnt><resutlnegcnt>9190679</resutlnegcnt><seq>516</seq><statedt>20210519</statedt><statetime>00:00</statetime><updatedt>null</updatedt></item>\n",
            "-------------------\n",
            "<item><accdefrate>1.4294430308</accdefrate><accexamcnt>9395004</accexamcnt><accexamcompcnt>9291591</accexamcompcnt><carecnt>8283</carecnt><clearcnt>122631</clearcnt><createdt>2021-05-18 09:41:35.393</createdt><deathcnt>1904</deathcnt><decidecnt>132818</decidecnt><examcnt>103413</examcnt><resutlnegcnt>9158773</resutlnegcnt><seq>515</seq><statedt>20210518</statedt><statetime>00:00</statetime><updatedt>null</updatedt></item>\n",
            "-------------------\n",
            "<item><accdefrate>1.4299308998</accdefrate><accexamcnt>9353300</accexamcnt><accexamcompcnt>9251496</accexamcompcnt><carecnt>8224</carecnt><clearcnt>122163</clearcnt><createdt>2021-05-17 09:39:34.169</createdt><deathcnt>1903</deathcnt><decidecnt>132290</decidecnt><examcnt>101804</examcnt><resutlnegcnt>9119206</resutlnegcnt><seq>514</seq><statedt>20210517</statedt><statetime>00:00</statetime><updatedt>null</updatedt></item>\n",
            "-------------------\n",
            "<item><accdefrate>1.4257899148</accdefrate><accexamcnt>9336614</accexamcnt><accexamcompcnt>9234951</accexamcompcnt><carecnt>8007</carecnt><clearcnt>121764</clearcnt><createdt>2021-05-16 09:26:31.589</createdt><deathcnt>1900</deathcnt><decidecnt>131671</decidecnt><examcnt>101663</examcnt><resutlnegcnt>9103280</resutlnegcnt><seq>513</seq><statedt>20210516</statedt><statetime>00:00</statetime><updatedt>null</updatedt></item>\n",
            "-------------------\n",
            "<item><accdefrate>1.4215047097</accdefrate><accexamcnt>9319094</accexamcnt><accexamcompcnt>9219878</accexamcompcnt><carecnt>7883</carecnt><clearcnt>121282</clearcnt><createdt>2021-05-15 09:38:53.579</createdt><deathcnt>1896</deathcnt><decidecnt>131061</decidecnt><examcnt>99216</examcnt><resutlnegcnt>9088817</resutlnegcnt><seq>512</seq><statedt>20210515</statedt><statetime>00:00</statetime><updatedt>null</updatedt></item>\n",
            "-------------------\n",
            "<item><accdefrate>1.4193209445</accdefrate><accexamcnt>9281291</accexamcnt><accexamcompcnt>9186083</accexamcompcnt><carecnt>8092</carecnt><clearcnt>120395</clearcnt><createdt>2021-05-14 09:44:47.494</createdt><deathcnt>1893</deathcnt><decidecnt>130380</decidecnt><examcnt>95208</examcnt><resutlnegcnt>9055703</resutlnegcnt><seq>511</seq><statedt>20210514</statedt><statetime>00:00</statetime><updatedt>null</updatedt></item>\n",
            "-------------------\n",
            "<item><accdefrate>1.4161913364</accdefrate><accexamcnt>9241153</accexamcnt><accexamcompcnt>9153636</accexamcompcnt><carecnt>7836</carecnt><clearcnt>119906</clearcnt><createdt>2021-05-13 09:41:10.7</createdt><deathcnt>1891</deathcnt><decidecnt>129633</decidecnt><examcnt>87517</examcnt><resutlnegcnt>9024003</resutlnegcnt><seq>510</seq><statedt>20210513</statedt><statetime>00:00</statetime><updatedt>null</updatedt></item>\n",
            "-------------------\n",
            "<item><accdefrate>1.4139993813</accdefrate><accexamcnt>9201539</accexamcnt><accexamcompcnt>9117260</accexamcompcnt><carecnt>7661</carecnt><clearcnt>119373</clearcnt><createdt>2021-05-12 09:38:47.792</createdt><deathcnt>1884</deathcnt><decidecnt>128918</decidecnt><examcnt>84279</examcnt><resutlnegcnt>8988342</resutlnegcnt><seq>509</seq><statedt>20210512</statedt><statetime>00:00</statetime><updatedt>null</updatedt></item>\n",
            "-------------------\n",
            "<item><accdefrate>1.4128508833</accdefrate><accexamcnt>9164284</accexamcnt><accexamcompcnt>9079656</accexamcompcnt><carecnt>7686</carecnt><clearcnt>118717</clearcnt><createdt>2021-05-11 09:39:41.186</createdt><deathcnt>1879</deathcnt><decidecnt>128282</decidecnt><examcnt>84628</examcnt><resutlnegcnt>8951374</resutlnegcnt><seq>508</seq><statedt>20210511</statedt><statetime>00:00</statetime><updatedt>2021-05-27 09:53:30.741</updatedt></item>\n",
            "-------------------\n",
            "<item><accdefrate>1.4136164637</accdefrate><accexamcnt>9122059</accexamcnt><accexamcompcnt>9038661</accexamcompcnt><carecnt>8053</carecnt><clearcnt>117844</clearcnt><createdt>2021-05-10 09:36:30.35</createdt><deathcnt>1875</deathcnt><decidecnt>127772</decidecnt><examcnt>83398</examcnt><resutlnegcnt>8910889</resutlnegcnt><seq>507</seq><statedt>20210510</statedt><statetime>00:00</statetime><updatedt>null</updatedt></item>\n",
            "-------------------\n",
            "<item><accdefrate>1.4107056010</accdefrate><accexamcnt>9105771</accexamcnt><accexamcompcnt>9024491</accexamcompcnt><carecnt>8012</carecnt><clearcnt>117423</clearcnt><createdt>2021-05-09 09:38:01.137</createdt><deathcnt>1874</deathcnt><decidecnt>127309</decidecnt><examcnt>81280</examcnt><resutlnegcnt>8897182</resutlnegcnt><seq>506</seq><statedt>20210509</statedt><statetime>00:00</statetime><updatedt>null</updatedt></item>\n",
            "-------------------\n",
            "<item><accdefrate>1.4065731673</accdefrate><accexamcnt>9089166</accexamcnt><accexamcompcnt>9010907</accexamcompcnt><carecnt>7999</carecnt><clearcnt>116881</clearcnt><createdt>2021-05-08 09:37:54.141</createdt><deathcnt>1865</deathcnt><decidecnt>126745</decidecnt><examcnt>78259</examcnt><resutlnegcnt>8884162</resutlnegcnt><seq>505</seq><statedt>20210508</statedt><statetime>00:00</statetime><updatedt>null</updatedt></item>\n",
            "-------------------\n",
            "<item><accdefrate>1.4047878518</accdefrate><accexamcnt>9051354</accexamcnt><accexamcompcnt>8972458</accexamcompcnt><carecnt>8162</carecnt><clearcnt>116022</clearcnt><createdt>2021-05-07 09:38:57.839</createdt><deathcnt>1860</deathcnt><decidecnt>126044</decidecnt><examcnt>78896</examcnt><resutlnegcnt>8846414</resutlnegcnt><seq>504</seq><statedt>20210507</statedt><statetime>00:00</statetime><updatedt>null</updatedt></item>\n",
            "-------------------\n",
            "<item><accdefrate>1.4049684926</accdefrate><accexamcnt>9010992</accexamcnt><accexamcompcnt>8933937</accexamcompcnt><carecnt>8177</carecnt><clearcnt>115491</clearcnt><createdt>2021-05-06 09:34:55.519</createdt><deathcnt>1851</deathcnt><decidecnt>125519</decidecnt><examcnt>77055</examcnt><resutlnegcnt>8808418</resutlnegcnt><seq>503</seq><statedt>20210506</statedt><statetime>00:00</statetime><updatedt>null</updatedt></item>\n",
            "-------------------\n",
            "<item><accdefrate>1.4015026684</accdefrate><accexamcnt>8994069</accexamcnt><accexamcompcnt>8915074</accexamcompcnt><carecnt>8154</carecnt><clearcnt>114944</clearcnt><createdt>2021-05-05 09:37:42.237</createdt><deathcnt>1847</deathcnt><decidecnt>124945</decidecnt><examcnt>78995</examcnt><resutlnegcnt>8790129</resutlnegcnt><seq>502</seq><statedt>20210505</statedt><statetime>00:00</statetime><updatedt>null</updatedt></item>\n",
            "-------------------\n",
            "<item><accdefrate>1.3995739863</accdefrate><accexamcnt>8957155</accexamcnt><accexamcompcnt>8879059</accexamcompcnt><carecnt>8301</carecnt><clearcnt>114128</clearcnt><createdt>2021-05-04 09:46:01.635</createdt><deathcnt>1840</deathcnt><decidecnt>124269</decidecnt><examcnt>78096</examcnt><resutlnegcnt>8754790</resutlnegcnt><seq>501</seq><statedt>20210504</statedt><statetime>00:00</statetime><updatedt>null</updatedt></item>\n",
            "-------------------\n",
            "<item><accdefrate>1.4018098628</accdefrate><accexamcnt>8915326</accexamcnt><accexamcompcnt>8826304</accexamcompcnt><carecnt>8538</carecnt><clearcnt>113356</clearcnt><createdt>2021-05-03 09:31:59.949</createdt><deathcnt>1834</deathcnt><decidecnt>123728</decidecnt><examcnt>89022</examcnt><resutlnegcnt>8702576</resutlnegcnt><seq>500</seq><statedt>20210503</statedt><statetime>00:00</statetime><updatedt>null</updatedt></item>\n",
            "-------------------\n",
            "<item><accdefrate>1.3986066364</accdefrate><accexamcnt>8898234</accexamcnt><accexamcompcnt>8811627</accexamcompcnt><carecnt>8542</carecnt><clearcnt>112865</clearcnt><createdt>2021-05-02 09:23:20.57</createdt><deathcnt>1833</deathcnt><decidecnt>123240</decidecnt><examcnt>86607</examcnt><resutlnegcnt>8688387</resutlnegcnt><seq>499</seq><statedt>20210502</statedt><statetime>00:00</statetime><updatedt>null</updatedt></item>\n",
            "-------------------\n",
            "<item><accdefrate>1.3938570903</accdefrate><accexamcnt>8883388</accexamcnt><accexamcompcnt>8798176</accexamcompcnt><carecnt>8466</carecnt><clearcnt>112337</clearcnt><createdt>2021-05-01 09:17:27.172</createdt><deathcnt>1831</deathcnt><decidecnt>122634</decidecnt><examcnt>85212</examcnt><resutlnegcnt>8675542</resutlnegcnt><seq>498</seq><statedt>20210501</statedt><statetime>00:00</statetime><updatedt>null</updatedt></item>\n",
            "-------------------\n",
            "<item><accdefrate>1.3918554433</accdefrate><accexamcnt>8848292</accexamcnt><accexamcompcnt>8765781</accexamcompcnt><carecnt>8757</carecnt><clearcnt>111422</clearcnt><createdt>2021-04-30 09:33:44.165</createdt><deathcnt>1828</deathcnt><decidecnt>122007</decidecnt><examcnt>82511</examcnt><resutlnegcnt>8643774</resutlnegcnt><seq>497</seq><statedt>20210430</statedt><statetime>00:00</statetime><updatedt>null</updatedt></item>\n",
            "-------------------\n",
            "<item><accdefrate>1.3907242112</accdefrate><accexamcnt>8805774</accexamcnt><accexamcompcnt>8725382</accexamcompcnt><carecnt>8734</carecnt><clearcnt>110787</clearcnt><createdt>2021-04-29 09:32:46.339</createdt><deathcnt>1825</deathcnt><decidecnt>121346</decidecnt><examcnt>80392</examcnt><resutlnegcnt>8604036</resutlnegcnt><seq>496</seq><statedt>20210429</statedt><statetime>00:00</statetime><updatedt>2021-04-30 09:39:29.337</updatedt></item>\n",
            "-------------------\n",
            "<item><accdefrate>1.3886694305</accdefrate><accexamcnt>8766491</accexamcnt><accexamcompcnt>8689325</accexamcompcnt><carecnt>8597</carecnt><clearcnt>110248</clearcnt><createdt>2021-04-28 09:33:01.863</createdt><deathcnt>1821</deathcnt><decidecnt>120666</decidecnt><examcnt>77166</examcnt><resutlnegcnt>8568659</resutlnegcnt><seq>495</seq><statedt>20210428</statedt><statetime>00:00</statetime><updatedt>2021-04-30 09:39:12.945</updatedt></item>\n",
            "-------------------\n",
            "<item><accdefrate>1.3868895227</accdefrate><accexamcnt>8721609</accexamcnt><accexamcompcnt>8645101</accexamcompcnt><carecnt>8383</carecnt><clearcnt>109695</clearcnt><createdt>2021-04-27 09:34:47.417</createdt><deathcnt>1820</deathcnt><decidecnt>119898</decidecnt><examcnt>76508</examcnt><resutlnegcnt>8525203</resutlnegcnt><seq>494</seq><statedt>20210427</statedt><statetime>00:00</statetime><updatedt>null</updatedt></item>\n",
            "-------------------\n",
            "<item><accdefrate>1.3890340008</accdefrate><accexamcnt>8672978</accexamcnt><accexamcompcnt>8594894</accexamcompcnt><carecnt>8719</carecnt><clearcnt>108850</clearcnt><createdt>2021-04-26 09:42:14.75</createdt><deathcnt>1817</deathcnt><decidecnt>119386</decidecnt><examcnt>78084</examcnt><resutlnegcnt>8475508</resutlnegcnt><seq>493</seq><statedt>20210426</statedt><statetime>00:00</statetime><updatedt>2021-04-27 09:37:24.371</updatedt></item>\n",
            "-------------------\n",
            "<item><accdefrate>1.3860766953</accdefrate><accexamcnt>8654791</accexamcnt><accexamcompcnt>8577231</accexamcompcnt><carecnt>8599</carecnt><clearcnt>108475</clearcnt><createdt>2021-04-25 09:52:51.000</createdt><deathcnt>1813</deathcnt><decidecnt>118887</decidecnt><examcnt>77560</examcnt><resutlnegcnt>8458344</resutlnegcnt><seq>492</seq><statedt>20210425</statedt><statetime>00:00</statetime><updatedt>null</updatedt></item>\n",
            "-------------------\n",
            "<item><accdefrate>1.3822066912</accdefrate><accexamcnt>8632923</accexamcnt><accexamcompcnt>8554654</accexamcompcnt><carecnt>8650</carecnt><clearcnt>107781</clearcnt><createdt>2021-04-24 09:38:23.778</createdt><deathcnt>1812</deathcnt><decidecnt>118243</decidecnt><examcnt>78269</examcnt><resutlnegcnt>8436411</resutlnegcnt><seq>491</seq><statedt>20210424</statedt><statetime>00:00</statetime><updatedt>null</updatedt></item>\n",
            "-------------------\n",
            "<item><accdefrate>1.3796528397</accdefrate><accexamcnt>8583530</accexamcnt><accexamcompcnt>8513591</accexamcompcnt><carecnt>8576</carecnt><clearcnt>107071</clearcnt><createdt>2021-04-23 09:51:40.55</createdt><deathcnt>1811</deathcnt><decidecnt>117458</decidecnt><examcnt>69939</examcnt><resutlnegcnt>8396133</resutlnegcnt><seq>490</seq><statedt>20210423</statedt><statetime>00:00</statetime><updatedt>null</updatedt></item>\n",
            "-------------------\n",
            "<item><accdefrate>1.3772840512</accdefrate><accexamcnt>8537505</accexamcnt><accexamcompcnt>8470366</accexamcompcnt><carecnt>8394</carecnt><clearcnt>106459</clearcnt><createdt>2021-04-22 09:31:58.246</createdt><deathcnt>1808</deathcnt><decidecnt>116661</decidecnt><examcnt>67139</examcnt><resutlnegcnt>8353705</resutlnegcnt><seq>489</seq><statedt>20210422</statedt><statetime>00:00</statetime><updatedt>null</updatedt></item>\n",
            "-------------------\n",
            "<item><accdefrate>1.3750976675</accdefrate><accexamcnt>8497594</accexamcnt><accexamcompcnt>8430383</accexamcompcnt><carecnt>8243</carecnt><clearcnt>105877</clearcnt><createdt>2021-04-21 09:36:56.675</createdt><deathcnt>1806</deathcnt><decidecnt>115926</decidecnt><examcnt>67211</examcnt><resutlnegcnt>8314457</resutlnegcnt><seq>488</seq><statedt>20210421</statedt><statetime>00:00</statetime><updatedt>null</updatedt></item>\n",
            "-------------------\n",
            "<item><accdefrate>1.3726760312</accdefrate><accexamcnt>8458592</accexamcnt><accexamcompcnt>8392002</accexamcompcnt><carecnt>8166</carecnt><clearcnt>105227</clearcnt><createdt>2021-04-20 09:34:02.801</createdt><deathcnt>1802</deathcnt><decidecnt>115195</decidecnt><examcnt>66590</examcnt><resutlnegcnt>8276807</resutlnegcnt><seq>486</seq><statedt>20210420</statedt><statetime>00:00</statetime><updatedt>null</updatedt></item>\n",
            "-------------------\n",
            "<item><accdefrate>1.3739837378</accdefrate><accexamcnt>8414821</accexamcnt><accexamcompcnt>8344058</accexamcompcnt><carecnt>8371</carecnt><clearcnt>104474</clearcnt><createdt>2021-04-19 09:39:21.483</createdt><deathcnt>1801</deathcnt><decidecnt>114646</decidecnt><examcnt>70763</examcnt><resutlnegcnt>8229412</resutlnegcnt><seq>485</seq><statedt>20210419</statedt><statetime>00:00</statetime><updatedt>null</updatedt></item>\n",
            "-------------------\n",
            "<item><accdefrate>1.3709239987</accdefrate><accexamcnt>8396066</accexamcnt><accexamcompcnt>8323875</accexamcompcnt><carecnt>8311</carecnt><clearcnt>104006</clearcnt><createdt>2021-04-18 09:30:44.979</createdt><deathcnt>1797</deathcnt><decidecnt>114114</decidecnt><examcnt>72191</examcnt><resutlnegcnt>8209761</resutlnegcnt><seq>484</seq><statedt>20210418</statedt><statetime>00:00</statetime><updatedt>2021-04-19 09:39:27.906</updatedt></item>\n",
            "-------------------\n",
            "<item><accdefrate>1.3656743037</accdefrate><accexamcnt>8377778</accexamcnt><accexamcompcnt>8306739</accexamcompcnt><carecnt>8055</carecnt><clearcnt>103594</clearcnt><createdt>2021-04-17 09:40:16.606</createdt><deathcnt>1794</deathcnt><decidecnt>113443</decidecnt><examcnt>71039</examcnt><resutlnegcnt>8193296</resutlnegcnt><seq>483</seq><statedt>20210417</statedt><statetime>00:00</statetime><updatedt>2021-04-18 09:35:59.415</updatedt></item>\n",
            "-------------------\n",
            "<item><accdefrate>1.3650312837</accdefrate><accexamcnt>8333331</accexamcnt><accexamcompcnt>8262448</accexamcompcnt><carecnt>7933</carecnt><clearcnt>103062</clearcnt><createdt>2021-04-16 09:32:10.738</createdt><deathcnt>1790</deathcnt><decidecnt>112785</decidecnt><examcnt>70883</examcnt><resutlnegcnt>8149663</resutlnegcnt><seq>482</seq><statedt>20210416</statedt><statetime>00:00</statetime><updatedt>2021-04-20 14:35:13.573</updatedt></item>\n",
            "-------------------\n",
            "<item><accdefrate>1.3637436290</accdefrate><accexamcnt>8291121</accexamcnt><accexamcompcnt>8220900</accexamcompcnt><carecnt>7811</carecnt><clearcnt>102513</clearcnt><createdt>2021-04-15 09:38:50.34</createdt><deathcnt>1788</deathcnt><decidecnt>112112</decidecnt><examcnt>70221</examcnt><resutlnegcnt>8108788</resutlnegcnt><seq>481</seq><statedt>20210415</statedt><statetime>00:00</statetime><updatedt>2021-04-20 14:35:43.42</updatedt></item>\n",
            "-------------------\n",
            "<item><accdefrate>1.3635702742</accdefrate><accexamcnt>8245383</accexamcnt><accexamcompcnt>8170756</accexamcompcnt><carecnt>7649</carecnt><clearcnt>101983</clearcnt><createdt>2021-04-14 09:33:58.653</createdt><deathcnt>1782</deathcnt><decidecnt>111414</decidecnt><examcnt>74627</examcnt><resutlnegcnt>8059342</resutlnegcnt><seq>480</seq><statedt>20210414</statedt><statetime>00:00</statetime><updatedt>2021-04-20 14:35:54.244</updatedt></item>\n",
            "-------------------\n",
            "<item><accdefrate>1.3639427573</accdefrate><accexamcnt>8200514</accexamcnt><accexamcompcnt>8114930</accexamcompcnt><carecnt>7576</carecnt><clearcnt>101332</clearcnt><createdt>2021-04-13 09:36:30.661</createdt><deathcnt>1775</deathcnt><decidecnt>110683</decidecnt><examcnt>85584</examcnt><resutlnegcnt>8004247</resutlnegcnt><seq>479</seq><statedt>20210413</statedt><statetime>00:00</statetime><updatedt>2021-04-20 14:36:13.585</updatedt></item>\n",
            "-------------------\n",
            "<item><accdefrate>1.3669325463</accdefrate><accexamcnt>8152778</accexamcnt><accexamcompcnt>8057530</accexamcompcnt><carecnt>7567</carecnt><clearcnt>100804</clearcnt><createdt>2021-04-12 09:36:52.596</createdt><deathcnt>1770</deathcnt><decidecnt>110141</decidecnt><examcnt>95248</examcnt><resutlnegcnt>7947389</resutlnegcnt><seq>478</seq><statedt>20210412</statedt><statetime>00:00</statetime><updatedt>2021-04-20 14:36:31.34</updatedt></item>\n",
            "-------------------\n",
            "<item><accdefrate>1.3630157591</accdefrate><accexamcnt>8129527</accexamcnt><accexamcompcnt>8037618</accexamcompcnt><carecnt>7677</carecnt><clearcnt>100109</clearcnt><createdt>2021-04-11 09:36:07.611</createdt><deathcnt>1768</deathcnt><decidecnt>109554</decidecnt><examcnt>91909</examcnt><resutlnegcnt>7928064</resutlnegcnt><seq>477</seq><statedt>20210411</statedt><statetime>00:00</statetime><updatedt>2021-04-20 14:36:51.706</updatedt></item>\n",
            "-------------------\n",
            "<item><accdefrate>1.3589283551</accdefrate><accexamcnt>8106625</accexamcnt><accexamcompcnt>8016611</accexamcompcnt><carecnt>7874</carecnt><clearcnt>99301</clearcnt><createdt>2021-04-10 09:36:31.907</createdt><deathcnt>1765</deathcnt><decidecnt>108940</decidecnt><examcnt>90014</examcnt><resutlnegcnt>7907671</resutlnegcnt><seq>476</seq><statedt>20210410</statedt><statetime>00:00</statetime><updatedt>2021-04-20 14:37:10.346</updatedt></item>\n",
            "-------------------\n",
            "<item><accdefrate>1.3571562435</accdefrate><accexamcnt>8059107</accexamcnt><accexamcompcnt>7977195</accexamcompcnt><carecnt>7713</carecnt><clearcnt>98786</clearcnt><createdt>2021-04-09 09:33:53.3</createdt><deathcnt>1764</deathcnt><decidecnt>108263</decidecnt><examcnt>81912</examcnt><resutlnegcnt>7868932</resutlnegcnt><seq>475</seq><statedt>20210409</statedt><statetime>00:00</statetime><updatedt>2021-04-20 14:37:51.855</updatedt></item>\n",
            "-------------------\n",
            "<item><accdefrate>1.3560157697</accdefrate><accexamcnt>8012415</accexamcnt><accexamcompcnt>7934421</accexamcompcnt><carecnt>7474</carecnt><clearcnt>98360</clearcnt><createdt>2021-04-08 09:30:58.826</createdt><deathcnt>1758</deathcnt><decidecnt>107592</decidecnt><examcnt>77994</examcnt><resutlnegcnt>7826829</resutlnegcnt><seq>474</seq><statedt>20210408</statedt><statetime>00:00</statetime><updatedt>2021-04-20 14:38:13.56</updatedt></item>\n",
            "-------------------\n",
            "<item><accdefrate>1.3545174256</accdefrate><accexamcnt>7966161</accexamcnt><accexamcompcnt>7891519</accexamcompcnt><carecnt>7208</carecnt><clearcnt>97928</clearcnt><createdt>2021-04-07 09:37:24.979</createdt><deathcnt>1756</deathcnt><decidecnt>106892</decidecnt><examcnt>74642</examcnt><resutlnegcnt>7784627</resutlnegcnt><seq>473</seq><statedt>20210407</statedt><statetime>00:00</statetime><updatedt>2021-04-20 14:38:33.513</updatedt></item>\n",
            "-------------------\n",
            "<item><accdefrate>1.3545301282</accdefrate><accexamcnt>7921284</accexamcnt><accexamcompcnt>7842129</accexamcompcnt><carecnt>7109</carecnt><clearcnt>97363</clearcnt><createdt>2021-04-06 09:31:57.498</createdt><deathcnt>1752</deathcnt><decidecnt>106224</decidecnt><examcnt>79155</examcnt><resutlnegcnt>7735905</resutlnegcnt><seq>472</seq><statedt>20210406</statedt><statetime>00:00</statetime><updatedt>2021-04-20 14:39:01.36</updatedt></item>\n",
            "-------------------\n",
            "<item><accdefrate>1.3577642823</accdefrate><accexamcnt>7868815</accexamcnt><accexamcompcnt>7788318</accexamcompcnt><carecnt>7099</carecnt><clearcnt>96900</clearcnt><createdt>2021-04-05 09:44:27.235</createdt><deathcnt>1748</deathcnt><decidecnt>105747</decidecnt><examcnt>80497</examcnt><resutlnegcnt>7682571</resutlnegcnt><seq>471</seq><statedt>20210405</statedt><statetime>00:00</statetime><updatedt>2021-04-20 14:39:30.302</updatedt></item>\n",
            "-------------------\n",
            "<item><accdefrate>1.3549222354</accdefrate><accexamcnt>7849470</accexamcnt><accexamcompcnt>7769671</accexamcompcnt><carecnt>6940</carecnt><clearcnt>96589</clearcnt><createdt>2021-04-04 09:45:05.147</createdt><deathcnt>1744</deathcnt><decidecnt>105273</decidecnt><examcnt>79799</examcnt><resutlnegcnt>7664398</resutlnegcnt><seq>470</seq><statedt>20210404</statedt><statetime>00:00</statetime><updatedt>2021-04-20 14:40:12.582</updatedt></item>\n",
            "-------------------\n",
            "<item><accdefrate>1.3506169731</accdefrate><accexamcnt>7829596</accexamcnt><accexamcompcnt>7754308</accexamcompcnt><carecnt>6795</carecnt><clearcnt>96196</clearcnt><createdt>2021-04-03 09:34:03.806</createdt><deathcnt>1740</deathcnt><decidecnt>104731</decidecnt><examcnt>75288</examcnt><resutlnegcnt>7649577</resutlnegcnt><seq>469</seq><statedt>20210403</statedt><statetime>00:00</statetime><updatedt>2021-04-20 14:40:25.997</updatedt></item>\n",
            "-------------------\n",
            "<item><accdefrate>1.3500160284</accdefrate><accexamcnt>7788290</accexamcnt><accexamcompcnt>7717538</accexamcompcnt><carecnt>6590</carecnt><clearcnt>95861</clearcnt><createdt>2021-04-02 09:54:00.108</createdt><deathcnt>1737</deathcnt><decidecnt>104188</decidecnt><examcnt>70752</examcnt><resutlnegcnt>7613350</resutlnegcnt><seq>468</seq><statedt>20210402</statedt><statetime>00:00</statetime><updatedt>2021-04-20 14:40:42.759</updatedt></item>\n",
            "-------------------\n",
            "<item><accdefrate>1.3496016740</accdefrate><accexamcnt>7747295</accexamcnt><accexamcompcnt>7678636</accexamcompcnt><carecnt>6457</carecnt><clearcnt>95439</clearcnt><createdt>2021-04-01 09:32:19.52</createdt><deathcnt>1735</deathcnt><decidecnt>103631</decidecnt><examcnt>68659</examcnt><resutlnegcnt>7575005</resutlnegcnt><seq>467</seq><statedt>20210401</statedt><statetime>00:00</statetime><updatedt>2021-04-20 14:41:23.051</updatedt></item>\n",
            "-------------------\n",
            "<item><accdefrate>1.3498348063</accdefrate><accexamcnt>7707792</accexamcnt><accexamcompcnt>7636490</accexamcompcnt><carecnt>6319</carecnt><clearcnt>95030</clearcnt><createdt>2021-03-31 09:32:59.933</createdt><deathcnt>1731</deathcnt><decidecnt>103080</decidecnt><examcnt>71302</examcnt><resutlnegcnt>7533410</resutlnegcnt><seq>466</seq><statedt>20210331</statedt><statetime>00:00</statetime><updatedt>2021-04-20 14:41:41.712</updatedt></item>\n",
            "-------------------\n",
            "<item><accdefrate>1.3522258784</accdefrate><accexamcnt>7663991</accexamcnt><accexamcompcnt>7585567</accexamcompcnt><carecnt>6282</carecnt><clearcnt>94563</clearcnt><createdt>2021-03-30 09:39:54.626</createdt><deathcnt>1729</deathcnt><decidecnt>102574</decidecnt><examcnt>78424</examcnt><resutlnegcnt>7482993</resutlnegcnt><seq>465</seq><statedt>20210330</statedt><statetime>00:00</statetime><updatedt>2021-04-20 14:42:04.778</updatedt></item>\n",
            "-------------------\n",
            "<item><accdefrate>1.3549404905</accdefrate><accexamcnt>7616317</accexamcnt><accexamcompcnt>7537379</accexamcompcnt><carecnt>6277</carecnt><clearcnt>94124</clearcnt><createdt>2021-03-29 09:41:57.983</createdt><deathcnt>1726</deathcnt><decidecnt>102127</decidecnt><examcnt>78938</examcnt><resutlnegcnt>7435252</resutlnegcnt><seq>463</seq><statedt>20210329</statedt><statetime>00:00</statetime><updatedt>2021-04-20 14:42:25.82</updatedt></item>\n",
            "-------------------\n",
            "<item><accdefrate>1.3535357754</accdefrate><accexamcnt>7595584</accexamcnt><accexamcompcnt>7516979</accexamcompcnt><carecnt>6168</carecnt><clearcnt>93855</clearcnt><createdt>2021-03-28 11:17:23.373</createdt><deathcnt>1722</deathcnt><decidecnt>101745</decidecnt><examcnt>78605</examcnt><resutlnegcnt>7415234</resutlnegcnt><seq>462</seq><statedt>20210328</statedt><statetime>00:00</statetime><updatedt>2021-04-20 14:42:38.562</updatedt></item>\n",
            "-------------------\n",
            "<item><accdefrate>1.3506447984</accdefrate><accexamcnt>7572556</accexamcnt><accexamcompcnt>7497382</accexamcompcnt><carecnt>6067</carecnt><clearcnt>93475</clearcnt><createdt>2021-03-27 09:53:35.032</createdt><deathcnt>1721</deathcnt><decidecnt>101263</decidecnt><examcnt>75174</examcnt><resutlnegcnt>7396119</resutlnegcnt><seq>461</seq><statedt>20210327</statedt><statetime>00:00</statetime><updatedt>2021-04-20 14:42:54.126</updatedt></item>\n",
            "-------------------\n",
            "<item><accdefrate>1.3520966636</accdefrate><accexamcnt>7529391</accexamcnt><accexamcompcnt>7451982</accexamcompcnt><carecnt>6412</carecnt><clearcnt>92630</clearcnt><createdt>2021-03-26 09:33:28.3</createdt><deathcnt>1716</deathcnt><decidecnt>100758</decidecnt><examcnt>77409</examcnt><resutlnegcnt>7351224</resutlnegcnt><seq>460</seq><statedt>20210326</statedt><statetime>00:00</statetime><updatedt>2021-04-20 14:43:22.594</updatedt></item>\n",
            "-------------------\n",
            "<item><accdefrate>1.3551936113</accdefrate><accexamcnt>7485852</accexamcnt><accexamcompcnt>7398869</accexamcompcnt><carecnt>6492</carecnt><clearcnt>92068</clearcnt><createdt>2021-03-25 09:34:48.91</createdt><deathcnt>1709</deathcnt><decidecnt>100269</decidecnt><examcnt>86983</examcnt><resutlnegcnt>7298600</resutlnegcnt><seq>459</seq><statedt>20210325</statedt><statetime>00:00</statetime><updatedt>2021-04-20 14:43:42.787</updatedt></item>\n",
            "-------------------\n",
            "<item><accdefrate>1.3589311485</accdefrate><accexamcnt>7441203</accexamcnt><accexamcompcnt>7346877</accexamcompcnt><carecnt>6572</carecnt><clearcnt>91560</clearcnt><createdt>2021-03-24 09:35:12.391</createdt><deathcnt>1707</deathcnt><decidecnt>99839</decidecnt><examcnt>94326</examcnt><resutlnegcnt>7247038</resutlnegcnt><seq>458</seq><statedt>20210324</statedt><statetime>00:00</statetime><updatedt>2021-04-20 14:43:58.157</updatedt></item>\n",
            "-------------------\n",
            "<item><accdefrate>1.3616438070</accdefrate><accexamcnt>7400980</accexamcnt><accexamcompcnt>7300808</accexamcompcnt><carecnt>6628</carecnt><clearcnt>91079</clearcnt><createdt>2021-03-23 09:32:10.986</createdt><deathcnt>1704</deathcnt><decidecnt>99411</decidecnt><examcnt>100172</examcnt><resutlnegcnt>7201397</resutlnegcnt><seq>457</seq><statedt>20210323</statedt><statetime>00:00</statetime><updatedt>2021-04-20 14:44:18.502</updatedt></item>\n",
            "-------------------\n",
            "<item><accdefrate>1.3658821352</accdefrate><accexamcnt>7355954</accexamcnt><accexamcompcnt>7252822</accexamcompcnt><carecnt>6757</carecnt><clearcnt>90611</clearcnt><createdt>2021-03-22 10:04:58.004</createdt><deathcnt>1697</deathcnt><decidecnt>99065</decidecnt><examcnt>103132</examcnt><resutlnegcnt>7153757</resutlnegcnt><seq>456</seq><statedt>20210322</statedt><statetime>00:00</statetime><updatedt>2021-04-20 14:44:34.623</updatedt></item>\n",
            "-------------------\n",
            "<item><accdefrate>1.3636254938</accdefrate><accexamcnt>7332699</accexamcnt><accexamcompcnt>7234391</accexamcompcnt><carecnt>6626</carecnt><clearcnt>90328</clearcnt><createdt>2021-03-21 09:53:34.815</createdt><deathcnt>1696</deathcnt><decidecnt>98650</decidecnt><examcnt>98308</examcnt><resutlnegcnt>7135741</resutlnegcnt><seq>455</seq><statedt>20210321</statedt><statetime>00:00</statetime><updatedt>2021-04-20 14:45:11.413</updatedt></item>\n",
            "-------------------\n",
            "<item><accdefrate>1.3607972486</accdefrate><accexamcnt>7308935</accexamcnt><accexamcompcnt>7215917</accexamcompcnt><carecnt>6552</carecnt><clearcnt>89949</clearcnt><createdt>2021-03-20 09:31:53.146</createdt><deathcnt>1693</deathcnt><decidecnt>98194</decidecnt><examcnt>93018</examcnt><resutlnegcnt>7117723</resutlnegcnt><seq>454</seq><statedt>20210320</statedt><statetime>00:00</statetime><updatedt>2021-04-20 14:45:35.163</updatedt></item>\n",
            "-------------------\n",
            "<item><accdefrate>1.3620256974</accdefrate><accexamcnt>7264931</accexamcnt><accexamcompcnt>7176590</accexamcompcnt><carecnt>6534</carecnt><clearcnt>89523</clearcnt><createdt>2021-03-19 09:32:03.884</createdt><deathcnt>1690</deathcnt><decidecnt>97747</decidecnt><examcnt>88341</examcnt><resutlnegcnt>7078843</resutlnegcnt><seq>453</seq><statedt>20210319</statedt><statetime>00:00</statetime><updatedt>2021-04-20 14:45:53.021</updatedt></item>\n",
            "-------------------\n",
            "<item><accdefrate>1.3647468455</accdefrate><accexamcnt>7218077</accexamcnt><accexamcompcnt>7128355</accexamcompcnt><carecnt>6418</carecnt><clearcnt>89178</clearcnt><createdt>2021-03-18 09:38:40.962</createdt><deathcnt>1688</deathcnt><decidecnt>97284</decidecnt><examcnt>89722</examcnt><resutlnegcnt>7031071</resutlnegcnt><seq>452</seq><statedt>20210318</statedt><statetime>00:00</statetime><updatedt>2021-04-20 14:46:21.32</updatedt></item>\n",
            "-------------------\n",
            "<item><accdefrate>1.3662313887</accdefrate><accexamcnt>7171500</accexamcnt><accexamcompcnt>7088038</accexamcompcnt><carecnt>6339</carecnt><clearcnt>88814</clearcnt><createdt>2021-03-17 09:31:37.789</createdt><deathcnt>1686</deathcnt><decidecnt>96839</decidecnt><examcnt>83462</examcnt><resutlnegcnt>6991199</resutlnegcnt><seq>451</seq><statedt>20210317</statedt><statetime>00:00</statetime><updatedt>2021-04-20 14:46:39.82</updatedt></item>\n",
            "-------------------\n",
            "<item><accdefrate>1.3673337899</accdefrate><accexamcnt>7126067</accexamcnt><accexamcompcnt>7048023</accexamcompcnt><carecnt>6437</carecnt><clearcnt>88255</clearcnt><createdt>2021-03-16 09:36:13.502</createdt><deathcnt>1678</deathcnt><decidecnt>96370</decidecnt><examcnt>78044</examcnt><resutlnegcnt>6951653</resutlnegcnt><seq>450</seq><statedt>20210316</statedt><statetime>00:00</statetime><updatedt>2021-04-20 14:46:59.298</updatedt></item>\n",
            "-------------------\n",
            "<item><accdefrate>1.3689198014</accdefrate><accexamcnt>7084930</accexamcnt><accexamcompcnt>7013340</accexamcompcnt><carecnt>6578</carecnt><clearcnt>87754</clearcnt><createdt>2021-03-15 09:51:09.37</createdt><deathcnt>1675</deathcnt><decidecnt>96007</decidecnt><examcnt>71590</examcnt><resutlnegcnt>6917333</resutlnegcnt><seq>449</seq><statedt>20210315</statedt><statetime>00:00</statetime><updatedt>2021-04-20 14:47:28.958</updatedt></item>\n",
            "-------------------\n",
            "<item><accdefrate>1.3667877215</accdefrate><accexamcnt>7066394</accexamcnt><accexamcompcnt>6996551</accexamcompcnt><carecnt>6551</carecnt><clearcnt>87408</clearcnt><createdt>2021-03-14 09:42:57.64</createdt><deathcnt>1669</deathcnt><decidecnt>95628</decidecnt><examcnt>69843</examcnt><resutlnegcnt>6900923</resutlnegcnt><seq>448</seq><statedt>20210314</statedt><statetime>00:00</statetime><updatedt>2021-04-20 14:47:44.94</updatedt></item>\n",
            "-------------------\n",
            "<item><accdefrate>1.3636674313</accdefrate><accexamcnt>7046775</accexamcnt><accexamcompcnt>6978901</accexamcompcnt><carecnt>6877</carecnt><clearcnt>86625</clearcnt><createdt>2021-03-13 09:36:41.886</createdt><deathcnt>1667</deathcnt><decidecnt>95169</decidecnt><examcnt>67874</examcnt><resutlnegcnt>6883732</resutlnegcnt><seq>447</seq><statedt>20210313</statedt><statetime>00:00</statetime><updatedt>2021-04-20 14:48:06.227</updatedt></item>\n",
            "-------------------\n",
            "<item><accdefrate>1.3634807664</accdefrate><accexamcnt>7012657</accexamcnt><accexamcompcnt>6943919</accexamcompcnt><carecnt>7274</carecnt><clearcnt>85743</clearcnt><createdt>2021-03-12 09:49:58.077</createdt><deathcnt>1662</deathcnt><decidecnt>94679</decidecnt><examcnt>68738</examcnt><resutlnegcnt>6849240</resutlnegcnt><seq>446</seq><statedt>20210312</statedt><statetime>00:00</statetime><updatedt>2021-04-20 14:48:36.524</updatedt></item>\n",
            "-------------------\n",
            "<item><accdefrate>1.3633620071</accdefrate><accexamcnt>6976978</accexamcnt><accexamcompcnt>6908730</accexamcompcnt><carecnt>7864</carecnt><clearcnt>84675</clearcnt><createdt>2021-03-11 09:39:02.159</createdt><deathcnt>1652</deathcnt><decidecnt>94191</decidecnt><examcnt>68248</examcnt><resutlnegcnt>6814539</resutlnegcnt><seq>445</seq><statedt>20210311</statedt><statetime>00:00</statetime><updatedt>2021-04-20 14:48:58.191</updatedt></item>\n",
            "-------------------\n",
            "<item><accdefrate>1.3645577504</accdefrate><accexamcnt>6938877</accexamcnt><accexamcompcnt>6868599</accexamcompcnt><carecnt>7766</carecnt><clearcnt>84312</clearcnt><createdt>2021-03-10 09:45:29.181</createdt><deathcnt>1648</deathcnt><decidecnt>93726</decidecnt><examcnt>70278</examcnt><resutlnegcnt>6774873</resutlnegcnt><seq>444</seq><statedt>20210310</statedt><statetime>00:00</statetime><updatedt>2021-04-20 14:50:56.417</updatedt></item>\n",
            "-------------------\n",
            "<item><accdefrate>1.3648931953</accdefrate><accexamcnt>6902977</accexamcnt><accexamcompcnt>6832476</accexamcompcnt><carecnt>7711</carecnt><clearcnt>83900</clearcnt><createdt>2021-03-09 09:52:46.909</createdt><deathcnt>1645</deathcnt><decidecnt>93256</decidecnt><examcnt>70501</examcnt><resutlnegcnt>6739220</resutlnegcnt><seq>443</seq><statedt>20210309</statedt><statetime>00:00</statetime><updatedt>2021-04-20 14:51:28.616</updatedt></item>\n",
            "-------------------\n",
            "<item><accdefrate>1.3659762557</accdefrate><accexamcnt>6861802</accexamcnt><accexamcompcnt>6794408</accexamcompcnt><carecnt>7694</carecnt><clearcnt>83474</clearcnt><createdt>2021-03-08 09:31:46.646</createdt><deathcnt>1642</deathcnt><decidecnt>92810</decidecnt><examcnt>67394</examcnt><resutlnegcnt>6701598</resutlnegcnt><seq>442</seq><statedt>20210308</statedt><statetime>00:00</statetime><updatedt>2021-04-20 14:51:41.422</updatedt></item>\n",
            "-------------------\n",
            "<item><accdefrate>1.3644352882</accdefrate><accexamcnt>6843119</accexamcnt><accexamcompcnt>6776723</accexamcompcnt><carecnt>7610</carecnt><clearcnt>83220</clearcnt><createdt>2021-03-07 09:52:34.246</createdt><deathcnt>1634</deathcnt><decidecnt>92464</decidecnt><examcnt>66396</examcnt><resutlnegcnt>6684259</resutlnegcnt><seq>441</seq><statedt>20210307</statedt><statetime>00:00</statetime><updatedt>2021-04-20 14:51:55.518</updatedt></item>\n",
            "-------------------\n",
            "<item><accdefrate>1.3623087379</accdefrate><accexamcnt>6821936</accexamcnt><accexamcompcnt>6756765</accexamcompcnt><carecnt>7503</carecnt><clearcnt>82913</clearcnt><createdt>2021-03-06 09:40:17.621</createdt><deathcnt>1632</deathcnt><decidecnt>92048</decidecnt><examcnt>65171</examcnt><resutlnegcnt>6664717</resutlnegcnt><seq>440</seq><statedt>20210306</statedt><statetime>00:00</statetime><updatedt>2021-04-20 14:56:41.076</updatedt></item>\n",
            "-------------------\n",
            "<item><accdefrate>1.3624677096</accdefrate><accexamcnt>6789004</accexamcnt><accexamcompcnt>6725297</accexamcompcnt><carecnt>7443</carecnt><clearcnt>82560</clearcnt><createdt>2021-03-05 09:41:54.92</createdt><deathcnt>1627</deathcnt><decidecnt>91630</decidecnt><examcnt>63707</examcnt><resutlnegcnt>6633667</resutlnegcnt><seq>439</seq><statedt>20210305</statedt><statetime>00:00</statetime><updatedt>2021-04-20 14:57:05.073</updatedt></item>\n",
            "-------------------\n",
            "<item><accdefrate>1.3633393924</accdefrate><accexamcnt>6751893</accexamcnt><accexamcompcnt>6691804</accexamcompcnt><carecnt>7451</carecnt><clearcnt>82162</clearcnt><createdt>2021-03-04 09:33:23.999</createdt><deathcnt>1619</deathcnt><decidecnt>91232</decidecnt><examcnt>60089</examcnt><resutlnegcnt>6600572</resutlnegcnt><seq>438</seq><statedt>20210304</statedt><statetime>00:00</statetime><updatedt>2021-04-20 14:57:22.272</updatedt></item>\n",
            "-------------------\n",
            "<item><accdefrate>1.3654662799</accdefrate><accexamcnt>6716196</accexamcnt><accexamcompcnt>6650329</accexamcompcnt><carecnt>7496</carecnt><clearcnt>81700</clearcnt><createdt>2021-03-03 09:33:02.813</createdt><deathcnt>1612</deathcnt><decidecnt>90808</decidecnt><examcnt>65867</examcnt><resutlnegcnt>6559521</resutlnegcnt><seq>437</seq><statedt>20210303</statedt><statetime>00:00</statetime><updatedt>2021-04-20 14:57:38.163</updatedt></item>\n",
            "-------------------\n",
            "<item><accdefrate>1.3673828261</accdefrate><accexamcnt>6681969</accexamcnt><accexamcompcnt>6608537</accexamcompcnt><carecnt>7420</carecnt><clearcnt>81338</clearcnt><createdt>2021-03-02 09:32:41.95</createdt><deathcnt>1606</deathcnt><decidecnt>90364</decidecnt><examcnt>73432</examcnt><resutlnegcnt>6518173</resutlnegcnt><seq>436</seq><statedt>20210302</statedt><statetime>00:00</statetime><updatedt>2021-04-20 14:57:59.417</updatedt></item>\n",
            "-------------------\n",
            "<item><accdefrate>1.3655942458</accdefrate><accexamcnt>6665747</accexamcnt><accexamcompcnt>6592002</accexamcompcnt><carecnt>7345</carecnt><clearcnt>81070</clearcnt><createdt>2021-03-01 09:48:21.402</createdt><deathcnt>1605</deathcnt><decidecnt>90020</decidecnt><examcnt>73745</examcnt><resutlnegcnt>6501982</resutlnegcnt><seq>435</seq><statedt>20210301</statedt><statetime>00:00</statetime><updatedt>2021-04-20 14:58:56.038</updatedt></item>\n",
            "-------------------\n"
          ],
          "name": "stdout"
        }
      ]
    },
    {
      "cell_type": "code",
      "metadata": {
        "colab": {
          "base_uri": "https://localhost:8080/",
          "height": 35
        },
        "id": "Mqg_thPCM9Qm",
        "outputId": "23666807-76bc-43d4-9548-47678eebc5f6"
      },
      "source": [
        "item_list[0].find('examcnt').text"
      ],
      "execution_count": null,
      "outputs": [
        {
          "output_type": "execute_result",
          "data": {
            "application/vnd.google.colaboratory.intrinsic+json": {
              "type": "string"
            },
            "text/plain": [
              "'127953'"
            ]
          },
          "metadata": {
            "tags": []
          },
          "execution_count": 21
        }
      ]
    },
    {
      "cell_type": "code",
      "metadata": {
        "id": "qryxTJdNQ5wb"
      },
      "source": [
        "import pandas\n",
        "import openpyxl"
      ],
      "execution_count": null,
      "outputs": []
    },
    {
      "cell_type": "code",
      "metadata": {
        "id": "EZpdFc3bN7zZ"
      },
      "source": [
        "stateDt=[]\n",
        "stateTime=[]\n",
        "accDefRate=[]\n",
        "accExamCnt=[]\n",
        "accExamCompCnt=[]\n",
        "careCnt=[]\n",
        "clearCnt=[]\n",
        "createDt=[]\n",
        "deathCnt=[]\n",
        "decideCnt=[]\n",
        "examCnt=[]\n",
        "resutlNegCnt=[]\n",
        "updateDt=[]\n",
        "\n",
        "for item in item_list:\n",
        "  accDefRate.append(item.find('accdefrate').text)\n",
        "  stateTime.append(item.find('statetime').text)\n",
        "  accExamCnt.append(item.find('accexamcnt').text)\n",
        "  accExamCompCnt.append(item.find('accexamcompcnt').text)\n",
        "  careCnt.append(item.find('carecnt').text)\n",
        "  clearCnt.append(item.find('clearcnt').text)\n",
        "  createDt.append(item.find('createdt').text)\n",
        "  deathCnt.append(item.find('deathcnt').text)\n",
        "  decideCnt.append(item.find('decidecnt').text)\n",
        "  examCnt.append(item.find('examcnt').text)\n",
        "  resutlNegCnt.append(item.find('resutlnegcnt').text)\n",
        "  stateDt.append(item.find('statedt').text)\n",
        "  updateDt.append(item.find('updatedt').text)"
      ],
      "execution_count": null,
      "outputs": []
    },
    {
      "cell_type": "code",
      "metadata": {
        "id": "zWbRM8NZQf3c"
      },
      "source": [
        "DATA = pandas.concat([pandas.DataFrame(stateDt),\n",
        "                      pandas.DataFrame(stateTime),\n",
        "                      pandas.DataFrame(decideCnt),\n",
        "                      pandas.DataFrame(clearCnt),\n",
        "                      pandas.DataFrame(examCnt),\n",
        "                      pandas.DataFrame(deathCnt),\n",
        "                      pandas.DataFrame(careCnt),\n",
        "                      pandas.DataFrame(resutlNegCnt),\n",
        "                      pandas.DataFrame(accExamCnt),   \n",
        "                      pandas.DataFrame(accExamCompCnt),                   \n",
        "                      pandas.DataFrame(accDefRate),\n",
        "                      pandas.DataFrame(createDt),\n",
        "                      pandas.DataFrame(updateDt)\n",
        "                      ],axis=1)"
      ],
      "execution_count": null,
      "outputs": []
    },
    {
      "cell_type": "code",
      "metadata": {
        "id": "ChSDKyReRtBO"
      },
      "source": [
        "DATA.columns = ['기준일', '기준시간', '확진자 수','격리해제 수','검사진행 수','사망자 수','치료중 환자 수', '결과 음성 수','누적 검사 수','누적 검사 완료 수', '누적 확진률', '등록일시분초','수정일시분초' ]"
      ],
      "execution_count": null,
      "outputs": []
    },
    {
      "cell_type": "code",
      "metadata": {
        "colab": {
          "base_uri": "https://localhost:8080/",
          "height": 604
        },
        "id": "oo7xRCuRS1T5",
        "outputId": "63ec5029-2923-4b11-910d-3277369021b6"
      },
      "source": [
        "DATA"
      ],
      "execution_count": null,
      "outputs": [
        {
          "output_type": "execute_result",
          "data": {
            "text/html": [
              "<div>\n",
              "<style scoped>\n",
              "    .dataframe tbody tr th:only-of-type {\n",
              "        vertical-align: middle;\n",
              "    }\n",
              "\n",
              "    .dataframe tbody tr th {\n",
              "        vertical-align: top;\n",
              "    }\n",
              "\n",
              "    .dataframe thead th {\n",
              "        text-align: right;\n",
              "    }\n",
              "</style>\n",
              "<table border=\"1\" class=\"dataframe\">\n",
              "  <thead>\n",
              "    <tr style=\"text-align: right;\">\n",
              "      <th></th>\n",
              "      <th>기준일</th>\n",
              "      <th>기준시간</th>\n",
              "      <th>확진자 수</th>\n",
              "      <th>격리해제 수</th>\n",
              "      <th>검사진행 수</th>\n",
              "      <th>사망자 수</th>\n",
              "      <th>치료중 환자 수</th>\n",
              "      <th>결과 음성 수</th>\n",
              "      <th>누적 검사 수</th>\n",
              "      <th>누적 검사 완료 수</th>\n",
              "      <th>누적 확진률</th>\n",
              "      <th>등록일시분초</th>\n",
              "      <th>수정일시분초</th>\n",
              "    </tr>\n",
              "  </thead>\n",
              "  <tbody>\n",
              "    <tr>\n",
              "      <th>0</th>\n",
              "      <td>20210531</td>\n",
              "      <td>00:00</td>\n",
              "      <td>140340</td>\n",
              "      <td>130823</td>\n",
              "      <td>127953</td>\n",
              "      <td>1959</td>\n",
              "      <td>7558</td>\n",
              "      <td>9492865</td>\n",
              "      <td>9761158</td>\n",
              "      <td>9633205</td>\n",
              "      <td>1.4568360166</td>\n",
              "      <td>2021-05-31 09:34:29.254</td>\n",
              "      <td>null</td>\n",
              "    </tr>\n",
              "    <tr>\n",
              "      <th>1</th>\n",
              "      <td>20210530</td>\n",
              "      <td>00:00</td>\n",
              "      <td>139910</td>\n",
              "      <td>130381</td>\n",
              "      <td>126493</td>\n",
              "      <td>1957</td>\n",
              "      <td>7572</td>\n",
              "      <td>9481211</td>\n",
              "      <td>9747614</td>\n",
              "      <td>9621121</td>\n",
              "      <td>1.4541964496</td>\n",
              "      <td>2021-05-30 09:24:39.384</td>\n",
              "      <td>null</td>\n",
              "    </tr>\n",
              "    <tr>\n",
              "      <th>2</th>\n",
              "      <td>20210529</td>\n",
              "      <td>00:00</td>\n",
              "      <td>139431</td>\n",
              "      <td>129739</td>\n",
              "      <td>123790</td>\n",
              "      <td>1951</td>\n",
              "      <td>7741</td>\n",
              "      <td>9470370</td>\n",
              "      <td>9733591</td>\n",
              "      <td>9609801</td>\n",
              "      <td>1.4509249463</td>\n",
              "      <td>2021-05-29 09:45:26.765</td>\n",
              "      <td>null</td>\n",
              "    </tr>\n",
              "    <tr>\n",
              "      <th>3</th>\n",
              "      <td>20210528</td>\n",
              "      <td>00:00</td>\n",
              "      <td>138898</td>\n",
              "      <td>128759</td>\n",
              "      <td>122872</td>\n",
              "      <td>1946</td>\n",
              "      <td>8193</td>\n",
              "      <td>9440686</td>\n",
              "      <td>9702456</td>\n",
              "      <td>9579584</td>\n",
              "      <td>1.4499377008</td>\n",
              "      <td>2021-05-28 09:34:29.553</td>\n",
              "      <td>2021-05-29 09:47:35.466</td>\n",
              "    </tr>\n",
              "    <tr>\n",
              "      <th>4</th>\n",
              "      <td>20210527</td>\n",
              "      <td>00:00</td>\n",
              "      <td>138311</td>\n",
              "      <td>128180</td>\n",
              "      <td>122659</td>\n",
              "      <td>1943</td>\n",
              "      <td>8188</td>\n",
              "      <td>9404723</td>\n",
              "      <td>9665693</td>\n",
              "      <td>9543034</td>\n",
              "      <td>1.4493399059</td>\n",
              "      <td>2021-05-27 09:39:43.099</td>\n",
              "      <td>null</td>\n",
              "    </tr>\n",
              "    <tr>\n",
              "      <th>...</th>\n",
              "      <td>...</td>\n",
              "      <td>...</td>\n",
              "      <td>...</td>\n",
              "      <td>...</td>\n",
              "      <td>...</td>\n",
              "      <td>...</td>\n",
              "      <td>...</td>\n",
              "      <td>...</td>\n",
              "      <td>...</td>\n",
              "      <td>...</td>\n",
              "      <td>...</td>\n",
              "      <td>...</td>\n",
              "      <td>...</td>\n",
              "    </tr>\n",
              "    <tr>\n",
              "      <th>87</th>\n",
              "      <td>20210305</td>\n",
              "      <td>00:00</td>\n",
              "      <td>91630</td>\n",
              "      <td>82560</td>\n",
              "      <td>63707</td>\n",
              "      <td>1627</td>\n",
              "      <td>7443</td>\n",
              "      <td>6633667</td>\n",
              "      <td>6789004</td>\n",
              "      <td>6725297</td>\n",
              "      <td>1.3624677096</td>\n",
              "      <td>2021-03-05 09:41:54.92</td>\n",
              "      <td>2021-04-20 14:57:05.073</td>\n",
              "    </tr>\n",
              "    <tr>\n",
              "      <th>88</th>\n",
              "      <td>20210304</td>\n",
              "      <td>00:00</td>\n",
              "      <td>91232</td>\n",
              "      <td>82162</td>\n",
              "      <td>60089</td>\n",
              "      <td>1619</td>\n",
              "      <td>7451</td>\n",
              "      <td>6600572</td>\n",
              "      <td>6751893</td>\n",
              "      <td>6691804</td>\n",
              "      <td>1.3633393924</td>\n",
              "      <td>2021-03-04 09:33:23.999</td>\n",
              "      <td>2021-04-20 14:57:22.272</td>\n",
              "    </tr>\n",
              "    <tr>\n",
              "      <th>89</th>\n",
              "      <td>20210303</td>\n",
              "      <td>00:00</td>\n",
              "      <td>90808</td>\n",
              "      <td>81700</td>\n",
              "      <td>65867</td>\n",
              "      <td>1612</td>\n",
              "      <td>7496</td>\n",
              "      <td>6559521</td>\n",
              "      <td>6716196</td>\n",
              "      <td>6650329</td>\n",
              "      <td>1.3654662799</td>\n",
              "      <td>2021-03-03 09:33:02.813</td>\n",
              "      <td>2021-04-20 14:57:38.163</td>\n",
              "    </tr>\n",
              "    <tr>\n",
              "      <th>90</th>\n",
              "      <td>20210302</td>\n",
              "      <td>00:00</td>\n",
              "      <td>90364</td>\n",
              "      <td>81338</td>\n",
              "      <td>73432</td>\n",
              "      <td>1606</td>\n",
              "      <td>7420</td>\n",
              "      <td>6518173</td>\n",
              "      <td>6681969</td>\n",
              "      <td>6608537</td>\n",
              "      <td>1.3673828261</td>\n",
              "      <td>2021-03-02 09:32:41.95</td>\n",
              "      <td>2021-04-20 14:57:59.417</td>\n",
              "    </tr>\n",
              "    <tr>\n",
              "      <th>91</th>\n",
              "      <td>20210301</td>\n",
              "      <td>00:00</td>\n",
              "      <td>90020</td>\n",
              "      <td>81070</td>\n",
              "      <td>73745</td>\n",
              "      <td>1605</td>\n",
              "      <td>7345</td>\n",
              "      <td>6501982</td>\n",
              "      <td>6665747</td>\n",
              "      <td>6592002</td>\n",
              "      <td>1.3655942458</td>\n",
              "      <td>2021-03-01 09:48:21.402</td>\n",
              "      <td>2021-04-20 14:58:56.038</td>\n",
              "    </tr>\n",
              "  </tbody>\n",
              "</table>\n",
              "<p>92 rows × 13 columns</p>\n",
              "</div>"
            ],
            "text/plain": [
              "         기준일   기준시간  ...                   등록일시분초                   수정일시분초\n",
              "0   20210531  00:00  ...  2021-05-31 09:34:29.254                     null\n",
              "1   20210530  00:00  ...  2021-05-30 09:24:39.384                     null\n",
              "2   20210529  00:00  ...  2021-05-29 09:45:26.765                     null\n",
              "3   20210528  00:00  ...  2021-05-28 09:34:29.553  2021-05-29 09:47:35.466\n",
              "4   20210527  00:00  ...  2021-05-27 09:39:43.099                     null\n",
              "..       ...    ...  ...                      ...                      ...\n",
              "87  20210305  00:00  ...   2021-03-05 09:41:54.92  2021-04-20 14:57:05.073\n",
              "88  20210304  00:00  ...  2021-03-04 09:33:23.999  2021-04-20 14:57:22.272\n",
              "89  20210303  00:00  ...  2021-03-03 09:33:02.813  2021-04-20 14:57:38.163\n",
              "90  20210302  00:00  ...   2021-03-02 09:32:41.95  2021-04-20 14:57:59.417\n",
              "91  20210301  00:00  ...  2021-03-01 09:48:21.402  2021-04-20 14:58:56.038\n",
              "\n",
              "[92 rows x 13 columns]"
            ]
          },
          "metadata": {
            "tags": []
          },
          "execution_count": 18
        }
      ]
    },
    {
      "cell_type": "code",
      "metadata": {
        "id": "a5MQk70YVSim"
      },
      "source": [
        "DATA.to_excel(\"보건복지부 코로나 19 감염 현황.xlsx\")"
      ],
      "execution_count": null,
      "outputs": []
    },
    {
      "cell_type": "markdown",
      "metadata": {
        "id": "MboQygaTPqY4"
      },
      "source": [
        ""
      ]
    },
    {
      "cell_type": "markdown",
      "metadata": {
        "id": "TuR7n1R5MVqm"
      },
      "source": [
        ""
      ]
    },
    {
      "cell_type": "markdown",
      "metadata": {
        "id": "SOa67m0Ealo2"
      },
      "source": [
        ""
      ]
    }
  ]
}