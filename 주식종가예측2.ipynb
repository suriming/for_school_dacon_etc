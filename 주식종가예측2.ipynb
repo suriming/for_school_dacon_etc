{
  "nbformat": 4,
  "nbformat_minor": 0,
  "metadata": {
    "colab": {
      "name": "주식종가예측2.ipynb",
      "provenance": [],
      "collapsed_sections": []
    },
    "kernelspec": {
      "name": "python3",
      "display_name": "Python 3"
    },
    "language_info": {
      "name": "python"
    },
    "accelerator": "TPU"
  },
  "cells": [
    {
      "cell_type": "code",
      "metadata": {
        "colab": {
          "base_uri": "https://localhost:8080/"
        },
        "id": "fPORnYmV3Qpe",
        "outputId": "82894c6b-fd09-49b5-b36a-e06cc7077aff"
      },
      "source": [
        "!pip install finance-datareader"
      ],
      "execution_count": null,
      "outputs": [
        {
          "output_type": "stream",
          "text": [
            "Collecting finance-datareader\n",
            "  Downloading finance_datareader-0.9.31-py3-none-any.whl (17 kB)\n",
            "Requirement already satisfied: tqdm in /usr/local/lib/python3.7/dist-packages (from finance-datareader) (4.62.0)\n",
            "Requirement already satisfied: pandas>=0.19.2 in /usr/local/lib/python3.7/dist-packages (from finance-datareader) (1.1.5)\n",
            "Requirement already satisfied: lxml in /usr/local/lib/python3.7/dist-packages (from finance-datareader) (4.2.6)\n",
            "Requirement already satisfied: requests>=2.3.0 in /usr/local/lib/python3.7/dist-packages (from finance-datareader) (2.23.0)\n",
            "Collecting requests-file\n",
            "  Downloading requests_file-1.5.1-py2.py3-none-any.whl (3.7 kB)\n",
            "Requirement already satisfied: pytz>=2017.2 in /usr/local/lib/python3.7/dist-packages (from pandas>=0.19.2->finance-datareader) (2018.9)\n",
            "Requirement already satisfied: numpy>=1.15.4 in /usr/local/lib/python3.7/dist-packages (from pandas>=0.19.2->finance-datareader) (1.19.5)\n",
            "Requirement already satisfied: python-dateutil>=2.7.3 in /usr/local/lib/python3.7/dist-packages (from pandas>=0.19.2->finance-datareader) (2.8.2)\n",
            "Requirement already satisfied: six>=1.5 in /usr/local/lib/python3.7/dist-packages (from python-dateutil>=2.7.3->pandas>=0.19.2->finance-datareader) (1.15.0)\n",
            "Requirement already satisfied: chardet<4,>=3.0.2 in /usr/local/lib/python3.7/dist-packages (from requests>=2.3.0->finance-datareader) (3.0.4)\n",
            "Requirement already satisfied: urllib3!=1.25.0,!=1.25.1,<1.26,>=1.21.1 in /usr/local/lib/python3.7/dist-packages (from requests>=2.3.0->finance-datareader) (1.24.3)\n",
            "Requirement already satisfied: certifi>=2017.4.17 in /usr/local/lib/python3.7/dist-packages (from requests>=2.3.0->finance-datareader) (2021.5.30)\n",
            "Requirement already satisfied: idna<3,>=2.5 in /usr/local/lib/python3.7/dist-packages (from requests>=2.3.0->finance-datareader) (2.10)\n",
            "Installing collected packages: requests-file, finance-datareader\n",
            "Successfully installed finance-datareader-0.9.31 requests-file-1.5.1\n"
          ],
          "name": "stdout"
        }
      ]
    },
    {
      "cell_type": "code",
      "metadata": {
        "id": "oqjzVvNM39lR"
      },
      "source": [
        "import pandas as pd\n",
        "import pandas_datareader as web\n",
        "import math\n",
        "import os\n",
        "import numpy as np\n",
        "import FinanceDataReader as fdr\n",
        "from sklearn.preprocessing import MinMaxScaler\n",
        "from keras.models import Sequential\n",
        "from keras.layers import Dense, LSTM\n",
        "from tqdm import tqdm"
      ],
      "execution_count": null,
      "outputs": []
    },
    {
      "cell_type": "code",
      "metadata": {
        "id": "lnNAj_eM4LVE"
      },
      "source": [
        "#  차트 설정\n",
        "%matplotlib inline\n",
        "import matplotlib.pyplot as plt\n",
        "\n",
        "plt.rcParams[\"font.family\"] = 'nanummyeongjo'\n",
        "plt.rcParams[\"figure.figsize\"] = (14,4)\n",
        "plt.rcParams['lines.linewidth'] = 2\n",
        "plt.rcParams[\"axes.grid\"] = True"
      ],
      "execution_count": null,
      "outputs": []
    },
    {
      "cell_type": "code",
      "metadata": {
        "colab": {
          "base_uri": "https://localhost:8080/",
          "height": 17
        },
        "id": "xLRVoLXT4Vr9",
        "outputId": "df01ae6f-d5fe-494b-ebba-097512bf00ae"
      },
      "source": [
        "%%html\n",
        "<style>\n",
        "    table { display: inline-block }\n",
        "    .rendered_html td, .rendered_html th { text-align: left; }\n",
        "</style>"
      ],
      "execution_count": null,
      "outputs": [
        {
          "output_type": "display_data",
          "data": {
            "text/html": [
              "<style>\n",
              "    table { display: inline-block }\n",
              "    .rendered_html td, .rendered_html th { text-align: left; }\n",
              "</style>"
            ],
            "text/plain": [
              "<IPython.core.display.HTML object>"
            ]
          },
          "metadata": {}
        }
      ]
    },
    {
      "cell_type": "code",
      "metadata": {
        "colab": {
          "base_uri": "https://localhost:8080/",
          "height": 418
        },
        "id": "XKmcX16qi_du",
        "outputId": "f20e52b1-d85f-4e21-fb6d-49ad1e6505e7"
      },
      "source": [
        "path = './'\n",
        "list_name = 'Stock_List.csv'\n",
        "stock_list = pd.read_csv(os.path.join(path,list_name))\n",
        "stock_list['종목코드'] = stock_list['종목코드'].apply(lambda x : str(x).zfill(6))\n",
        "stock_list"
      ],
      "execution_count": null,
      "outputs": [
        {
          "output_type": "execute_result",
          "data": {
            "text/html": [
              "<div>\n",
              "<style scoped>\n",
              "    .dataframe tbody tr th:only-of-type {\n",
              "        vertical-align: middle;\n",
              "    }\n",
              "\n",
              "    .dataframe tbody tr th {\n",
              "        vertical-align: top;\n",
              "    }\n",
              "\n",
              "    .dataframe thead th {\n",
              "        text-align: right;\n",
              "    }\n",
              "</style>\n",
              "<table border=\"1\" class=\"dataframe\">\n",
              "  <thead>\n",
              "    <tr style=\"text-align: right;\">\n",
              "      <th></th>\n",
              "      <th>종목명</th>\n",
              "      <th>종목코드</th>\n",
              "      <th>상장시장</th>\n",
              "    </tr>\n",
              "  </thead>\n",
              "  <tbody>\n",
              "    <tr>\n",
              "      <th>0</th>\n",
              "      <td>삼성전자</td>\n",
              "      <td>005930</td>\n",
              "      <td>KOSPI</td>\n",
              "    </tr>\n",
              "    <tr>\n",
              "      <th>1</th>\n",
              "      <td>SK하이닉스</td>\n",
              "      <td>000660</td>\n",
              "      <td>KOSPI</td>\n",
              "    </tr>\n",
              "    <tr>\n",
              "      <th>2</th>\n",
              "      <td>NAVER</td>\n",
              "      <td>035420</td>\n",
              "      <td>KOSPI</td>\n",
              "    </tr>\n",
              "    <tr>\n",
              "      <th>3</th>\n",
              "      <td>카카오</td>\n",
              "      <td>035720</td>\n",
              "      <td>KOSPI</td>\n",
              "    </tr>\n",
              "    <tr>\n",
              "      <th>4</th>\n",
              "      <td>삼성바이오로직스</td>\n",
              "      <td>207940</td>\n",
              "      <td>KOSPI</td>\n",
              "    </tr>\n",
              "    <tr>\n",
              "      <th>...</th>\n",
              "      <td>...</td>\n",
              "      <td>...</td>\n",
              "      <td>...</td>\n",
              "    </tr>\n",
              "    <tr>\n",
              "      <th>371</th>\n",
              "      <td>더네이쳐홀딩스</td>\n",
              "      <td>298540</td>\n",
              "      <td>KOSDAQ</td>\n",
              "    </tr>\n",
              "    <tr>\n",
              "      <th>372</th>\n",
              "      <td>코엔텍</td>\n",
              "      <td>029960</td>\n",
              "      <td>KOSDAQ</td>\n",
              "    </tr>\n",
              "    <tr>\n",
              "      <th>373</th>\n",
              "      <td>원익홀딩스</td>\n",
              "      <td>030530</td>\n",
              "      <td>KOSDAQ</td>\n",
              "    </tr>\n",
              "    <tr>\n",
              "      <th>374</th>\n",
              "      <td>웹케시</td>\n",
              "      <td>053580</td>\n",
              "      <td>KOSDAQ</td>\n",
              "    </tr>\n",
              "    <tr>\n",
              "      <th>375</th>\n",
              "      <td>신흥에스이씨</td>\n",
              "      <td>243840</td>\n",
              "      <td>KOSDAQ</td>\n",
              "    </tr>\n",
              "  </tbody>\n",
              "</table>\n",
              "<p>376 rows × 3 columns</p>\n",
              "</div>"
            ],
            "text/plain": [
              "          종목명    종목코드    상장시장\n",
              "0        삼성전자  005930   KOSPI\n",
              "1      SK하이닉스  000660   KOSPI\n",
              "2       NAVER  035420   KOSPI\n",
              "3         카카오  035720   KOSPI\n",
              "4    삼성바이오로직스  207940   KOSPI\n",
              "..        ...     ...     ...\n",
              "371   더네이쳐홀딩스  298540  KOSDAQ\n",
              "372       코엔텍  029960  KOSDAQ\n",
              "373     원익홀딩스  030530  KOSDAQ\n",
              "374       웹케시  053580  KOSDAQ\n",
              "375    신흥에스이씨  243840  KOSDAQ\n",
              "\n",
              "[376 rows x 3 columns]"
            ]
          },
          "metadata": {},
          "execution_count": 35
        }
      ]
    },
    {
      "cell_type": "code",
      "metadata": {
        "colab": {
          "base_uri": "https://localhost:8080/",
          "height": 449
        },
        "id": "J8heO-FRjdlM",
        "outputId": "5c0e2a4c-077d-46f1-88ea-ffc55dfedf87"
      },
      "source": [
        "start_date = '20210101'\n",
        "end_date = '20210808'\n",
        "sample_code = '005930'\n",
        "stock = fdr.DataReader(sample_code, start = start_date, end = end_date)\n",
        "stock"
      ],
      "execution_count": null,
      "outputs": [
        {
          "output_type": "execute_result",
          "data": {
            "text/html": [
              "<div>\n",
              "<style scoped>\n",
              "    .dataframe tbody tr th:only-of-type {\n",
              "        vertical-align: middle;\n",
              "    }\n",
              "\n",
              "    .dataframe tbody tr th {\n",
              "        vertical-align: top;\n",
              "    }\n",
              "\n",
              "    .dataframe thead th {\n",
              "        text-align: right;\n",
              "    }\n",
              "</style>\n",
              "<table border=\"1\" class=\"dataframe\">\n",
              "  <thead>\n",
              "    <tr style=\"text-align: right;\">\n",
              "      <th></th>\n",
              "      <th>Open</th>\n",
              "      <th>High</th>\n",
              "      <th>Low</th>\n",
              "      <th>Close</th>\n",
              "      <th>Volume</th>\n",
              "      <th>Change</th>\n",
              "    </tr>\n",
              "    <tr>\n",
              "      <th>Date</th>\n",
              "      <th></th>\n",
              "      <th></th>\n",
              "      <th></th>\n",
              "      <th></th>\n",
              "      <th></th>\n",
              "      <th></th>\n",
              "    </tr>\n",
              "  </thead>\n",
              "  <tbody>\n",
              "    <tr>\n",
              "      <th>2021-01-04</th>\n",
              "      <td>81000</td>\n",
              "      <td>84400</td>\n",
              "      <td>80200</td>\n",
              "      <td>83000</td>\n",
              "      <td>38655276</td>\n",
              "      <td>0.024691</td>\n",
              "    </tr>\n",
              "    <tr>\n",
              "      <th>2021-01-05</th>\n",
              "      <td>81600</td>\n",
              "      <td>83900</td>\n",
              "      <td>81600</td>\n",
              "      <td>83900</td>\n",
              "      <td>35335669</td>\n",
              "      <td>0.010843</td>\n",
              "    </tr>\n",
              "    <tr>\n",
              "      <th>2021-01-06</th>\n",
              "      <td>83300</td>\n",
              "      <td>84500</td>\n",
              "      <td>82100</td>\n",
              "      <td>82200</td>\n",
              "      <td>42089013</td>\n",
              "      <td>-0.020262</td>\n",
              "    </tr>\n",
              "    <tr>\n",
              "      <th>2021-01-07</th>\n",
              "      <td>82800</td>\n",
              "      <td>84200</td>\n",
              "      <td>82700</td>\n",
              "      <td>82900</td>\n",
              "      <td>32644642</td>\n",
              "      <td>0.008516</td>\n",
              "    </tr>\n",
              "    <tr>\n",
              "      <th>2021-01-08</th>\n",
              "      <td>83300</td>\n",
              "      <td>90000</td>\n",
              "      <td>83000</td>\n",
              "      <td>88800</td>\n",
              "      <td>59013307</td>\n",
              "      <td>0.071170</td>\n",
              "    </tr>\n",
              "    <tr>\n",
              "      <th>...</th>\n",
              "      <td>...</td>\n",
              "      <td>...</td>\n",
              "      <td>...</td>\n",
              "      <td>...</td>\n",
              "      <td>...</td>\n",
              "      <td>...</td>\n",
              "    </tr>\n",
              "    <tr>\n",
              "      <th>2021-08-02</th>\n",
              "      <td>79200</td>\n",
              "      <td>79500</td>\n",
              "      <td>78700</td>\n",
              "      <td>79300</td>\n",
              "      <td>11739124</td>\n",
              "      <td>0.010191</td>\n",
              "    </tr>\n",
              "    <tr>\n",
              "      <th>2021-08-03</th>\n",
              "      <td>79400</td>\n",
              "      <td>81400</td>\n",
              "      <td>79300</td>\n",
              "      <td>81400</td>\n",
              "      <td>24339360</td>\n",
              "      <td>0.026482</td>\n",
              "    </tr>\n",
              "    <tr>\n",
              "      <th>2021-08-04</th>\n",
              "      <td>82200</td>\n",
              "      <td>83100</td>\n",
              "      <td>81800</td>\n",
              "      <td>82900</td>\n",
              "      <td>25642368</td>\n",
              "      <td>0.018428</td>\n",
              "    </tr>\n",
              "    <tr>\n",
              "      <th>2021-08-05</th>\n",
              "      <td>83300</td>\n",
              "      <td>83300</td>\n",
              "      <td>82000</td>\n",
              "      <td>82100</td>\n",
              "      <td>18485469</td>\n",
              "      <td>-0.009650</td>\n",
              "    </tr>\n",
              "    <tr>\n",
              "      <th>2021-08-06</th>\n",
              "      <td>81900</td>\n",
              "      <td>82500</td>\n",
              "      <td>81300</td>\n",
              "      <td>81500</td>\n",
              "      <td>13342623</td>\n",
              "      <td>-0.007308</td>\n",
              "    </tr>\n",
              "  </tbody>\n",
              "</table>\n",
              "<p>150 rows × 6 columns</p>\n",
              "</div>"
            ],
            "text/plain": [
              "             Open   High    Low  Close    Volume    Change\n",
              "Date                                                      \n",
              "2021-01-04  81000  84400  80200  83000  38655276  0.024691\n",
              "2021-01-05  81600  83900  81600  83900  35335669  0.010843\n",
              "2021-01-06  83300  84500  82100  82200  42089013 -0.020262\n",
              "2021-01-07  82800  84200  82700  82900  32644642  0.008516\n",
              "2021-01-08  83300  90000  83000  88800  59013307  0.071170\n",
              "...           ...    ...    ...    ...       ...       ...\n",
              "2021-08-02  79200  79500  78700  79300  11739124  0.010191\n",
              "2021-08-03  79400  81400  79300  81400  24339360  0.026482\n",
              "2021-08-04  82200  83100  81800  82900  25642368  0.018428\n",
              "2021-08-05  83300  83300  82000  82100  18485469 -0.009650\n",
              "2021-08-06  81900  82500  81300  81500  13342623 -0.007308\n",
              "\n",
              "[150 rows x 6 columns]"
            ]
          },
          "metadata": {},
          "execution_count": 27
        }
      ]
    },
    {
      "cell_type": "code",
      "metadata": {
        "colab": {
          "base_uri": "https://localhost:8080/",
          "height": 235
        },
        "id": "hqydG113Y7CM",
        "outputId": "04bd4ca9-1814-41b3-e265-fe97d6176403"
      },
      "source": [
        "start_date = '20210101'\n",
        "end_date = '20210808'\n",
        "sample_code = '000150'\n",
        "stock = fdr.DataReader(sample_code, start = '20210809', end = '20210813')\n",
        "stock"
      ],
      "execution_count": null,
      "outputs": [
        {
          "output_type": "execute_result",
          "data": {
            "text/html": [
              "<div>\n",
              "<style scoped>\n",
              "    .dataframe tbody tr th:only-of-type {\n",
              "        vertical-align: middle;\n",
              "    }\n",
              "\n",
              "    .dataframe tbody tr th {\n",
              "        vertical-align: top;\n",
              "    }\n",
              "\n",
              "    .dataframe thead th {\n",
              "        text-align: right;\n",
              "    }\n",
              "</style>\n",
              "<table border=\"1\" class=\"dataframe\">\n",
              "  <thead>\n",
              "    <tr style=\"text-align: right;\">\n",
              "      <th></th>\n",
              "      <th>Open</th>\n",
              "      <th>High</th>\n",
              "      <th>Low</th>\n",
              "      <th>Close</th>\n",
              "      <th>Volume</th>\n",
              "      <th>Change</th>\n",
              "    </tr>\n",
              "    <tr>\n",
              "      <th>Date</th>\n",
              "      <th></th>\n",
              "      <th></th>\n",
              "      <th></th>\n",
              "      <th></th>\n",
              "      <th></th>\n",
              "      <th></th>\n",
              "    </tr>\n",
              "  </thead>\n",
              "  <tbody>\n",
              "    <tr>\n",
              "      <th>2021-08-09</th>\n",
              "      <td>96600</td>\n",
              "      <td>96700</td>\n",
              "      <td>94200</td>\n",
              "      <td>95000</td>\n",
              "      <td>71184</td>\n",
              "      <td>-0.022634</td>\n",
              "    </tr>\n",
              "    <tr>\n",
              "      <th>2021-08-10</th>\n",
              "      <td>95300</td>\n",
              "      <td>97000</td>\n",
              "      <td>93900</td>\n",
              "      <td>96300</td>\n",
              "      <td>70570</td>\n",
              "      <td>0.013684</td>\n",
              "    </tr>\n",
              "    <tr>\n",
              "      <th>2021-08-11</th>\n",
              "      <td>95400</td>\n",
              "      <td>99400</td>\n",
              "      <td>95400</td>\n",
              "      <td>96700</td>\n",
              "      <td>53718</td>\n",
              "      <td>0.004154</td>\n",
              "    </tr>\n",
              "    <tr>\n",
              "      <th>2021-08-12</th>\n",
              "      <td>97700</td>\n",
              "      <td>98800</td>\n",
              "      <td>97000</td>\n",
              "      <td>98100</td>\n",
              "      <td>36278</td>\n",
              "      <td>0.014478</td>\n",
              "    </tr>\n",
              "    <tr>\n",
              "      <th>2021-08-13</th>\n",
              "      <td>98700</td>\n",
              "      <td>98700</td>\n",
              "      <td>93000</td>\n",
              "      <td>93400</td>\n",
              "      <td>85748</td>\n",
              "      <td>-0.047910</td>\n",
              "    </tr>\n",
              "  </tbody>\n",
              "</table>\n",
              "</div>"
            ],
            "text/plain": [
              "             Open   High    Low  Close  Volume    Change\n",
              "Date                                                    \n",
              "2021-08-09  96600  96700  94200  95000   71184 -0.022634\n",
              "2021-08-10  95300  97000  93900  96300   70570  0.013684\n",
              "2021-08-11  95400  99400  95400  96700   53718  0.004154\n",
              "2021-08-12  97700  98800  97000  98100   36278  0.014478\n",
              "2021-08-13  98700  98700  93000  93400   85748 -0.047910"
            ]
          },
          "metadata": {},
          "execution_count": 111
        }
      ]
    },
    {
      "cell_type": "code",
      "metadata": {
        "id": "jwhk9G4oOy1s"
      },
      "source": [
        "data_sample = stock.filter(['Close'])\n",
        "dataset_sample = data_sample.values"
      ],
      "execution_count": null,
      "outputs": []
    },
    {
      "cell_type": "code",
      "metadata": {
        "colab": {
          "base_uri": "https://localhost:8080/"
        },
        "id": "mr1mBgUOPkHK",
        "outputId": "bf48b639-7345-4646-9a40-b7c1c41f41c3"
      },
      "source": [
        "sample_training_data_len = math.ceil(len(dataset_sample)*.8)\n",
        "\n",
        "sample_training_data_len"
      ],
      "execution_count": null,
      "outputs": [
        {
          "output_type": "execute_result",
          "data": {
            "text/plain": [
              "320"
            ]
          },
          "metadata": {},
          "execution_count": 14
        }
      ]
    },
    {
      "cell_type": "code",
      "metadata": {
        "id": "JfRXO19pP4Wm"
      },
      "source": [
        "#Scale the data\n",
        "scaler = MinMaxScaler(feature_range=(0,1))\n",
        "sample_scaled_data = scaler.fit_transform(dataset_sample)\n"
      ],
      "execution_count": null,
      "outputs": []
    },
    {
      "cell_type": "code",
      "metadata": {
        "colab": {
          "base_uri": "https://localhost:8080/"
        },
        "id": "qymWJ8hSQTZy",
        "outputId": "eaee2727-17e3-4a0c-e4d3-c8c270d0157d"
      },
      "source": [
        "sample_train_data = sample_scaled_data[0:sample_training_data_len,:]\n",
        "sample_x_train = []\n",
        "sample_y_train = []\n",
        "\n",
        "for i in range(60, len(sample_train_data)):\n",
        "  sample_x_train.append(sample_train_data[i-60:i,0])\n",
        "  sample_y_train.append(sample_train_data[i,0])\n",
        "  if i<=61:\n",
        "    print(sample_x_train)\n",
        "    print(sample_y_train)\n",
        "    print()"
      ],
      "execution_count": null,
      "outputs": [
        {
          "output_type": "stream",
          "text": [
            "[array([0.26185567, 0.26804124, 0.26804124, 0.2742268 , 0.29484536,\n",
            "       0.33195876, 0.35051546, 0.36082474, 0.36082474, 0.34020619,\n",
            "       0.37525773, 0.38762887, 0.41030928, 0.38969072, 0.40824742,\n",
            "       0.37731959, 0.33608247, 0.34226804, 0.30309278, 0.28659794,\n",
            "       0.30309278, 0.33814433, 0.35051546, 0.38350515, 0.36907216,\n",
            "       0.35463918, 0.35876289, 0.37113402, 0.37525773, 0.39793814,\n",
            "       0.39175258, 0.35670103, 0.36494845, 0.36082474, 0.3443299 ,\n",
            "       0.29484536, 0.31752577, 0.28865979, 0.27628866, 0.24123711,\n",
            "       0.25773196, 0.26597938, 0.30721649, 0.31546392, 0.28865979,\n",
            "       0.24123711, 0.24948454, 0.19793814, 0.17113402, 0.15360825,\n",
            "       0.13195876, 0.09896907, 0.06391753, 0.00927835, 0.05979381,\n",
            "       0.        , 0.09175258, 0.12680412, 0.10927835, 0.11958763])]\n",
            "[0.1103092783505154]\n",
            "\n",
            "[array([0.26185567, 0.26804124, 0.26804124, 0.2742268 , 0.29484536,\n",
            "       0.33195876, 0.35051546, 0.36082474, 0.36082474, 0.34020619,\n",
            "       0.37525773, 0.38762887, 0.41030928, 0.38969072, 0.40824742,\n",
            "       0.37731959, 0.33608247, 0.34226804, 0.30309278, 0.28659794,\n",
            "       0.30309278, 0.33814433, 0.35051546, 0.38350515, 0.36907216,\n",
            "       0.35463918, 0.35876289, 0.37113402, 0.37525773, 0.39793814,\n",
            "       0.39175258, 0.35670103, 0.36494845, 0.36082474, 0.3443299 ,\n",
            "       0.29484536, 0.31752577, 0.28865979, 0.27628866, 0.24123711,\n",
            "       0.25773196, 0.26597938, 0.30721649, 0.31546392, 0.28865979,\n",
            "       0.24123711, 0.24948454, 0.19793814, 0.17113402, 0.15360825,\n",
            "       0.13195876, 0.09896907, 0.06391753, 0.00927835, 0.05979381,\n",
            "       0.        , 0.09175258, 0.12680412, 0.10927835, 0.11958763]), array([0.26804124, 0.26804124, 0.2742268 , 0.29484536, 0.33195876,\n",
            "       0.35051546, 0.36082474, 0.36082474, 0.34020619, 0.37525773,\n",
            "       0.38762887, 0.41030928, 0.38969072, 0.40824742, 0.37731959,\n",
            "       0.33608247, 0.34226804, 0.30309278, 0.28659794, 0.30309278,\n",
            "       0.33814433, 0.35051546, 0.38350515, 0.36907216, 0.35463918,\n",
            "       0.35876289, 0.37113402, 0.37525773, 0.39793814, 0.39175258,\n",
            "       0.35670103, 0.36494845, 0.36082474, 0.3443299 , 0.29484536,\n",
            "       0.31752577, 0.28865979, 0.27628866, 0.24123711, 0.25773196,\n",
            "       0.26597938, 0.30721649, 0.31546392, 0.28865979, 0.24123711,\n",
            "       0.24948454, 0.19793814, 0.17113402, 0.15360825, 0.13195876,\n",
            "       0.09896907, 0.06391753, 0.00927835, 0.05979381, 0.        ,\n",
            "       0.09175258, 0.12680412, 0.10927835, 0.11958763, 0.11030928])]\n",
            "[0.1103092783505154, 0.10824742268041232]\n",
            "\n"
          ],
          "name": "stdout"
        }
      ]
    },
    {
      "cell_type": "code",
      "metadata": {
        "id": "MCD-oEhOaVu4"
      },
      "source": [
        "sample_x_train, sample_y_train = np.array(sample_x_train), np.array(sample_y_train)"
      ],
      "execution_count": null,
      "outputs": []
    },
    {
      "cell_type": "code",
      "metadata": {
        "id": "Xdj7n6lwmwdV"
      },
      "source": [
        ""
      ],
      "execution_count": null,
      "outputs": []
    },
    {
      "cell_type": "code",
      "metadata": {
        "id": "b3Oicx1Iamh-"
      },
      "source": [
        "sample_x_train = np.reshape(sample_x_train, (sample_x_train.shape[0],sample_x_train.shape[1],1))"
      ],
      "execution_count": null,
      "outputs": []
    },
    {
      "cell_type": "code",
      "metadata": {
        "id": "XYwpAMdKa6Bt",
        "colab": {
          "base_uri": "https://localhost:8080/",
          "height": 241
        },
        "outputId": "ecff515d-1614-46c8-f0c5-5da8a9e8cddb"
      },
      "source": [
        "model = Sequential()\n",
        "model.add(LSTM(50, return_sequences=True, input_shape=(sample_x_train.shape[1],1)))\n",
        "model.add(LSTM(50, return_sequences=False))\n",
        "model.add(Dense(25))\n",
        "model.add(Dense(1))"
      ],
      "execution_count": null,
      "outputs": [
        {
          "output_type": "error",
          "ename": "NameError",
          "evalue": "ignored",
          "traceback": [
            "\u001b[0;31m---------------------------------------------------------------------------\u001b[0m",
            "\u001b[0;31mNameError\u001b[0m                                 Traceback (most recent call last)",
            "\u001b[0;32m<ipython-input-28-4d58787b3357>\u001b[0m in \u001b[0;36m<module>\u001b[0;34m()\u001b[0m\n\u001b[1;32m      1\u001b[0m \u001b[0mmodel\u001b[0m \u001b[0;34m=\u001b[0m \u001b[0mSequential\u001b[0m\u001b[0;34m(\u001b[0m\u001b[0;34m)\u001b[0m\u001b[0;34m\u001b[0m\u001b[0;34m\u001b[0m\u001b[0m\n\u001b[0;32m----> 2\u001b[0;31m \u001b[0mmodel\u001b[0m\u001b[0;34m.\u001b[0m\u001b[0madd\u001b[0m\u001b[0;34m(\u001b[0m\u001b[0mLSTM\u001b[0m\u001b[0;34m(\u001b[0m\u001b[0;36m50\u001b[0m\u001b[0;34m,\u001b[0m \u001b[0mreturn_sequences\u001b[0m\u001b[0;34m=\u001b[0m\u001b[0;32mTrue\u001b[0m\u001b[0;34m,\u001b[0m \u001b[0minput_shape\u001b[0m\u001b[0;34m=\u001b[0m\u001b[0;34m(\u001b[0m\u001b[0mx_train\u001b[0m\u001b[0;34m.\u001b[0m\u001b[0mshape\u001b[0m\u001b[0;34m[\u001b[0m\u001b[0;36m1\u001b[0m\u001b[0;34m]\u001b[0m\u001b[0;34m,\u001b[0m\u001b[0;36m1\u001b[0m\u001b[0;34m)\u001b[0m\u001b[0;34m)\u001b[0m\u001b[0;34m)\u001b[0m\u001b[0;34m\u001b[0m\u001b[0;34m\u001b[0m\u001b[0m\n\u001b[0m\u001b[1;32m      3\u001b[0m \u001b[0mmodel\u001b[0m\u001b[0;34m.\u001b[0m\u001b[0madd\u001b[0m\u001b[0;34m(\u001b[0m\u001b[0mLSTM\u001b[0m\u001b[0;34m(\u001b[0m\u001b[0;36m50\u001b[0m\u001b[0;34m,\u001b[0m \u001b[0mreturn_sequences\u001b[0m\u001b[0;34m=\u001b[0m\u001b[0;32mFalse\u001b[0m\u001b[0;34m)\u001b[0m\u001b[0;34m)\u001b[0m\u001b[0;34m\u001b[0m\u001b[0;34m\u001b[0m\u001b[0m\n\u001b[1;32m      4\u001b[0m \u001b[0mmodel\u001b[0m\u001b[0;34m.\u001b[0m\u001b[0madd\u001b[0m\u001b[0;34m(\u001b[0m\u001b[0mDense\u001b[0m\u001b[0;34m(\u001b[0m\u001b[0;36m25\u001b[0m\u001b[0;34m)\u001b[0m\u001b[0;34m)\u001b[0m\u001b[0;34m\u001b[0m\u001b[0;34m\u001b[0m\u001b[0m\n\u001b[1;32m      5\u001b[0m \u001b[0mmodel\u001b[0m\u001b[0;34m.\u001b[0m\u001b[0madd\u001b[0m\u001b[0;34m(\u001b[0m\u001b[0mDense\u001b[0m\u001b[0;34m(\u001b[0m\u001b[0;36m1\u001b[0m\u001b[0;34m)\u001b[0m\u001b[0;34m)\u001b[0m\u001b[0;34m\u001b[0m\u001b[0;34m\u001b[0m\u001b[0m\n",
            "\u001b[0;31mNameError\u001b[0m: name 'x_train' is not defined"
          ]
        }
      ]
    },
    {
      "cell_type": "code",
      "metadata": {
        "id": "_vB00nx5briT"
      },
      "source": [
        "#compile\n",
        "model.compile(optimizer='adam', loss='mean_squared_error')"
      ],
      "execution_count": null,
      "outputs": []
    },
    {
      "cell_type": "code",
      "metadata": {
        "colab": {
          "base_uri": "https://localhost:8080/"
        },
        "id": "G8AdfqcQb0ru",
        "outputId": "037f43fd-ca69-400e-a722-168b341069a0"
      },
      "source": [
        "#train\n",
        "model.fit(sample_x_train,sample_y_train, batch_size=1, epochs=1)"
      ],
      "execution_count": null,
      "outputs": [
        {
          "output_type": "stream",
          "text": [
            "260/260 [==============================] - 10s 28ms/step - loss: 0.0101\n"
          ],
          "name": "stdout"
        },
        {
          "output_type": "execute_result",
          "data": {
            "text/plain": [
              "<keras.callbacks.History at 0x7f9061587a90>"
            ]
          },
          "metadata": {},
          "execution_count": 26
        }
      ]
    },
    {
      "cell_type": "code",
      "metadata": {
        "id": "A9yg0WO_cDgQ"
      },
      "source": [
        "#Create the testing data set\n",
        "#Create a new array containing scaled values from index 1543 to 2003\n",
        "test_data = sample_scaled_data[sample_training_data_len-60:,:]\n",
        "sample_x_test=[]\n",
        "sample_y_test=dataset_sample[sample_training_data_len:, :]"
      ],
      "execution_count": null,
      "outputs": []
    },
    {
      "cell_type": "code",
      "metadata": {
        "id": "al_ZZbNGcLkT"
      },
      "source": [
        "data_sample = stock.filter(['Close'])\n",
        "dataset_sample = data_sample.values"
      ],
      "execution_count": null,
      "outputs": []
    },
    {
      "cell_type": "code",
      "metadata": {
        "id": "bEJwWAx24VFn"
      },
      "source": [
        "code='000080'"
      ],
      "execution_count": null,
      "outputs": []
    },
    {
      "cell_type": "code",
      "metadata": {
        "id": "rgTUbKPZ5JRM"
      },
      "source": [
        "sample_name = 'sample_submission.csv'\n",
        "sample_submission = pd.read_csv(os.path.join(path,sample_name))"
      ],
      "execution_count": null,
      "outputs": []
    },
    {
      "cell_type": "code",
      "metadata": {
        "id": "lxe50JcgBxnM"
      },
      "source": [
        "data = fdr.DataReader(code, start = 20210101, end = end_date).filter(['Close'])"
      ],
      "execution_count": null,
      "outputs": []
    },
    {
      "cell_type": "code",
      "metadata": {
        "colab": {
          "base_uri": "https://localhost:8080/",
          "height": 449
        },
        "id": "moP7uFDxBzSv",
        "outputId": "9ff3973f-7de0-4dab-908f-61317120f403"
      },
      "source": [
        "data"
      ],
      "execution_count": null,
      "outputs": [
        {
          "output_type": "execute_result",
          "data": {
            "text/html": [
              "<div>\n",
              "<style scoped>\n",
              "    .dataframe tbody tr th:only-of-type {\n",
              "        vertical-align: middle;\n",
              "    }\n",
              "\n",
              "    .dataframe tbody tr th {\n",
              "        vertical-align: top;\n",
              "    }\n",
              "\n",
              "    .dataframe thead th {\n",
              "        text-align: right;\n",
              "    }\n",
              "</style>\n",
              "<table border=\"1\" class=\"dataframe\">\n",
              "  <thead>\n",
              "    <tr style=\"text-align: right;\">\n",
              "      <th></th>\n",
              "      <th>Close</th>\n",
              "    </tr>\n",
              "    <tr>\n",
              "      <th>Date</th>\n",
              "      <th></th>\n",
              "    </tr>\n",
              "  </thead>\n",
              "  <tbody>\n",
              "    <tr>\n",
              "      <th>1997-07-29</th>\n",
              "      <td>2095</td>\n",
              "    </tr>\n",
              "    <tr>\n",
              "      <th>1997-07-30</th>\n",
              "      <td>2027</td>\n",
              "    </tr>\n",
              "    <tr>\n",
              "      <th>1997-07-31</th>\n",
              "      <td>2016</td>\n",
              "    </tr>\n",
              "    <tr>\n",
              "      <th>1997-08-01</th>\n",
              "      <td>2027</td>\n",
              "    </tr>\n",
              "    <tr>\n",
              "      <th>1997-08-02</th>\n",
              "      <td>2036</td>\n",
              "    </tr>\n",
              "    <tr>\n",
              "      <th>...</th>\n",
              "      <td>...</td>\n",
              "    </tr>\n",
              "    <tr>\n",
              "      <th>2021-08-02</th>\n",
              "      <td>24400</td>\n",
              "    </tr>\n",
              "    <tr>\n",
              "      <th>2021-08-03</th>\n",
              "      <td>24500</td>\n",
              "    </tr>\n",
              "    <tr>\n",
              "      <th>2021-08-04</th>\n",
              "      <td>25600</td>\n",
              "    </tr>\n",
              "    <tr>\n",
              "      <th>2021-08-05</th>\n",
              "      <td>25900</td>\n",
              "    </tr>\n",
              "    <tr>\n",
              "      <th>2021-08-06</th>\n",
              "      <td>25700</td>\n",
              "    </tr>\n",
              "  </tbody>\n",
              "</table>\n",
              "<p>5990 rows × 1 columns</p>\n",
              "</div>"
            ],
            "text/plain": [
              "            Close\n",
              "Date             \n",
              "1997-07-29   2095\n",
              "1997-07-30   2027\n",
              "1997-07-31   2016\n",
              "1997-08-01   2027\n",
              "1997-08-02   2036\n",
              "...           ...\n",
              "2021-08-02  24400\n",
              "2021-08-03  24500\n",
              "2021-08-04  25600\n",
              "2021-08-05  25900\n",
              "2021-08-06  25700\n",
              "\n",
              "[5990 rows x 1 columns]"
            ]
          },
          "metadata": {},
          "execution_count": 62
        }
      ]
    },
    {
      "cell_type": "code",
      "metadata": {
        "colab": {
          "base_uri": "https://localhost:8080/"
        },
        "id": "Bs4ZHN3b4AFD",
        "outputId": "c65bb746-649e-47de-a161-00b81bac603c"
      },
      "source": [
        "data = fdr.DataReader(code, start = '20100101', end = end_date).filter(['Close'])\n",
        "dataset = data.values\n",
        "\n",
        "scaler = MinMaxScaler(feature_range=(0,1))\n",
        "scaled_data = scaler.fit_transform(dataset)\n",
        "\n",
        "train_data = scaled_data[0:len(dataset),:]\n",
        "x_train = []\n",
        "y_train = []\n",
        "\n",
        "for i in range(77, len(train_data)):\n",
        "  x_train.append(train_data[i-77:i,0])\n",
        "  y_train.append(train_data[i,0])\n",
        "\n",
        "x_train, y_train = np.array(x_train), np.array(y_train)\n",
        "x_train = np.reshape(x_train, (x_train.shape[0],x_train.shape[1],1))\n",
        "\n",
        "model = Sequential()\n",
        "model.add(LSTM(50, return_sequences=True, input_shape=(x_train.shape[1],1)))\n",
        "model.add(LSTM(50, return_sequences=False))\n",
        "model.add(Dense(25))\n",
        "model.add(Dense(1))\n",
        "\n",
        "model.compile(optimizer='adam', loss='mean_squared_error')\n",
        "model.fit(x_train,y_train, batch_size=3, epochs=2)\n",
        "\n",
        "\n",
        "test_data = fdr.DataReader(code, start = '20210406', end = end_date).filter(['Close'])\n",
        "test_dataset = test_data.values\n",
        "\n",
        "scaler = MinMaxScaler(feature_range=(0,1))\n",
        "scaled_data = scaler.fit_transform(test_dataset)\n",
        "\n",
        "test_data = scaled_data[0:len(test_dataset),:]\n",
        "x_test = []\n",
        "\n",
        "for i in range(77, len(test_data)):\n",
        "  x_test.append(test_data[i-77:i,0])\n",
        "x_test = np.array(x_test)\n",
        "x_test = np.reshape(x_test, (x_test.shape[0], x_test.shape[1], 1))\n",
        "\n",
        "predicted = model.predict(x_test)\n",
        "predicted = scaler.inverse_transform(predicted)\n",
        "\n",
        "sample_submission.loc[:,code] = predicted \n"
      ],
      "execution_count": null,
      "outputs": [
        {
          "output_type": "stream",
          "text": [
            "Epoch 1/2\n",
            "929/929 [==============================] - 40s 40ms/step - loss: 0.0025\n",
            "Epoch 2/2\n",
            "929/929 [==============================] - 37s 40ms/step - loss: 0.0010\n"
          ],
          "name": "stdout"
        }
      ]
    },
    {
      "cell_type": "code",
      "metadata": {
        "colab": {
          "base_uri": "https://localhost:8080/",
          "height": 576
        },
        "id": "bjWbHhYeClOM",
        "outputId": "d257f08e-5a42-4124-fdb6-bd50330c0898"
      },
      "source": [
        "sample_submission"
      ],
      "execution_count": null,
      "outputs": [
        {
          "output_type": "execute_result",
          "data": {
            "text/html": [
              "<div>\n",
              "<style scoped>\n",
              "    .dataframe tbody tr th:only-of-type {\n",
              "        vertical-align: middle;\n",
              "    }\n",
              "\n",
              "    .dataframe tbody tr th {\n",
              "        vertical-align: top;\n",
              "    }\n",
              "\n",
              "    .dataframe thead th {\n",
              "        text-align: right;\n",
              "    }\n",
              "</style>\n",
              "<table border=\"1\" class=\"dataframe\">\n",
              "  <thead>\n",
              "    <tr style=\"text-align: right;\">\n",
              "      <th></th>\n",
              "      <th>Day</th>\n",
              "      <th>000060</th>\n",
              "      <th>000080</th>\n",
              "      <th>000100</th>\n",
              "      <th>000120</th>\n",
              "      <th>000150</th>\n",
              "      <th>000240</th>\n",
              "      <th>000250</th>\n",
              "      <th>000270</th>\n",
              "      <th>000660</th>\n",
              "      <th>000670</th>\n",
              "      <th>000720</th>\n",
              "      <th>000810</th>\n",
              "      <th>000880</th>\n",
              "      <th>000990</th>\n",
              "      <th>001230</th>\n",
              "      <th>001440</th>\n",
              "      <th>001450</th>\n",
              "      <th>001740</th>\n",
              "      <th>002380</th>\n",
              "      <th>002790</th>\n",
              "      <th>003000</th>\n",
              "      <th>003090</th>\n",
              "      <th>003380</th>\n",
              "      <th>003410</th>\n",
              "      <th>003490</th>\n",
              "      <th>003670</th>\n",
              "      <th>003800</th>\n",
              "      <th>004000</th>\n",
              "      <th>004020</th>\n",
              "      <th>004170</th>\n",
              "      <th>004370</th>\n",
              "      <th>004490</th>\n",
              "      <th>004800</th>\n",
              "      <th>004990</th>\n",
              "      <th>005250</th>\n",
              "      <th>005290</th>\n",
              "      <th>005300</th>\n",
              "      <th>005380</th>\n",
              "      <th>005385</th>\n",
              "      <th>...</th>\n",
              "      <th>278280</th>\n",
              "      <th>278530</th>\n",
              "      <th>282330</th>\n",
              "      <th>285130</th>\n",
              "      <th>287410</th>\n",
              "      <th>290510</th>\n",
              "      <th>290650</th>\n",
              "      <th>292150</th>\n",
              "      <th>293490</th>\n",
              "      <th>293780</th>\n",
              "      <th>294090</th>\n",
              "      <th>294870</th>\n",
              "      <th>298000</th>\n",
              "      <th>298020</th>\n",
              "      <th>298050</th>\n",
              "      <th>298380</th>\n",
              "      <th>298540</th>\n",
              "      <th>299030</th>\n",
              "      <th>299660</th>\n",
              "      <th>299900</th>\n",
              "      <th>307950</th>\n",
              "      <th>314130</th>\n",
              "      <th>316140</th>\n",
              "      <th>319400</th>\n",
              "      <th>319660</th>\n",
              "      <th>321550</th>\n",
              "      <th>323990</th>\n",
              "      <th>326030</th>\n",
              "      <th>330590</th>\n",
              "      <th>330860</th>\n",
              "      <th>336260</th>\n",
              "      <th>336370</th>\n",
              "      <th>347860</th>\n",
              "      <th>348150</th>\n",
              "      <th>348210</th>\n",
              "      <th>352820</th>\n",
              "      <th>357780</th>\n",
              "      <th>363280</th>\n",
              "      <th>950130</th>\n",
              "      <th>000020</th>\n",
              "    </tr>\n",
              "  </thead>\n",
              "  <tbody>\n",
              "    <tr>\n",
              "      <th>0</th>\n",
              "      <td>2021-08-09</td>\n",
              "      <td>18748.191406</td>\n",
              "      <td>35101.679688</td>\n",
              "      <td>0</td>\n",
              "      <td>0</td>\n",
              "      <td>0</td>\n",
              "      <td>0</td>\n",
              "      <td>0</td>\n",
              "      <td>0</td>\n",
              "      <td>0</td>\n",
              "      <td>0</td>\n",
              "      <td>0</td>\n",
              "      <td>0</td>\n",
              "      <td>0</td>\n",
              "      <td>0</td>\n",
              "      <td>0</td>\n",
              "      <td>0</td>\n",
              "      <td>0</td>\n",
              "      <td>0</td>\n",
              "      <td>0</td>\n",
              "      <td>0</td>\n",
              "      <td>0</td>\n",
              "      <td>0</td>\n",
              "      <td>0</td>\n",
              "      <td>0</td>\n",
              "      <td>0</td>\n",
              "      <td>0</td>\n",
              "      <td>0</td>\n",
              "      <td>0</td>\n",
              "      <td>0</td>\n",
              "      <td>0</td>\n",
              "      <td>0</td>\n",
              "      <td>0</td>\n",
              "      <td>0</td>\n",
              "      <td>0</td>\n",
              "      <td>0</td>\n",
              "      <td>0</td>\n",
              "      <td>0</td>\n",
              "      <td>0</td>\n",
              "      <td>0</td>\n",
              "      <td>...</td>\n",
              "      <td>0</td>\n",
              "      <td>0</td>\n",
              "      <td>0</td>\n",
              "      <td>0</td>\n",
              "      <td>0</td>\n",
              "      <td>0</td>\n",
              "      <td>0</td>\n",
              "      <td>0</td>\n",
              "      <td>0</td>\n",
              "      <td>0</td>\n",
              "      <td>0</td>\n",
              "      <td>0</td>\n",
              "      <td>0</td>\n",
              "      <td>0</td>\n",
              "      <td>0</td>\n",
              "      <td>0</td>\n",
              "      <td>0</td>\n",
              "      <td>0</td>\n",
              "      <td>0</td>\n",
              "      <td>0</td>\n",
              "      <td>0</td>\n",
              "      <td>0</td>\n",
              "      <td>0</td>\n",
              "      <td>0</td>\n",
              "      <td>0</td>\n",
              "      <td>0</td>\n",
              "      <td>0</td>\n",
              "      <td>0</td>\n",
              "      <td>0</td>\n",
              "      <td>0</td>\n",
              "      <td>0</td>\n",
              "      <td>0</td>\n",
              "      <td>0</td>\n",
              "      <td>0</td>\n",
              "      <td>0</td>\n",
              "      <td>0</td>\n",
              "      <td>0</td>\n",
              "      <td>0</td>\n",
              "      <td>0</td>\n",
              "      <td>NaN</td>\n",
              "    </tr>\n",
              "    <tr>\n",
              "      <th>1</th>\n",
              "      <td>2021-08-10</td>\n",
              "      <td>18980.589844</td>\n",
              "      <td>34942.031250</td>\n",
              "      <td>0</td>\n",
              "      <td>0</td>\n",
              "      <td>0</td>\n",
              "      <td>0</td>\n",
              "      <td>0</td>\n",
              "      <td>0</td>\n",
              "      <td>0</td>\n",
              "      <td>0</td>\n",
              "      <td>0</td>\n",
              "      <td>0</td>\n",
              "      <td>0</td>\n",
              "      <td>0</td>\n",
              "      <td>0</td>\n",
              "      <td>0</td>\n",
              "      <td>0</td>\n",
              "      <td>0</td>\n",
              "      <td>0</td>\n",
              "      <td>0</td>\n",
              "      <td>0</td>\n",
              "      <td>0</td>\n",
              "      <td>0</td>\n",
              "      <td>0</td>\n",
              "      <td>0</td>\n",
              "      <td>0</td>\n",
              "      <td>0</td>\n",
              "      <td>0</td>\n",
              "      <td>0</td>\n",
              "      <td>0</td>\n",
              "      <td>0</td>\n",
              "      <td>0</td>\n",
              "      <td>0</td>\n",
              "      <td>0</td>\n",
              "      <td>0</td>\n",
              "      <td>0</td>\n",
              "      <td>0</td>\n",
              "      <td>0</td>\n",
              "      <td>0</td>\n",
              "      <td>...</td>\n",
              "      <td>0</td>\n",
              "      <td>0</td>\n",
              "      <td>0</td>\n",
              "      <td>0</td>\n",
              "      <td>0</td>\n",
              "      <td>0</td>\n",
              "      <td>0</td>\n",
              "      <td>0</td>\n",
              "      <td>0</td>\n",
              "      <td>0</td>\n",
              "      <td>0</td>\n",
              "      <td>0</td>\n",
              "      <td>0</td>\n",
              "      <td>0</td>\n",
              "      <td>0</td>\n",
              "      <td>0</td>\n",
              "      <td>0</td>\n",
              "      <td>0</td>\n",
              "      <td>0</td>\n",
              "      <td>0</td>\n",
              "      <td>0</td>\n",
              "      <td>0</td>\n",
              "      <td>0</td>\n",
              "      <td>0</td>\n",
              "      <td>0</td>\n",
              "      <td>0</td>\n",
              "      <td>0</td>\n",
              "      <td>0</td>\n",
              "      <td>0</td>\n",
              "      <td>0</td>\n",
              "      <td>0</td>\n",
              "      <td>0</td>\n",
              "      <td>0</td>\n",
              "      <td>0</td>\n",
              "      <td>0</td>\n",
              "      <td>0</td>\n",
              "      <td>0</td>\n",
              "      <td>0</td>\n",
              "      <td>0</td>\n",
              "      <td>NaN</td>\n",
              "    </tr>\n",
              "    <tr>\n",
              "      <th>2</th>\n",
              "      <td>2021-08-11</td>\n",
              "      <td>19225.320312</td>\n",
              "      <td>34780.042969</td>\n",
              "      <td>0</td>\n",
              "      <td>0</td>\n",
              "      <td>0</td>\n",
              "      <td>0</td>\n",
              "      <td>0</td>\n",
              "      <td>0</td>\n",
              "      <td>0</td>\n",
              "      <td>0</td>\n",
              "      <td>0</td>\n",
              "      <td>0</td>\n",
              "      <td>0</td>\n",
              "      <td>0</td>\n",
              "      <td>0</td>\n",
              "      <td>0</td>\n",
              "      <td>0</td>\n",
              "      <td>0</td>\n",
              "      <td>0</td>\n",
              "      <td>0</td>\n",
              "      <td>0</td>\n",
              "      <td>0</td>\n",
              "      <td>0</td>\n",
              "      <td>0</td>\n",
              "      <td>0</td>\n",
              "      <td>0</td>\n",
              "      <td>0</td>\n",
              "      <td>0</td>\n",
              "      <td>0</td>\n",
              "      <td>0</td>\n",
              "      <td>0</td>\n",
              "      <td>0</td>\n",
              "      <td>0</td>\n",
              "      <td>0</td>\n",
              "      <td>0</td>\n",
              "      <td>0</td>\n",
              "      <td>0</td>\n",
              "      <td>0</td>\n",
              "      <td>0</td>\n",
              "      <td>...</td>\n",
              "      <td>0</td>\n",
              "      <td>0</td>\n",
              "      <td>0</td>\n",
              "      <td>0</td>\n",
              "      <td>0</td>\n",
              "      <td>0</td>\n",
              "      <td>0</td>\n",
              "      <td>0</td>\n",
              "      <td>0</td>\n",
              "      <td>0</td>\n",
              "      <td>0</td>\n",
              "      <td>0</td>\n",
              "      <td>0</td>\n",
              "      <td>0</td>\n",
              "      <td>0</td>\n",
              "      <td>0</td>\n",
              "      <td>0</td>\n",
              "      <td>0</td>\n",
              "      <td>0</td>\n",
              "      <td>0</td>\n",
              "      <td>0</td>\n",
              "      <td>0</td>\n",
              "      <td>0</td>\n",
              "      <td>0</td>\n",
              "      <td>0</td>\n",
              "      <td>0</td>\n",
              "      <td>0</td>\n",
              "      <td>0</td>\n",
              "      <td>0</td>\n",
              "      <td>0</td>\n",
              "      <td>0</td>\n",
              "      <td>0</td>\n",
              "      <td>0</td>\n",
              "      <td>0</td>\n",
              "      <td>0</td>\n",
              "      <td>0</td>\n",
              "      <td>0</td>\n",
              "      <td>0</td>\n",
              "      <td>0</td>\n",
              "      <td>NaN</td>\n",
              "    </tr>\n",
              "    <tr>\n",
              "      <th>3</th>\n",
              "      <td>2021-08-12</td>\n",
              "      <td>19452.267578</td>\n",
              "      <td>34628.105469</td>\n",
              "      <td>0</td>\n",
              "      <td>0</td>\n",
              "      <td>0</td>\n",
              "      <td>0</td>\n",
              "      <td>0</td>\n",
              "      <td>0</td>\n",
              "      <td>0</td>\n",
              "      <td>0</td>\n",
              "      <td>0</td>\n",
              "      <td>0</td>\n",
              "      <td>0</td>\n",
              "      <td>0</td>\n",
              "      <td>0</td>\n",
              "      <td>0</td>\n",
              "      <td>0</td>\n",
              "      <td>0</td>\n",
              "      <td>0</td>\n",
              "      <td>0</td>\n",
              "      <td>0</td>\n",
              "      <td>0</td>\n",
              "      <td>0</td>\n",
              "      <td>0</td>\n",
              "      <td>0</td>\n",
              "      <td>0</td>\n",
              "      <td>0</td>\n",
              "      <td>0</td>\n",
              "      <td>0</td>\n",
              "      <td>0</td>\n",
              "      <td>0</td>\n",
              "      <td>0</td>\n",
              "      <td>0</td>\n",
              "      <td>0</td>\n",
              "      <td>0</td>\n",
              "      <td>0</td>\n",
              "      <td>0</td>\n",
              "      <td>0</td>\n",
              "      <td>0</td>\n",
              "      <td>...</td>\n",
              "      <td>0</td>\n",
              "      <td>0</td>\n",
              "      <td>0</td>\n",
              "      <td>0</td>\n",
              "      <td>0</td>\n",
              "      <td>0</td>\n",
              "      <td>0</td>\n",
              "      <td>0</td>\n",
              "      <td>0</td>\n",
              "      <td>0</td>\n",
              "      <td>0</td>\n",
              "      <td>0</td>\n",
              "      <td>0</td>\n",
              "      <td>0</td>\n",
              "      <td>0</td>\n",
              "      <td>0</td>\n",
              "      <td>0</td>\n",
              "      <td>0</td>\n",
              "      <td>0</td>\n",
              "      <td>0</td>\n",
              "      <td>0</td>\n",
              "      <td>0</td>\n",
              "      <td>0</td>\n",
              "      <td>0</td>\n",
              "      <td>0</td>\n",
              "      <td>0</td>\n",
              "      <td>0</td>\n",
              "      <td>0</td>\n",
              "      <td>0</td>\n",
              "      <td>0</td>\n",
              "      <td>0</td>\n",
              "      <td>0</td>\n",
              "      <td>0</td>\n",
              "      <td>0</td>\n",
              "      <td>0</td>\n",
              "      <td>0</td>\n",
              "      <td>0</td>\n",
              "      <td>0</td>\n",
              "      <td>0</td>\n",
              "      <td>NaN</td>\n",
              "    </tr>\n",
              "    <tr>\n",
              "      <th>4</th>\n",
              "      <td>2021-08-13</td>\n",
              "      <td>19665.691406</td>\n",
              "      <td>34520.585938</td>\n",
              "      <td>0</td>\n",
              "      <td>0</td>\n",
              "      <td>0</td>\n",
              "      <td>0</td>\n",
              "      <td>0</td>\n",
              "      <td>0</td>\n",
              "      <td>0</td>\n",
              "      <td>0</td>\n",
              "      <td>0</td>\n",
              "      <td>0</td>\n",
              "      <td>0</td>\n",
              "      <td>0</td>\n",
              "      <td>0</td>\n",
              "      <td>0</td>\n",
              "      <td>0</td>\n",
              "      <td>0</td>\n",
              "      <td>0</td>\n",
              "      <td>0</td>\n",
              "      <td>0</td>\n",
              "      <td>0</td>\n",
              "      <td>0</td>\n",
              "      <td>0</td>\n",
              "      <td>0</td>\n",
              "      <td>0</td>\n",
              "      <td>0</td>\n",
              "      <td>0</td>\n",
              "      <td>0</td>\n",
              "      <td>0</td>\n",
              "      <td>0</td>\n",
              "      <td>0</td>\n",
              "      <td>0</td>\n",
              "      <td>0</td>\n",
              "      <td>0</td>\n",
              "      <td>0</td>\n",
              "      <td>0</td>\n",
              "      <td>0</td>\n",
              "      <td>0</td>\n",
              "      <td>...</td>\n",
              "      <td>0</td>\n",
              "      <td>0</td>\n",
              "      <td>0</td>\n",
              "      <td>0</td>\n",
              "      <td>0</td>\n",
              "      <td>0</td>\n",
              "      <td>0</td>\n",
              "      <td>0</td>\n",
              "      <td>0</td>\n",
              "      <td>0</td>\n",
              "      <td>0</td>\n",
              "      <td>0</td>\n",
              "      <td>0</td>\n",
              "      <td>0</td>\n",
              "      <td>0</td>\n",
              "      <td>0</td>\n",
              "      <td>0</td>\n",
              "      <td>0</td>\n",
              "      <td>0</td>\n",
              "      <td>0</td>\n",
              "      <td>0</td>\n",
              "      <td>0</td>\n",
              "      <td>0</td>\n",
              "      <td>0</td>\n",
              "      <td>0</td>\n",
              "      <td>0</td>\n",
              "      <td>0</td>\n",
              "      <td>0</td>\n",
              "      <td>0</td>\n",
              "      <td>0</td>\n",
              "      <td>0</td>\n",
              "      <td>0</td>\n",
              "      <td>0</td>\n",
              "      <td>0</td>\n",
              "      <td>0</td>\n",
              "      <td>0</td>\n",
              "      <td>0</td>\n",
              "      <td>0</td>\n",
              "      <td>0</td>\n",
              "      <td>NaN</td>\n",
              "    </tr>\n",
              "    <tr>\n",
              "      <th>5</th>\n",
              "      <td>2021-08-30</td>\n",
              "      <td>19851.939453</td>\n",
              "      <td>34445.003906</td>\n",
              "      <td>0</td>\n",
              "      <td>0</td>\n",
              "      <td>0</td>\n",
              "      <td>0</td>\n",
              "      <td>0</td>\n",
              "      <td>0</td>\n",
              "      <td>0</td>\n",
              "      <td>0</td>\n",
              "      <td>0</td>\n",
              "      <td>0</td>\n",
              "      <td>0</td>\n",
              "      <td>0</td>\n",
              "      <td>0</td>\n",
              "      <td>0</td>\n",
              "      <td>0</td>\n",
              "      <td>0</td>\n",
              "      <td>0</td>\n",
              "      <td>0</td>\n",
              "      <td>0</td>\n",
              "      <td>0</td>\n",
              "      <td>0</td>\n",
              "      <td>0</td>\n",
              "      <td>0</td>\n",
              "      <td>0</td>\n",
              "      <td>0</td>\n",
              "      <td>0</td>\n",
              "      <td>0</td>\n",
              "      <td>0</td>\n",
              "      <td>0</td>\n",
              "      <td>0</td>\n",
              "      <td>0</td>\n",
              "      <td>0</td>\n",
              "      <td>0</td>\n",
              "      <td>0</td>\n",
              "      <td>0</td>\n",
              "      <td>0</td>\n",
              "      <td>0</td>\n",
              "      <td>...</td>\n",
              "      <td>0</td>\n",
              "      <td>0</td>\n",
              "      <td>0</td>\n",
              "      <td>0</td>\n",
              "      <td>0</td>\n",
              "      <td>0</td>\n",
              "      <td>0</td>\n",
              "      <td>0</td>\n",
              "      <td>0</td>\n",
              "      <td>0</td>\n",
              "      <td>0</td>\n",
              "      <td>0</td>\n",
              "      <td>0</td>\n",
              "      <td>0</td>\n",
              "      <td>0</td>\n",
              "      <td>0</td>\n",
              "      <td>0</td>\n",
              "      <td>0</td>\n",
              "      <td>0</td>\n",
              "      <td>0</td>\n",
              "      <td>0</td>\n",
              "      <td>0</td>\n",
              "      <td>0</td>\n",
              "      <td>0</td>\n",
              "      <td>0</td>\n",
              "      <td>0</td>\n",
              "      <td>0</td>\n",
              "      <td>0</td>\n",
              "      <td>0</td>\n",
              "      <td>0</td>\n",
              "      <td>0</td>\n",
              "      <td>0</td>\n",
              "      <td>0</td>\n",
              "      <td>0</td>\n",
              "      <td>0</td>\n",
              "      <td>0</td>\n",
              "      <td>0</td>\n",
              "      <td>0</td>\n",
              "      <td>0</td>\n",
              "      <td>NaN</td>\n",
              "    </tr>\n",
              "    <tr>\n",
              "      <th>6</th>\n",
              "      <td>2021-08-31</td>\n",
              "      <td>20035.931641</td>\n",
              "      <td>34312.722656</td>\n",
              "      <td>0</td>\n",
              "      <td>0</td>\n",
              "      <td>0</td>\n",
              "      <td>0</td>\n",
              "      <td>0</td>\n",
              "      <td>0</td>\n",
              "      <td>0</td>\n",
              "      <td>0</td>\n",
              "      <td>0</td>\n",
              "      <td>0</td>\n",
              "      <td>0</td>\n",
              "      <td>0</td>\n",
              "      <td>0</td>\n",
              "      <td>0</td>\n",
              "      <td>0</td>\n",
              "      <td>0</td>\n",
              "      <td>0</td>\n",
              "      <td>0</td>\n",
              "      <td>0</td>\n",
              "      <td>0</td>\n",
              "      <td>0</td>\n",
              "      <td>0</td>\n",
              "      <td>0</td>\n",
              "      <td>0</td>\n",
              "      <td>0</td>\n",
              "      <td>0</td>\n",
              "      <td>0</td>\n",
              "      <td>0</td>\n",
              "      <td>0</td>\n",
              "      <td>0</td>\n",
              "      <td>0</td>\n",
              "      <td>0</td>\n",
              "      <td>0</td>\n",
              "      <td>0</td>\n",
              "      <td>0</td>\n",
              "      <td>0</td>\n",
              "      <td>0</td>\n",
              "      <td>...</td>\n",
              "      <td>0</td>\n",
              "      <td>0</td>\n",
              "      <td>0</td>\n",
              "      <td>0</td>\n",
              "      <td>0</td>\n",
              "      <td>0</td>\n",
              "      <td>0</td>\n",
              "      <td>0</td>\n",
              "      <td>0</td>\n",
              "      <td>0</td>\n",
              "      <td>0</td>\n",
              "      <td>0</td>\n",
              "      <td>0</td>\n",
              "      <td>0</td>\n",
              "      <td>0</td>\n",
              "      <td>0</td>\n",
              "      <td>0</td>\n",
              "      <td>0</td>\n",
              "      <td>0</td>\n",
              "      <td>0</td>\n",
              "      <td>0</td>\n",
              "      <td>0</td>\n",
              "      <td>0</td>\n",
              "      <td>0</td>\n",
              "      <td>0</td>\n",
              "      <td>0</td>\n",
              "      <td>0</td>\n",
              "      <td>0</td>\n",
              "      <td>0</td>\n",
              "      <td>0</td>\n",
              "      <td>0</td>\n",
              "      <td>0</td>\n",
              "      <td>0</td>\n",
              "      <td>0</td>\n",
              "      <td>0</td>\n",
              "      <td>0</td>\n",
              "      <td>0</td>\n",
              "      <td>0</td>\n",
              "      <td>0</td>\n",
              "      <td>NaN</td>\n",
              "    </tr>\n",
              "    <tr>\n",
              "      <th>7</th>\n",
              "      <td>2021-09-01</td>\n",
              "      <td>20153.517578</td>\n",
              "      <td>34133.863281</td>\n",
              "      <td>0</td>\n",
              "      <td>0</td>\n",
              "      <td>0</td>\n",
              "      <td>0</td>\n",
              "      <td>0</td>\n",
              "      <td>0</td>\n",
              "      <td>0</td>\n",
              "      <td>0</td>\n",
              "      <td>0</td>\n",
              "      <td>0</td>\n",
              "      <td>0</td>\n",
              "      <td>0</td>\n",
              "      <td>0</td>\n",
              "      <td>0</td>\n",
              "      <td>0</td>\n",
              "      <td>0</td>\n",
              "      <td>0</td>\n",
              "      <td>0</td>\n",
              "      <td>0</td>\n",
              "      <td>0</td>\n",
              "      <td>0</td>\n",
              "      <td>0</td>\n",
              "      <td>0</td>\n",
              "      <td>0</td>\n",
              "      <td>0</td>\n",
              "      <td>0</td>\n",
              "      <td>0</td>\n",
              "      <td>0</td>\n",
              "      <td>0</td>\n",
              "      <td>0</td>\n",
              "      <td>0</td>\n",
              "      <td>0</td>\n",
              "      <td>0</td>\n",
              "      <td>0</td>\n",
              "      <td>0</td>\n",
              "      <td>0</td>\n",
              "      <td>0</td>\n",
              "      <td>...</td>\n",
              "      <td>0</td>\n",
              "      <td>0</td>\n",
              "      <td>0</td>\n",
              "      <td>0</td>\n",
              "      <td>0</td>\n",
              "      <td>0</td>\n",
              "      <td>0</td>\n",
              "      <td>0</td>\n",
              "      <td>0</td>\n",
              "      <td>0</td>\n",
              "      <td>0</td>\n",
              "      <td>0</td>\n",
              "      <td>0</td>\n",
              "      <td>0</td>\n",
              "      <td>0</td>\n",
              "      <td>0</td>\n",
              "      <td>0</td>\n",
              "      <td>0</td>\n",
              "      <td>0</td>\n",
              "      <td>0</td>\n",
              "      <td>0</td>\n",
              "      <td>0</td>\n",
              "      <td>0</td>\n",
              "      <td>0</td>\n",
              "      <td>0</td>\n",
              "      <td>0</td>\n",
              "      <td>0</td>\n",
              "      <td>0</td>\n",
              "      <td>0</td>\n",
              "      <td>0</td>\n",
              "      <td>0</td>\n",
              "      <td>0</td>\n",
              "      <td>0</td>\n",
              "      <td>0</td>\n",
              "      <td>0</td>\n",
              "      <td>0</td>\n",
              "      <td>0</td>\n",
              "      <td>0</td>\n",
              "      <td>0</td>\n",
              "      <td>NaN</td>\n",
              "    </tr>\n",
              "    <tr>\n",
              "      <th>8</th>\n",
              "      <td>2021-09-02</td>\n",
              "      <td>20234.992188</td>\n",
              "      <td>34070.027344</td>\n",
              "      <td>0</td>\n",
              "      <td>0</td>\n",
              "      <td>0</td>\n",
              "      <td>0</td>\n",
              "      <td>0</td>\n",
              "      <td>0</td>\n",
              "      <td>0</td>\n",
              "      <td>0</td>\n",
              "      <td>0</td>\n",
              "      <td>0</td>\n",
              "      <td>0</td>\n",
              "      <td>0</td>\n",
              "      <td>0</td>\n",
              "      <td>0</td>\n",
              "      <td>0</td>\n",
              "      <td>0</td>\n",
              "      <td>0</td>\n",
              "      <td>0</td>\n",
              "      <td>0</td>\n",
              "      <td>0</td>\n",
              "      <td>0</td>\n",
              "      <td>0</td>\n",
              "      <td>0</td>\n",
              "      <td>0</td>\n",
              "      <td>0</td>\n",
              "      <td>0</td>\n",
              "      <td>0</td>\n",
              "      <td>0</td>\n",
              "      <td>0</td>\n",
              "      <td>0</td>\n",
              "      <td>0</td>\n",
              "      <td>0</td>\n",
              "      <td>0</td>\n",
              "      <td>0</td>\n",
              "      <td>0</td>\n",
              "      <td>0</td>\n",
              "      <td>0</td>\n",
              "      <td>...</td>\n",
              "      <td>0</td>\n",
              "      <td>0</td>\n",
              "      <td>0</td>\n",
              "      <td>0</td>\n",
              "      <td>0</td>\n",
              "      <td>0</td>\n",
              "      <td>0</td>\n",
              "      <td>0</td>\n",
              "      <td>0</td>\n",
              "      <td>0</td>\n",
              "      <td>0</td>\n",
              "      <td>0</td>\n",
              "      <td>0</td>\n",
              "      <td>0</td>\n",
              "      <td>0</td>\n",
              "      <td>0</td>\n",
              "      <td>0</td>\n",
              "      <td>0</td>\n",
              "      <td>0</td>\n",
              "      <td>0</td>\n",
              "      <td>0</td>\n",
              "      <td>0</td>\n",
              "      <td>0</td>\n",
              "      <td>0</td>\n",
              "      <td>0</td>\n",
              "      <td>0</td>\n",
              "      <td>0</td>\n",
              "      <td>0</td>\n",
              "      <td>0</td>\n",
              "      <td>0</td>\n",
              "      <td>0</td>\n",
              "      <td>0</td>\n",
              "      <td>0</td>\n",
              "      <td>0</td>\n",
              "      <td>0</td>\n",
              "      <td>0</td>\n",
              "      <td>0</td>\n",
              "      <td>0</td>\n",
              "      <td>0</td>\n",
              "      <td>NaN</td>\n",
              "    </tr>\n",
              "    <tr>\n",
              "      <th>9</th>\n",
              "      <td>2021-09-03</td>\n",
              "      <td>20309.806641</td>\n",
              "      <td>34130.476562</td>\n",
              "      <td>0</td>\n",
              "      <td>0</td>\n",
              "      <td>0</td>\n",
              "      <td>0</td>\n",
              "      <td>0</td>\n",
              "      <td>0</td>\n",
              "      <td>0</td>\n",
              "      <td>0</td>\n",
              "      <td>0</td>\n",
              "      <td>0</td>\n",
              "      <td>0</td>\n",
              "      <td>0</td>\n",
              "      <td>0</td>\n",
              "      <td>0</td>\n",
              "      <td>0</td>\n",
              "      <td>0</td>\n",
              "      <td>0</td>\n",
              "      <td>0</td>\n",
              "      <td>0</td>\n",
              "      <td>0</td>\n",
              "      <td>0</td>\n",
              "      <td>0</td>\n",
              "      <td>0</td>\n",
              "      <td>0</td>\n",
              "      <td>0</td>\n",
              "      <td>0</td>\n",
              "      <td>0</td>\n",
              "      <td>0</td>\n",
              "      <td>0</td>\n",
              "      <td>0</td>\n",
              "      <td>0</td>\n",
              "      <td>0</td>\n",
              "      <td>0</td>\n",
              "      <td>0</td>\n",
              "      <td>0</td>\n",
              "      <td>0</td>\n",
              "      <td>0</td>\n",
              "      <td>...</td>\n",
              "      <td>0</td>\n",
              "      <td>0</td>\n",
              "      <td>0</td>\n",
              "      <td>0</td>\n",
              "      <td>0</td>\n",
              "      <td>0</td>\n",
              "      <td>0</td>\n",
              "      <td>0</td>\n",
              "      <td>0</td>\n",
              "      <td>0</td>\n",
              "      <td>0</td>\n",
              "      <td>0</td>\n",
              "      <td>0</td>\n",
              "      <td>0</td>\n",
              "      <td>0</td>\n",
              "      <td>0</td>\n",
              "      <td>0</td>\n",
              "      <td>0</td>\n",
              "      <td>0</td>\n",
              "      <td>0</td>\n",
              "      <td>0</td>\n",
              "      <td>0</td>\n",
              "      <td>0</td>\n",
              "      <td>0</td>\n",
              "      <td>0</td>\n",
              "      <td>0</td>\n",
              "      <td>0</td>\n",
              "      <td>0</td>\n",
              "      <td>0</td>\n",
              "      <td>0</td>\n",
              "      <td>0</td>\n",
              "      <td>0</td>\n",
              "      <td>0</td>\n",
              "      <td>0</td>\n",
              "      <td>0</td>\n",
              "      <td>0</td>\n",
              "      <td>0</td>\n",
              "      <td>0</td>\n",
              "      <td>0</td>\n",
              "      <td>NaN</td>\n",
              "    </tr>\n",
              "  </tbody>\n",
              "</table>\n",
              "<p>10 rows × 378 columns</p>\n",
              "</div>"
            ],
            "text/plain": [
              "          Day        000060        000080  ...  363280  950130  000020\n",
              "0  2021-08-09  18748.191406  35101.679688  ...       0       0     NaN\n",
              "1  2021-08-10  18980.589844  34942.031250  ...       0       0     NaN\n",
              "2  2021-08-11  19225.320312  34780.042969  ...       0       0     NaN\n",
              "3  2021-08-12  19452.267578  34628.105469  ...       0       0     NaN\n",
              "4  2021-08-13  19665.691406  34520.585938  ...       0       0     NaN\n",
              "5  2021-08-30  19851.939453  34445.003906  ...       0       0     NaN\n",
              "6  2021-08-31  20035.931641  34312.722656  ...       0       0     NaN\n",
              "7  2021-09-01  20153.517578  34133.863281  ...       0       0     NaN\n",
              "8  2021-09-02  20234.992188  34070.027344  ...       0       0     NaN\n",
              "9  2021-09-03  20309.806641  34130.476562  ...       0       0     NaN\n",
              "\n",
              "[10 rows x 378 columns]"
            ]
          },
          "metadata": {},
          "execution_count": 96
        }
      ]
    },
    {
      "cell_type": "code",
      "metadata": {
        "colab": {
          "base_uri": "https://localhost:8080/"
        },
        "id": "fqRf9QBz9-su",
        "outputId": "4913f010-46cd-4283-c7fa-8ce160903318"
      },
      "source": [
        "len(test_data)"
      ],
      "execution_count": null,
      "outputs": [
        {
          "output_type": "execute_result",
          "data": {
            "text/plain": [
              "87"
            ]
          },
          "metadata": {},
          "execution_count": 83
        }
      ]
    },
    {
      "cell_type": "code",
      "metadata": {
        "colab": {
          "base_uri": "https://localhost:8080/"
        },
        "id": "QzTQDtBO67HI",
        "outputId": "d87b8eac-6564-46b1-f0f2-715ff9af67a0"
      },
      "source": [
        "df_predicted=pd.DataFrame(predicted)\n",
        "df_predicted.info()"
      ],
      "execution_count": null,
      "outputs": [
        {
          "output_type": "stream",
          "text": [
            "<class 'pandas.core.frame.DataFrame'>\n",
            "RangeIndex: 27 entries, 0 to 26\n",
            "Data columns (total 1 columns):\n",
            " #   Column  Non-Null Count  Dtype  \n",
            "---  ------  --------------  -----  \n",
            " 0   0       27 non-null     float32\n",
            "dtypes: float32(1)\n",
            "memory usage: 236.0 bytes\n"
          ],
          "name": "stdout"
        }
      ]
    },
    {
      "cell_type": "code",
      "metadata": {
        "id": "-hZ5ECgtj2dF",
        "colab": {
          "base_uri": "https://localhost:8080/"
        },
        "outputId": "e33db4a8-bd1d-49c0-e3c5-85efdd56c82a"
      },
      "source": [
        "for code in tqdm(stock_list['종목코드'].values):\n",
        "    data = fdr.DataReader(code, start = '20190101', end = end_date).filter(['Close'])\n",
        "    dataset = data.values\n",
        "\n",
        "    scaler = MinMaxScaler(feature_range=(0,1))\n",
        "    scaled_data = scaler.fit_transform(dataset)\n",
        "\n",
        "    train_data = scaled_data[0:len(dataset),:]\n",
        "    x_train = []\n",
        "    y_train = []\n",
        "\n",
        "    for i in range(77, len(train_data)):\n",
        "      x_train.append(train_data[i-77:i,0])\n",
        "      y_train.append(train_data[i,0])\n",
        "\n",
        "    x_train, y_train = np.array(x_train), np.array(y_train)\n",
        "    x_train = np.reshape(x_train, (x_train.shape[0],x_train.shape[1],1))\n",
        "\n",
        "    model = Sequential()\n",
        "    model.add(LSTM(50, return_sequences=True, input_shape=(x_train.shape[1],1)))\n",
        "    model.add(LSTM(50, return_sequences=False))\n",
        "    model.add(Dense(25))\n",
        "    model.add(Dense(1))\n",
        "\n",
        "    model.compile(optimizer='adam', loss='mean_squared_error')\n",
        "    model.fit(x_train,y_train, batch_size=1, epochs=1)\n",
        "\n",
        "\n",
        "    test_data = fdr.DataReader(code, start = '20210406', end = end_date).filter(['Close'])\n",
        "    test_dataset = test_data.values\n",
        "\n",
        "    scaler = MinMaxScaler(feature_range=(0,1))\n",
        "    scaled_data = scaler.fit_transform(test_dataset)\n",
        "\n",
        "    test_data = scaled_data[0:len(test_dataset),:]\n",
        "    x_test = []\n",
        "\n",
        "    for i in range(77, len(test_data)):\n",
        "      x_test.append(test_data[i-77:i,0])\n",
        "    x_test = np.array(x_test)\n",
        "    x_test = np.reshape(x_test, (x_test.shape[0], x_test.shape[1], 1))\n",
        "\n",
        "    predicted = model.predict(x_test)\n",
        "    predicted = scaler.inverse_transform(predicted)\n",
        "\n",
        "    sample_submission.loc[:,code] = predicted \n",
        "\n",
        "sample_submission.isna().sum().sum()\n"
      ],
      "execution_count": null,
      "outputs": [
        {
          "output_type": "stream",
          "text": [
            "\r  0%|          | 0/376 [00:00<?, ?it/s]"
          ],
          "name": "stderr"
        },
        {
          "output_type": "stream",
          "text": [
            "567/567 [==============================] - 25s 38ms/step - loss: 0.0042\n"
          ],
          "name": "stdout"
        },
        {
          "output_type": "stream",
          "text": [
            "\r  0%|          | 1/376 [00:29<3:02:13, 29.16s/it]"
          ],
          "name": "stderr"
        },
        {
          "output_type": "stream",
          "text": [
            "567/567 [==============================] - 24s 38ms/step - loss: 0.0085\n"
          ],
          "name": "stdout"
        },
        {
          "output_type": "stream",
          "text": [
            "\r  1%|          | 2/376 [00:57<2:58:10, 28.59s/it]"
          ],
          "name": "stderr"
        },
        {
          "output_type": "stream",
          "text": [
            "567/567 [==============================] - 24s 38ms/step - loss: 0.0034\n"
          ],
          "name": "stdout"
        },
        {
          "output_type": "stream",
          "text": [
            "\r  1%|          | 3/376 [01:25<2:57:21, 28.53s/it]"
          ],
          "name": "stderr"
        },
        {
          "output_type": "stream",
          "text": [
            "567/567 [==============================] - 24s 38ms/step - loss: 0.0030\n"
          ],
          "name": "stdout"
        },
        {
          "output_type": "stream",
          "text": [
            "\r  1%|          | 4/376 [02:13<3:43:05, 35.98s/it]"
          ],
          "name": "stderr"
        },
        {
          "output_type": "stream",
          "text": [
            "567/567 [==============================] - 24s 38ms/step - loss: 0.0077\n"
          ],
          "name": "stdout"
        },
        {
          "output_type": "stream",
          "text": [
            "\r  1%|▏         | 5/376 [02:40<3:22:47, 32.80s/it]"
          ],
          "name": "stderr"
        },
        {
          "output_type": "stream",
          "text": [
            "567/567 [==============================] - 25s 38ms/step - loss: 0.0042\n"
          ],
          "name": "stdout"
        },
        {
          "output_type": "stream",
          "text": [
            "\r  2%|▏         | 6/376 [03:28<3:54:07, 37.97s/it]"
          ],
          "name": "stderr"
        },
        {
          "output_type": "stream",
          "text": [
            "567/567 [==============================] - 24s 37ms/step - loss: 0.0058\n"
          ],
          "name": "stdout"
        },
        {
          "output_type": "stream",
          "text": [
            "\r  2%|▏         | 7/376 [03:56<3:33:03, 34.64s/it]"
          ],
          "name": "stderr"
        },
        {
          "output_type": "stream",
          "text": [
            "567/567 [==============================] - 25s 38ms/step - loss: 0.0049\n"
          ],
          "name": "stdout"
        },
        {
          "output_type": "stream",
          "text": [
            "\r  2%|▏         | 8/376 [04:24<3:20:37, 32.71s/it]"
          ],
          "name": "stderr"
        },
        {
          "output_type": "stream",
          "text": [
            "567/567 [==============================] - 24s 37ms/step - loss: 0.0050\n"
          ],
          "name": "stdout"
        },
        {
          "output_type": "stream",
          "text": [
            "\r  2%|▏         | 9/376 [05:12<3:48:34, 37.37s/it]"
          ],
          "name": "stderr"
        },
        {
          "output_type": "stream",
          "text": [
            "567/567 [==============================] - 26s 40ms/step - loss: 0.0067\n"
          ],
          "name": "stdout"
        },
        {
          "output_type": "stream",
          "text": [
            "\r  3%|▎         | 10/376 [05:42<3:34:35, 35.18s/it]"
          ],
          "name": "stderr"
        },
        {
          "output_type": "stream",
          "text": [
            "567/567 [==============================] - 25s 40ms/step - loss: 0.0066\n"
          ],
          "name": "stdout"
        },
        {
          "output_type": "stream",
          "text": [
            "\r  3%|▎         | 11/376 [06:12<3:23:32, 33.46s/it]"
          ],
          "name": "stderr"
        },
        {
          "output_type": "stream",
          "text": [
            "567/567 [==============================] - 26s 39ms/step - loss: 0.0039\n"
          ],
          "name": "stdout"
        },
        {
          "output_type": "stream",
          "text": [
            "\r  3%|▎         | 12/376 [06:41<3:15:51, 32.28s/it]"
          ],
          "name": "stderr"
        },
        {
          "output_type": "stream",
          "text": [
            "567/567 [==============================] - 25s 39ms/step - loss: 0.0090\n"
          ],
          "name": "stdout"
        },
        {
          "output_type": "stream",
          "text": [
            "\r  3%|▎         | 13/376 [07:10<3:09:02, 31.25s/it]"
          ],
          "name": "stderr"
        },
        {
          "output_type": "stream",
          "text": [
            "567/567 [==============================] - 24s 37ms/step - loss: 0.0069\n"
          ],
          "name": "stdout"
        },
        {
          "output_type": "stream",
          "text": [
            "\r  4%|▎         | 14/376 [07:38<3:02:45, 30.29s/it]"
          ],
          "name": "stderr"
        },
        {
          "output_type": "stream",
          "text": [
            "567/567 [==============================] - 24s 38ms/step - loss: 0.0063\n"
          ],
          "name": "stdout"
        },
        {
          "output_type": "stream",
          "text": [
            "\r  4%|▍         | 15/376 [08:06<2:58:24, 29.65s/it]"
          ],
          "name": "stderr"
        },
        {
          "output_type": "stream",
          "text": [
            "567/567 [==============================] - 24s 38ms/step - loss: 0.0068\n"
          ],
          "name": "stdout"
        },
        {
          "output_type": "stream",
          "text": [
            "\r  4%|▍         | 16/376 [08:35<2:55:09, 29.19s/it]"
          ],
          "name": "stderr"
        },
        {
          "output_type": "stream",
          "text": [
            "567/567 [==============================] - 24s 38ms/step - loss: 0.0093\n"
          ],
          "name": "stdout"
        },
        {
          "output_type": "stream",
          "text": [
            "\r  5%|▍         | 17/376 [09:22<3:28:06, 34.78s/it]"
          ],
          "name": "stderr"
        },
        {
          "output_type": "stream",
          "text": [
            "567/567 [==============================] - 24s 37ms/step - loss: 0.0054\n"
          ],
          "name": "stdout"
        },
        {
          "output_type": "stream",
          "text": [
            "\r  5%|▍         | 18/376 [09:50<3:15:20, 32.74s/it]"
          ],
          "name": "stderr"
        },
        {
          "output_type": "stream",
          "text": [
            "567/567 [==============================] - 24s 37ms/step - loss: 0.0062\n"
          ],
          "name": "stdout"
        },
        {
          "output_type": "stream",
          "text": [
            "\r  5%|▌         | 19/376 [10:18<3:06:33, 31.35s/it]"
          ],
          "name": "stderr"
        },
        {
          "output_type": "stream",
          "text": [
            "567/567 [==============================] - 24s 37ms/step - loss: 0.0065\n"
          ],
          "name": "stdout"
        },
        {
          "output_type": "stream",
          "text": [
            "\r  5%|▌         | 20/376 [10:46<2:59:16, 30.21s/it]"
          ],
          "name": "stderr"
        },
        {
          "output_type": "stream",
          "text": [
            "567/567 [==============================] - 24s 37ms/step - loss: 0.0070\n"
          ],
          "name": "stdout"
        },
        {
          "output_type": "stream",
          "text": [
            "\r  6%|▌         | 21/376 [11:14<2:54:38, 29.52s/it]"
          ],
          "name": "stderr"
        },
        {
          "output_type": "stream",
          "text": [
            "567/567 [==============================] - 24s 37ms/step - loss: 0.0059\n"
          ],
          "name": "stdout"
        },
        {
          "output_type": "stream",
          "text": [
            "\r  6%|▌         | 22/376 [11:41<2:50:43, 28.94s/it]"
          ],
          "name": "stderr"
        },
        {
          "output_type": "stream",
          "text": [
            "567/567 [==============================] - 24s 37ms/step - loss: 0.0040\n"
          ],
          "name": "stdout"
        },
        {
          "output_type": "stream",
          "text": [
            "\r  6%|▌         | 23/376 [12:29<3:23:15, 34.55s/it]"
          ],
          "name": "stderr"
        },
        {
          "output_type": "stream",
          "text": [
            "567/567 [==============================] - 24s 38ms/step - loss: 0.0047\n"
          ],
          "name": "stdout"
        },
        {
          "output_type": "stream",
          "text": [
            "\r  6%|▋         | 24/376 [12:57<3:11:05, 32.57s/it]"
          ],
          "name": "stderr"
        },
        {
          "output_type": "stream",
          "text": [
            "567/567 [==============================] - 24s 37ms/step - loss: 0.0077\n"
          ],
          "name": "stdout"
        },
        {
          "output_type": "stream",
          "text": [
            "\r  7%|▋         | 25/376 [13:25<3:02:03, 31.12s/it]"
          ],
          "name": "stderr"
        },
        {
          "output_type": "stream",
          "text": [
            "567/567 [==============================] - 24s 37ms/step - loss: 0.0075\n"
          ],
          "name": "stdout"
        },
        {
          "output_type": "stream",
          "text": [
            "\r  7%|▋         | 26/376 [13:52<2:55:24, 30.07s/it]"
          ],
          "name": "stderr"
        },
        {
          "output_type": "stream",
          "text": [
            "567/567 [==============================] - 25s 37ms/step - loss: 0.0054\n"
          ],
          "name": "stdout"
        },
        {
          "output_type": "stream",
          "text": [
            "\r  7%|▋         | 27/376 [14:21<2:52:34, 29.67s/it]"
          ],
          "name": "stderr"
        },
        {
          "output_type": "stream",
          "text": [
            "567/567 [==============================] - 24s 38ms/step - loss: 0.0066\n"
          ],
          "name": "stdout"
        },
        {
          "output_type": "stream",
          "text": [
            "\r  7%|▋         | 28/376 [14:49<2:49:23, 29.21s/it]"
          ],
          "name": "stderr"
        },
        {
          "output_type": "stream",
          "text": [
            "567/567 [==============================] - 25s 38ms/step - loss: 0.0056\n"
          ],
          "name": "stdout"
        },
        {
          "output_type": "stream",
          "text": [
            "\r  8%|▊         | 29/376 [15:37<3:21:21, 34.82s/it]"
          ],
          "name": "stderr"
        },
        {
          "output_type": "stream",
          "text": [
            "567/567 [==============================] - 25s 39ms/step - loss: 0.0061\n"
          ],
          "name": "stdout"
        },
        {
          "output_type": "stream",
          "text": [
            "\r  8%|▊         | 30/376 [16:05<3:09:21, 32.84s/it]"
          ],
          "name": "stderr"
        },
        {
          "output_type": "stream",
          "text": [
            "567/567 [==============================] - 24s 38ms/step - loss: 0.0041\n"
          ],
          "name": "stdout"
        },
        {
          "output_type": "stream",
          "text": [
            "\r  8%|▊         | 31/376 [16:34<3:01:03, 31.49s/it]"
          ],
          "name": "stderr"
        },
        {
          "output_type": "stream",
          "text": [
            "127/127 [==============================] - 8s 38ms/step - loss: 0.0287\n"
          ],
          "name": "stdout"
        },
        {
          "output_type": "stream",
          "text": [
            "\r  9%|▊         | 32/376 [16:44<2:24:37, 25.22s/it]"
          ],
          "name": "stderr"
        },
        {
          "output_type": "stream",
          "text": [
            "567/567 [==============================] - 24s 38ms/step - loss: 0.0054\n"
          ],
          "name": "stdout"
        },
        {
          "output_type": "stream",
          "text": [
            "\r  9%|▉         | 33/376 [17:13<2:29:24, 26.13s/it]"
          ],
          "name": "stderr"
        },
        {
          "output_type": "stream",
          "text": [
            "567/567 [==============================] - 25s 38ms/step - loss: 0.0072\n"
          ],
          "name": "stdout"
        },
        {
          "output_type": "stream",
          "text": [
            "\r  9%|▉         | 34/376 [18:01<3:06:40, 32.75s/it]"
          ],
          "name": "stderr"
        },
        {
          "output_type": "stream",
          "text": [
            "567/567 [==============================] - 24s 38ms/step - loss: 0.0071\n"
          ],
          "name": "stdout"
        },
        {
          "output_type": "stream",
          "text": [
            "\r  9%|▉         | 35/376 [18:29<2:58:18, 31.38s/it]"
          ],
          "name": "stderr"
        },
        {
          "output_type": "stream",
          "text": [
            "567/567 [==============================] - 25s 38ms/step - loss: 0.0062\n"
          ],
          "name": "stdout"
        },
        {
          "output_type": "stream",
          "text": [
            "\r 10%|▉         | 36/376 [18:58<2:53:24, 30.60s/it]"
          ],
          "name": "stderr"
        },
        {
          "output_type": "stream",
          "text": [
            "567/567 [==============================] - 25s 39ms/step - loss: 0.0045\n"
          ],
          "name": "stdout"
        },
        {
          "output_type": "stream",
          "text": [
            "\r 10%|▉         | 37/376 [19:27<2:50:20, 30.15s/it]"
          ],
          "name": "stderr"
        },
        {
          "output_type": "stream",
          "text": [
            "567/567 [==============================] - 25s 38ms/step - loss: 0.0079\n"
          ],
          "name": "stdout"
        },
        {
          "output_type": "stream",
          "text": [
            "\r 10%|█         | 38/376 [19:56<2:48:17, 29.87s/it]"
          ],
          "name": "stderr"
        },
        {
          "output_type": "stream",
          "text": [
            "567/567 [==============================] - 25s 38ms/step - loss: 0.0064\n"
          ],
          "name": "stdout"
        },
        {
          "output_type": "stream",
          "text": [
            "\r 10%|█         | 39/376 [20:25<2:45:42, 29.50s/it]"
          ],
          "name": "stderr"
        },
        {
          "output_type": "stream",
          "text": [
            "197/197 [==============================] - 11s 38ms/step - loss: 0.0101\n"
          ],
          "name": "stdout"
        },
        {
          "output_type": "stream",
          "text": [
            "\r 11%|█         | 40/376 [20:38<2:18:29, 24.73s/it]"
          ],
          "name": "stderr"
        },
        {
          "output_type": "stream",
          "text": [
            "567/567 [==============================] - 25s 38ms/step - loss: 0.0061\n"
          ],
          "name": "stdout"
        },
        {
          "output_type": "stream",
          "text": [
            "\r 11%|█         | 41/376 [21:07<2:24:37, 25.90s/it]"
          ],
          "name": "stderr"
        },
        {
          "output_type": "stream",
          "text": [
            "567/567 [==============================] - 24s 38ms/step - loss: 0.0050\n"
          ],
          "name": "stdout"
        },
        {
          "output_type": "stream",
          "text": [
            "\r 11%|█         | 42/376 [21:55<3:00:33, 32.44s/it]"
          ],
          "name": "stderr"
        },
        {
          "output_type": "stream",
          "text": [
            "567/567 [==============================] - 24s 38ms/step - loss: 0.0075\n"
          ],
          "name": "stdout"
        },
        {
          "output_type": "stream",
          "text": [
            "\r 11%|█▏        | 43/376 [22:42<3:24:59, 36.93s/it]"
          ],
          "name": "stderr"
        },
        {
          "output_type": "stream",
          "text": [
            "567/567 [==============================] - 24s 38ms/step - loss: 0.0068\n"
          ],
          "name": "stdout"
        },
        {
          "output_type": "stream",
          "text": [
            "\r 12%|█▏        | 44/376 [23:10<3:10:10, 34.37s/it]"
          ],
          "name": "stderr"
        },
        {
          "output_type": "stream",
          "text": [
            "540/540 [==============================] - 24s 39ms/step - loss: 0.0034\n"
          ],
          "name": "stdout"
        },
        {
          "output_type": "stream",
          "text": [
            "\r 12%|█▏        | 45/376 [23:37<2:57:22, 32.15s/it]"
          ],
          "name": "stderr"
        },
        {
          "output_type": "stream",
          "text": [
            "567/567 [==============================] - 24s 38ms/step - loss: 0.0040\n"
          ],
          "name": "stdout"
        },
        {
          "output_type": "stream",
          "text": [
            "\r 12%|█▏        | 46/376 [24:05<2:49:39, 30.85s/it]"
          ],
          "name": "stderr"
        },
        {
          "output_type": "stream",
          "text": [
            "567/567 [==============================] - 25s 37ms/step - loss: 0.0065\n"
          ],
          "name": "stdout"
        },
        {
          "output_type": "stream",
          "text": [
            "\r 12%|█▎        | 47/376 [24:34<2:45:48, 30.24s/it]"
          ],
          "name": "stderr"
        },
        {
          "output_type": "stream",
          "text": [
            "567/567 [==============================] - 23s 37ms/step - loss: 0.0063\n"
          ],
          "name": "stdout"
        },
        {
          "output_type": "stream",
          "text": [
            "\r 13%|█▎        | 48/376 [25:01<2:40:31, 29.36s/it]"
          ],
          "name": "stderr"
        },
        {
          "output_type": "stream",
          "text": [
            "567/567 [==============================] - 24s 37ms/step - loss: 0.0068\n"
          ],
          "name": "stdout"
        },
        {
          "output_type": "stream",
          "text": [
            "\r 13%|█▎        | 49/376 [25:29<2:37:52, 28.97s/it]"
          ],
          "name": "stderr"
        },
        {
          "output_type": "stream",
          "text": [
            "567/567 [==============================] - 24s 37ms/step - loss: 0.0089\n"
          ],
          "name": "stdout"
        },
        {
          "output_type": "stream",
          "text": [
            "\r 13%|█▎        | 50/376 [25:57<2:34:21, 28.41s/it]"
          ],
          "name": "stderr"
        },
        {
          "output_type": "stream",
          "text": [
            "567/567 [==============================] - 24s 37ms/step - loss: 0.0057\n"
          ],
          "name": "stdout"
        },
        {
          "output_type": "stream",
          "text": [
            "\r 14%|█▎        | 51/376 [26:24<2:32:59, 28.25s/it]"
          ],
          "name": "stderr"
        },
        {
          "output_type": "stream",
          "text": [
            "567/567 [==============================] - 23s 37ms/step - loss: 0.0066\n"
          ],
          "name": "stdout"
        },
        {
          "output_type": "stream",
          "text": [
            "\r 14%|█▍        | 52/376 [26:52<2:31:05, 27.98s/it]"
          ],
          "name": "stderr"
        },
        {
          "output_type": "stream",
          "text": [
            "567/567 [==============================] - 25s 38ms/step - loss: 0.0105\n"
          ],
          "name": "stdout"
        },
        {
          "output_type": "stream",
          "text": [
            "\r 14%|█▍        | 53/376 [27:40<3:02:37, 33.92s/it]"
          ],
          "name": "stderr"
        },
        {
          "output_type": "stream",
          "text": [
            "567/567 [==============================] - 24s 37ms/step - loss: 0.0053\n"
          ],
          "name": "stdout"
        },
        {
          "output_type": "stream",
          "text": [
            "\r 14%|█▍        | 54/376 [28:07<2:51:49, 32.02s/it]"
          ],
          "name": "stderr"
        },
        {
          "output_type": "stream",
          "text": [
            "567/567 [==============================] - 24s 37ms/step - loss: 0.0041\n"
          ],
          "name": "stdout"
        },
        {
          "output_type": "stream",
          "text": [
            "\r 15%|█▍        | 55/376 [28:35<2:44:29, 30.75s/it]"
          ],
          "name": "stderr"
        },
        {
          "output_type": "stream",
          "text": [
            "567/567 [==============================] - 24s 37ms/step - loss: 0.0066\n"
          ],
          "name": "stdout"
        },
        {
          "output_type": "stream",
          "text": [
            "\r 15%|█▍        | 56/376 [29:22<3:10:19, 35.69s/it]"
          ],
          "name": "stderr"
        },
        {
          "output_type": "stream",
          "text": [
            "567/567 [==============================] - 24s 37ms/step - loss: 0.0068\n"
          ],
          "name": "stdout"
        },
        {
          "output_type": "stream",
          "text": [
            "\r 15%|█▌        | 57/376 [29:50<2:57:45, 33.43s/it]"
          ],
          "name": "stderr"
        },
        {
          "output_type": "stream",
          "text": [
            "567/567 [==============================] - 24s 37ms/step - loss: 0.0067\n"
          ],
          "name": "stdout"
        },
        {
          "output_type": "stream",
          "text": [
            "\r 15%|█▌        | 58/376 [30:18<2:48:11, 31.73s/it]"
          ],
          "name": "stderr"
        },
        {
          "output_type": "stream",
          "text": [
            "567/567 [==============================] - 24s 37ms/step - loss: 0.0095\n"
          ],
          "name": "stdout"
        },
        {
          "output_type": "stream",
          "text": [
            "\r 16%|█▌        | 59/376 [30:45<2:40:53, 30.45s/it]"
          ],
          "name": "stderr"
        },
        {
          "output_type": "stream",
          "text": [
            "567/567 [==============================] - 24s 37ms/step - loss: 0.0068\n"
          ],
          "name": "stdout"
        },
        {
          "output_type": "stream",
          "text": [
            "\r 16%|█▌        | 60/376 [31:13<2:35:31, 29.53s/it]"
          ],
          "name": "stderr"
        },
        {
          "output_type": "stream",
          "text": [
            "567/567 [==============================] - 23s 37ms/step - loss: 0.0064\n"
          ],
          "name": "stdout"
        },
        {
          "output_type": "stream",
          "text": [
            "\r 16%|█▌        | 61/376 [31:41<2:32:21, 29.02s/it]"
          ],
          "name": "stderr"
        },
        {
          "output_type": "stream",
          "text": [
            "567/567 [==============================] - 24s 37ms/step - loss: 0.0075\n"
          ],
          "name": "stdout"
        },
        {
          "output_type": "stream",
          "text": [
            "\r 16%|█▋        | 62/376 [32:08<2:29:26, 28.56s/it]"
          ],
          "name": "stderr"
        },
        {
          "output_type": "stream",
          "text": [
            "567/567 [==============================] - 23s 37ms/step - loss: 0.0043\n"
          ],
          "name": "stdout"
        },
        {
          "output_type": "stream",
          "text": [
            "\r 17%|█▋        | 63/376 [32:36<2:27:03, 28.19s/it]"
          ],
          "name": "stderr"
        },
        {
          "output_type": "stream",
          "text": [
            "567/567 [==============================] - 24s 37ms/step - loss: 0.0053\n"
          ],
          "name": "stdout"
        },
        {
          "output_type": "stream",
          "text": [
            "\r 17%|█▋        | 64/376 [33:03<2:26:04, 28.09s/it]"
          ],
          "name": "stderr"
        },
        {
          "output_type": "stream",
          "text": [
            "567/567 [==============================] - 24s 37ms/step - loss: 0.0070\n"
          ],
          "name": "stdout"
        },
        {
          "output_type": "stream",
          "text": [
            "\r 17%|█▋        | 65/376 [33:31<2:24:21, 27.85s/it]"
          ],
          "name": "stderr"
        },
        {
          "output_type": "stream",
          "text": [
            "567/567 [==============================] - 25s 38ms/step - loss: 0.0043\n"
          ],
          "name": "stdout"
        },
        {
          "output_type": "stream",
          "text": [
            "\r 18%|█▊        | 66/376 [33:59<2:24:01, 27.88s/it]"
          ],
          "name": "stderr"
        },
        {
          "output_type": "stream",
          "text": [
            "567/567 [==============================] - 24s 38ms/step - loss: 0.0076\n"
          ],
          "name": "stdout"
        },
        {
          "output_type": "stream",
          "text": [
            "\r 18%|█▊        | 67/376 [34:46<2:53:08, 33.62s/it]"
          ],
          "name": "stderr"
        },
        {
          "output_type": "stream",
          "text": [
            "567/567 [==============================] - 25s 38ms/step - loss: 0.0069\n"
          ],
          "name": "stdout"
        },
        {
          "output_type": "stream",
          "text": [
            "\r 18%|█▊        | 68/376 [35:15<2:45:38, 32.27s/it]"
          ],
          "name": "stderr"
        },
        {
          "output_type": "stream",
          "text": [
            "567/567 [==============================] - 24s 38ms/step - loss: 0.0043\n"
          ],
          "name": "stdout"
        },
        {
          "output_type": "stream",
          "text": [
            "\r 18%|█▊        | 69/376 [35:43<2:38:51, 31.05s/it]"
          ],
          "name": "stderr"
        },
        {
          "output_type": "stream",
          "text": [
            "567/567 [==============================] - 25s 38ms/step - loss: 0.0099\n"
          ],
          "name": "stdout"
        },
        {
          "output_type": "stream",
          "text": [
            "\r 19%|█▊        | 70/376 [36:11<2:34:02, 30.20s/it]"
          ],
          "name": "stderr"
        },
        {
          "output_type": "stream",
          "text": [
            "567/567 [==============================] - 24s 37ms/step - loss: 0.0079\n"
          ],
          "name": "stdout"
        },
        {
          "output_type": "stream",
          "text": [
            "\r 19%|█▉        | 71/376 [36:39<2:30:06, 29.53s/it]"
          ],
          "name": "stderr"
        },
        {
          "output_type": "stream",
          "text": [
            "567/567 [==============================] - 24s 37ms/step - loss: 0.0076\n"
          ],
          "name": "stdout"
        },
        {
          "output_type": "stream",
          "text": [
            "\r 19%|█▉        | 72/376 [37:07<2:27:37, 29.14s/it]"
          ],
          "name": "stderr"
        },
        {
          "output_type": "stream",
          "text": [
            "567/567 [==============================] - 24s 37ms/step - loss: 0.0068\n"
          ],
          "name": "stdout"
        },
        {
          "output_type": "stream",
          "text": [
            "\r 19%|█▉        | 73/376 [37:35<2:25:04, 28.73s/it]"
          ],
          "name": "stderr"
        },
        {
          "output_type": "stream",
          "text": [
            "567/567 [==============================] - 24s 37ms/step - loss: 0.0040\n"
          ],
          "name": "stdout"
        },
        {
          "output_type": "stream",
          "text": [
            "\r 20%|█▉        | 74/376 [38:03<2:23:44, 28.56s/it]"
          ],
          "name": "stderr"
        },
        {
          "output_type": "stream",
          "text": [
            "567/567 [==============================] - 24s 37ms/step - loss: 0.0056\n"
          ],
          "name": "stdout"
        },
        {
          "output_type": "stream",
          "text": [
            "\r 20%|█▉        | 75/376 [38:31<2:21:55, 28.29s/it]"
          ],
          "name": "stderr"
        },
        {
          "output_type": "stream",
          "text": [
            "567/567 [==============================] - 24s 37ms/step - loss: 0.0052\n"
          ],
          "name": "stdout"
        },
        {
          "output_type": "stream",
          "text": [
            "\r 20%|██        | 76/376 [38:59<2:21:35, 28.32s/it]"
          ],
          "name": "stderr"
        },
        {
          "output_type": "stream",
          "text": [
            "567/567 [==============================] - 24s 37ms/step - loss: 0.0056\n"
          ],
          "name": "stdout"
        },
        {
          "output_type": "stream",
          "text": [
            "\r 20%|██        | 77/376 [39:27<2:20:38, 28.22s/it]"
          ],
          "name": "stderr"
        },
        {
          "output_type": "stream",
          "text": [
            "567/567 [==============================] - 24s 37ms/step - loss: 0.0074\n"
          ],
          "name": "stdout"
        },
        {
          "output_type": "stream",
          "text": [
            "\r 21%|██        | 78/376 [40:15<2:48:47, 33.99s/it]"
          ],
          "name": "stderr"
        },
        {
          "output_type": "stream",
          "text": [
            "567/567 [==============================] - 24s 37ms/step - loss: 0.0094\n"
          ],
          "name": "stdout"
        },
        {
          "output_type": "stream",
          "text": [
            "\r 21%|██        | 79/376 [41:02<3:07:59, 37.98s/it]"
          ],
          "name": "stderr"
        },
        {
          "output_type": "stream",
          "text": [
            "567/567 [==============================] - 24s 38ms/step - loss: 0.0027\n"
          ],
          "name": "stdout"
        },
        {
          "output_type": "stream",
          "text": [
            "\r 21%|██▏       | 80/376 [41:29<2:51:09, 34.70s/it]"
          ],
          "name": "stderr"
        },
        {
          "output_type": "stream",
          "text": [
            "567/567 [==============================] - 25s 38ms/step - loss: 0.0078\n"
          ],
          "name": "stdout"
        },
        {
          "output_type": "stream",
          "text": [
            "\r 22%|██▏       | 81/376 [42:17<3:10:19, 38.71s/it]"
          ],
          "name": "stderr"
        },
        {
          "output_type": "stream",
          "text": [
            "567/567 [==============================] - 24s 38ms/step - loss: 0.0058\n"
          ],
          "name": "stdout"
        },
        {
          "output_type": "stream",
          "text": [
            "\r 22%|██▏       | 82/376 [42:45<2:53:14, 35.36s/it]"
          ],
          "name": "stderr"
        },
        {
          "output_type": "stream",
          "text": [
            "567/567 [==============================] - 25s 38ms/step - loss: 0.0091\n"
          ],
          "name": "stdout"
        },
        {
          "output_type": "stream",
          "text": [
            "\r 22%|██▏       | 83/376 [43:13<2:42:39, 33.31s/it]"
          ],
          "name": "stderr"
        },
        {
          "output_type": "stream",
          "text": [
            "567/567 [==============================] - 24s 38ms/step - loss: 0.0079\n"
          ],
          "name": "stdout"
        },
        {
          "output_type": "stream",
          "text": [
            "\r 22%|██▏       | 84/376 [43:41<2:34:42, 31.79s/it]"
          ],
          "name": "stderr"
        },
        {
          "output_type": "stream",
          "text": [
            "567/567 [==============================] - 25s 38ms/step - loss: 0.0085\n"
          ],
          "name": "stdout"
        },
        {
          "output_type": "stream",
          "text": [
            "\r 23%|██▎       | 85/376 [44:11<2:30:12, 30.97s/it]"
          ],
          "name": "stderr"
        },
        {
          "output_type": "stream",
          "text": [
            "567/567 [==============================] - 25s 39ms/step - loss: 0.0058\n"
          ],
          "name": "stdout"
        },
        {
          "output_type": "stream",
          "text": [
            "\r 23%|██▎       | 86/376 [44:39<2:25:32, 30.11s/it]"
          ],
          "name": "stderr"
        },
        {
          "output_type": "stream",
          "text": [
            "567/567 [==============================] - 25s 38ms/step - loss: 0.0060\n"
          ],
          "name": "stdout"
        },
        {
          "output_type": "stream",
          "text": [
            "\r 23%|██▎       | 87/376 [45:27<2:50:54, 35.48s/it]"
          ],
          "name": "stderr"
        },
        {
          "output_type": "stream",
          "text": [
            "510/510 [==============================] - 22s 38ms/step - loss: 0.0073\n"
          ],
          "name": "stdout"
        },
        {
          "output_type": "stream",
          "text": [
            "\r 23%|██▎       | 88/376 [45:53<2:36:26, 32.59s/it]"
          ],
          "name": "stderr"
        },
        {
          "output_type": "stream",
          "text": [
            "567/567 [==============================] - 24s 37ms/step - loss: 0.0071\n"
          ],
          "name": "stdout"
        },
        {
          "output_type": "stream",
          "text": [
            "\r 24%|██▎       | 89/376 [46:40<2:57:36, 37.13s/it]"
          ],
          "name": "stderr"
        },
        {
          "output_type": "stream",
          "text": [
            "567/567 [==============================] - 23s 37ms/step - loss: 0.0077\n"
          ],
          "name": "stdout"
        },
        {
          "output_type": "stream",
          "text": [
            "\r 24%|██▍       | 90/376 [47:07<2:42:44, 34.14s/it]"
          ],
          "name": "stderr"
        },
        {
          "output_type": "stream",
          "text": [
            "567/567 [==============================] - 24s 37ms/step - loss: 0.0060\n"
          ],
          "name": "stdout"
        },
        {
          "output_type": "stream",
          "text": [
            "\r 24%|██▍       | 91/376 [47:35<2:33:03, 32.22s/it]"
          ],
          "name": "stderr"
        },
        {
          "output_type": "stream",
          "text": [
            "567/567 [==============================] - 23s 37ms/step - loss: 0.0048\n"
          ],
          "name": "stdout"
        },
        {
          "output_type": "stream",
          "text": [
            "\r 24%|██▍       | 92/376 [48:03<2:25:53, 30.82s/it]"
          ],
          "name": "stderr"
        },
        {
          "output_type": "stream",
          "text": [
            "567/567 [==============================] - 24s 37ms/step - loss: 0.0054\n"
          ],
          "name": "stdout"
        },
        {
          "output_type": "stream",
          "text": [
            "\r 25%|██▍       | 93/376 [48:31<2:21:45, 30.05s/it]"
          ],
          "name": "stderr"
        },
        {
          "output_type": "stream",
          "text": [
            "567/567 [==============================] - 24s 37ms/step - loss: 0.0058\n"
          ],
          "name": "stdout"
        },
        {
          "output_type": "stream",
          "text": [
            "\r 25%|██▌       | 94/376 [48:58<2:17:40, 29.29s/it]"
          ],
          "name": "stderr"
        },
        {
          "output_type": "stream",
          "text": [
            "567/567 [==============================] - 23s 37ms/step - loss: 0.0086\n"
          ],
          "name": "stdout"
        },
        {
          "output_type": "stream",
          "text": [
            "\r 25%|██▌       | 95/376 [49:26<2:14:44, 28.77s/it]"
          ],
          "name": "stderr"
        },
        {
          "output_type": "stream",
          "text": [
            "567/567 [==============================] - 23s 37ms/step - loss: 0.0048\n"
          ],
          "name": "stdout"
        },
        {
          "output_type": "stream",
          "text": [
            "\r 26%|██▌       | 96/376 [50:13<2:39:59, 34.28s/it]"
          ],
          "name": "stderr"
        },
        {
          "output_type": "stream",
          "text": [
            "372/372 [==============================] - 16s 37ms/step - loss: 0.0077\n"
          ],
          "name": "stdout"
        },
        {
          "output_type": "stream",
          "text": [
            "\r 26%|██▌       | 97/376 [50:32<2:18:25, 29.77s/it]"
          ],
          "name": "stderr"
        },
        {
          "output_type": "stream",
          "text": [
            "567/567 [==============================] - 24s 37ms/step - loss: 0.0042\n"
          ],
          "name": "stdout"
        },
        {
          "output_type": "stream",
          "text": [
            "\r 26%|██▌       | 98/376 [51:00<2:14:55, 29.12s/it]"
          ],
          "name": "stderr"
        },
        {
          "output_type": "stream",
          "text": [
            "354/354 [==============================] - 15s 37ms/step - loss: 0.0053\n"
          ],
          "name": "stdout"
        },
        {
          "output_type": "stream",
          "text": [
            "\r 26%|██▋       | 99/376 [51:18<1:59:10, 25.81s/it]"
          ],
          "name": "stderr"
        },
        {
          "output_type": "stream",
          "text": [
            "567/567 [==============================] - 24s 37ms/step - loss: 0.0043\n"
          ],
          "name": "stdout"
        },
        {
          "output_type": "stream",
          "text": [
            "\r 27%|██▋       | 100/376 [51:46<2:01:07, 26.33s/it]"
          ],
          "name": "stderr"
        },
        {
          "output_type": "stream",
          "text": [
            "567/567 [==============================] - 23s 37ms/step - loss: 0.0048\n"
          ],
          "name": "stdout"
        },
        {
          "output_type": "stream",
          "text": [
            "\r 27%|██▋       | 101/376 [52:33<2:29:00, 32.51s/it]"
          ],
          "name": "stderr"
        },
        {
          "output_type": "stream",
          "text": [
            "567/567 [==============================] - 24s 37ms/step - loss: 0.0047\n"
          ],
          "name": "stdout"
        },
        {
          "output_type": "stream",
          "text": [
            "\r 27%|██▋       | 102/376 [53:01<2:22:28, 31.20s/it]"
          ],
          "name": "stderr"
        },
        {
          "output_type": "stream",
          "text": [
            "567/567 [==============================] - 24s 38ms/step - loss: 0.0086\n"
          ],
          "name": "stdout"
        },
        {
          "output_type": "stream",
          "text": [
            "\r 27%|██▋       | 103/376 [53:29<2:17:31, 30.23s/it]"
          ],
          "name": "stderr"
        },
        {
          "output_type": "stream",
          "text": [
            "567/567 [==============================] - 24s 37ms/step - loss: 0.0053\n"
          ],
          "name": "stdout"
        },
        {
          "output_type": "stream",
          "text": [
            "\r 28%|██▊       | 104/376 [54:16<2:40:36, 35.43s/it]"
          ],
          "name": "stderr"
        },
        {
          "output_type": "stream",
          "text": [
            "567/567 [==============================] - 24s 37ms/step - loss: 0.0061\n"
          ],
          "name": "stdout"
        },
        {
          "output_type": "stream",
          "text": [
            "\r 28%|██▊       | 105/376 [54:44<2:29:44, 33.15s/it]"
          ],
          "name": "stderr"
        },
        {
          "output_type": "stream",
          "text": [
            "567/567 [==============================] - 24s 37ms/step - loss: 0.0055\n"
          ],
          "name": "stdout"
        },
        {
          "output_type": "stream",
          "text": [
            "\r 28%|██▊       | 106/376 [55:31<2:48:08, 37.36s/it]"
          ],
          "name": "stderr"
        },
        {
          "output_type": "stream",
          "text": [
            "567/567 [==============================] - 24s 38ms/step - loss: 0.0061\n"
          ],
          "name": "stdout"
        },
        {
          "output_type": "stream",
          "text": [
            "\r 28%|██▊       | 107/376 [56:00<2:35:33, 34.70s/it]"
          ],
          "name": "stderr"
        },
        {
          "output_type": "stream",
          "text": [
            "567/567 [==============================] - 24s 37ms/step - loss: 0.0049\n"
          ],
          "name": "stdout"
        },
        {
          "output_type": "stream",
          "text": [
            "\r 29%|██▊       | 108/376 [56:47<2:52:26, 38.61s/it]"
          ],
          "name": "stderr"
        },
        {
          "output_type": "stream",
          "text": [
            "567/567 [==============================] - 24s 37ms/step - loss: 0.0063\n"
          ],
          "name": "stdout"
        },
        {
          "output_type": "stream",
          "text": [
            "\r 29%|██▉       | 109/376 [57:35<3:03:35, 41.26s/it]"
          ],
          "name": "stderr"
        },
        {
          "output_type": "stream",
          "text": [
            "567/567 [==============================] - 24s 37ms/step - loss: 0.0045\n"
          ],
          "name": "stdout"
        },
        {
          "output_type": "stream",
          "text": [
            "\r 29%|██▉       | 110/376 [58:03<2:45:27, 37.32s/it]"
          ],
          "name": "stderr"
        },
        {
          "output_type": "stream",
          "text": [
            "567/567 [==============================] - 24s 37ms/step - loss: 0.0086\n"
          ],
          "name": "stdout"
        },
        {
          "output_type": "stream",
          "text": [
            "\r 30%|██▉       | 111/376 [58:30<2:31:28, 34.29s/it]"
          ],
          "name": "stderr"
        },
        {
          "output_type": "stream",
          "text": [
            "567/567 [==============================] - 24s 37ms/step - loss: 0.0055\n"
          ],
          "name": "stdout"
        },
        {
          "output_type": "stream",
          "text": [
            "\r 30%|██▉       | 112/376 [58:58<2:21:52, 32.24s/it]"
          ],
          "name": "stderr"
        },
        {
          "output_type": "stream",
          "text": [
            "567/567 [==============================] - 25s 38ms/step - loss: 0.0059\n"
          ],
          "name": "stdout"
        },
        {
          "output_type": "stream",
          "text": [
            "\r 30%|███       | 113/376 [59:46<2:41:54, 36.94s/it]"
          ],
          "name": "stderr"
        },
        {
          "output_type": "stream",
          "text": [
            "567/567 [==============================] - 24s 38ms/step - loss: 0.0050\n"
          ],
          "name": "stdout"
        },
        {
          "output_type": "stream",
          "text": [
            "\r 30%|███       | 114/376 [1:00:32<2:54:01, 39.85s/it]"
          ],
          "name": "stderr"
        },
        {
          "output_type": "stream",
          "text": [
            "567/567 [==============================] - 25s 38ms/step - loss: 0.0053\n"
          ],
          "name": "stdout"
        },
        {
          "output_type": "stream",
          "text": [
            "\r 31%|███       | 115/376 [1:01:01<2:38:40, 36.48s/it]"
          ],
          "name": "stderr"
        },
        {
          "output_type": "stream",
          "text": [
            "567/567 [==============================] - 24s 38ms/step - loss: 0.0056\n"
          ],
          "name": "stdout"
        },
        {
          "output_type": "stream",
          "text": [
            "\r 31%|███       | 116/376 [1:01:48<2:52:12, 39.74s/it]"
          ],
          "name": "stderr"
        },
        {
          "output_type": "stream",
          "text": [
            "567/567 [==============================] - 24s 38ms/step - loss: 0.0048\n"
          ],
          "name": "stdout"
        },
        {
          "output_type": "stream",
          "text": [
            "\r 31%|███       | 117/376 [1:02:16<2:36:01, 36.14s/it]"
          ],
          "name": "stderr"
        },
        {
          "output_type": "stream",
          "text": [
            "567/567 [==============================] - 24s 38ms/step - loss: 0.0122\n"
          ],
          "name": "stdout"
        },
        {
          "output_type": "stream",
          "text": [
            "\r 31%|███▏      | 118/376 [1:03:03<2:49:49, 39.49s/it]"
          ],
          "name": "stderr"
        },
        {
          "output_type": "stream",
          "text": [
            "567/567 [==============================] - 24s 37ms/step - loss: 0.0058\n"
          ],
          "name": "stdout"
        },
        {
          "output_type": "stream",
          "text": [
            "\r 32%|███▏      | 119/376 [1:03:31<2:34:33, 36.08s/it]"
          ],
          "name": "stderr"
        },
        {
          "output_type": "stream",
          "text": [
            "567/567 [==============================] - 24s 38ms/step - loss: 0.0063\n"
          ],
          "name": "stdout"
        },
        {
          "output_type": "stream",
          "text": [
            "\r 32%|███▏      | 120/376 [1:03:59<2:23:32, 33.64s/it]"
          ],
          "name": "stderr"
        },
        {
          "output_type": "stream",
          "text": [
            "567/567 [==============================] - 24s 37ms/step - loss: 0.0055\n"
          ],
          "name": "stdout"
        },
        {
          "output_type": "stream",
          "text": [
            "\r 32%|███▏      | 121/376 [1:04:47<2:40:45, 37.83s/it]"
          ],
          "name": "stderr"
        },
        {
          "output_type": "stream",
          "text": [
            "567/567 [==============================] - 25s 39ms/step - loss: 0.0076\n"
          ],
          "name": "stdout"
        },
        {
          "output_type": "stream",
          "text": [
            "\r 32%|███▏      | 122/376 [1:05:16<2:28:32, 35.09s/it]"
          ],
          "name": "stderr"
        },
        {
          "output_type": "stream",
          "text": [
            "567/567 [==============================] - 25s 40ms/step - loss: 0.0049\n"
          ],
          "name": "stdout"
        },
        {
          "output_type": "stream",
          "text": [
            "\r 33%|███▎      | 123/376 [1:05:45<2:21:07, 33.47s/it]"
          ],
          "name": "stderr"
        },
        {
          "output_type": "stream",
          "text": [
            "567/567 [==============================] - 26s 40ms/step - loss: 0.0050\n"
          ],
          "name": "stdout"
        },
        {
          "output_type": "stream",
          "text": [
            "\r 33%|███▎      | 124/376 [1:06:15<2:15:31, 32.27s/it]"
          ],
          "name": "stderr"
        },
        {
          "output_type": "stream",
          "text": [
            "567/567 [==============================] - 24s 38ms/step - loss: 0.0091\n"
          ],
          "name": "stdout"
        },
        {
          "output_type": "stream",
          "text": [
            "\r 33%|███▎      | 125/376 [1:06:43<2:09:15, 30.90s/it]"
          ],
          "name": "stderr"
        },
        {
          "output_type": "stream",
          "text": [
            "567/567 [==============================] - 24s 38ms/step - loss: 0.0047\n"
          ],
          "name": "stdout"
        },
        {
          "output_type": "stream",
          "text": [
            "\r 34%|███▎      | 126/376 [1:07:11<2:05:39, 30.16s/it]"
          ],
          "name": "stderr"
        },
        {
          "output_type": "stream",
          "text": [
            "567/567 [==============================] - 24s 37ms/step - loss: 0.0054\n"
          ],
          "name": "stdout"
        },
        {
          "output_type": "stream",
          "text": [
            "\r 34%|███▍      | 127/376 [1:07:38<2:01:36, 29.30s/it]"
          ],
          "name": "stderr"
        },
        {
          "output_type": "stream",
          "text": [
            "567/567 [==============================] - 25s 38ms/step - loss: 0.0062\n"
          ],
          "name": "stdout"
        },
        {
          "output_type": "stream",
          "text": [
            "\r 34%|███▍      | 128/376 [1:08:07<2:00:32, 29.17s/it]"
          ],
          "name": "stderr"
        },
        {
          "output_type": "stream",
          "text": [
            "567/567 [==============================] - 25s 39ms/step - loss: 0.0040\n"
          ],
          "name": "stdout"
        },
        {
          "output_type": "stream",
          "text": [
            "\r 34%|███▍      | 129/376 [1:08:36<1:59:21, 28.99s/it]"
          ],
          "name": "stderr"
        },
        {
          "output_type": "stream",
          "text": [
            "567/567 [==============================] - 25s 38ms/step - loss: 0.0083\n"
          ],
          "name": "stdout"
        },
        {
          "output_type": "stream",
          "text": [
            "\r 35%|███▍      | 130/376 [1:09:05<1:58:44, 28.96s/it]"
          ],
          "name": "stderr"
        },
        {
          "output_type": "stream",
          "text": [
            "567/567 [==============================] - 24s 38ms/step - loss: 0.0054\n"
          ],
          "name": "stdout"
        },
        {
          "output_type": "stream",
          "text": [
            "\r 35%|███▍      | 131/376 [1:09:33<1:57:21, 28.74s/it]"
          ],
          "name": "stderr"
        },
        {
          "output_type": "stream",
          "text": [
            "567/567 [==============================] - 25s 38ms/step - loss: 0.0039\n"
          ],
          "name": "stdout"
        },
        {
          "output_type": "stream",
          "text": [
            "\r 35%|███▌      | 132/376 [1:10:20<2:19:29, 34.30s/it]"
          ],
          "name": "stderr"
        },
        {
          "output_type": "stream",
          "text": [
            "567/567 [==============================] - 24s 37ms/step - loss: 0.0036\n"
          ],
          "name": "stdout"
        },
        {
          "output_type": "stream",
          "text": [
            "\r 35%|███▌      | 133/376 [1:10:48<2:10:37, 32.26s/it]"
          ],
          "name": "stderr"
        },
        {
          "output_type": "stream",
          "text": [
            "567/567 [==============================] - 25s 38ms/step - loss: 0.0028\n"
          ],
          "name": "stdout"
        },
        {
          "output_type": "stream",
          "text": [
            "\r 36%|███▌      | 134/376 [1:11:36<2:29:06, 36.97s/it]"
          ],
          "name": "stderr"
        },
        {
          "output_type": "stream",
          "text": [
            "567/567 [==============================] - 24s 38ms/step - loss: 0.0050\n"
          ],
          "name": "stdout"
        },
        {
          "output_type": "stream",
          "text": [
            "\r 36%|███▌      | 135/376 [1:12:04<2:18:02, 34.37s/it]"
          ],
          "name": "stderr"
        },
        {
          "output_type": "stream",
          "text": [
            "567/567 [==============================] - 25s 38ms/step - loss: 0.0052\n"
          ],
          "name": "stdout"
        },
        {
          "output_type": "stream",
          "text": [
            "\r 36%|███▌      | 136/376 [1:12:33<2:11:00, 32.75s/it]"
          ],
          "name": "stderr"
        },
        {
          "output_type": "stream",
          "text": [
            "567/567 [==============================] - 24s 38ms/step - loss: 0.0050\n"
          ],
          "name": "stdout"
        },
        {
          "output_type": "stream",
          "text": [
            "\r 36%|███▋      | 137/376 [1:13:01<2:04:44, 31.32s/it]"
          ],
          "name": "stderr"
        },
        {
          "output_type": "stream",
          "text": [
            "567/567 [==============================] - 25s 38ms/step - loss: 0.0048\n"
          ],
          "name": "stdout"
        },
        {
          "output_type": "stream",
          "text": [
            "\r 37%|███▋      | 138/376 [1:13:29<2:00:47, 30.45s/it]"
          ],
          "name": "stderr"
        },
        {
          "output_type": "stream",
          "text": [
            "567/567 [==============================] - 24s 38ms/step - loss: 0.0036\n"
          ],
          "name": "stdout"
        },
        {
          "output_type": "stream",
          "text": [
            "\r 37%|███▋      | 139/376 [1:13:56<1:56:29, 29.49s/it]"
          ],
          "name": "stderr"
        },
        {
          "output_type": "stream",
          "text": [
            "567/567 [==============================] - 24s 37ms/step - loss: 0.0038\n"
          ],
          "name": "stdout"
        },
        {
          "output_type": "stream",
          "text": [
            "\r 37%|███▋      | 140/376 [1:14:24<1:53:56, 28.97s/it]"
          ],
          "name": "stderr"
        },
        {
          "output_type": "stream",
          "text": [
            "567/567 [==============================] - 24s 38ms/step - loss: 0.0069\n"
          ],
          "name": "stdout"
        },
        {
          "output_type": "stream",
          "text": [
            "\r 38%|███▊      | 141/376 [1:15:12<2:15:42, 34.65s/it]"
          ],
          "name": "stderr"
        },
        {
          "output_type": "stream",
          "text": [
            "567/567 [==============================] - 24s 37ms/step - loss: 0.0047\n"
          ],
          "name": "stdout"
        },
        {
          "output_type": "stream",
          "text": [
            "\r 38%|███▊      | 142/376 [1:15:40<2:06:58, 32.56s/it]"
          ],
          "name": "stderr"
        },
        {
          "output_type": "stream",
          "text": [
            "567/567 [==============================] - 24s 38ms/step - loss: 0.0034\n"
          ],
          "name": "stdout"
        },
        {
          "output_type": "stream",
          "text": [
            "\r 38%|███▊      | 143/376 [1:16:08<2:01:46, 31.36s/it]"
          ],
          "name": "stderr"
        },
        {
          "output_type": "stream",
          "text": [
            "567/567 [==============================] - 24s 38ms/step - loss: 0.0057\n"
          ],
          "name": "stdout"
        },
        {
          "output_type": "stream",
          "text": [
            "\r 38%|███▊      | 144/376 [1:16:56<2:19:58, 36.20s/it]"
          ],
          "name": "stderr"
        },
        {
          "output_type": "stream",
          "text": [
            "567/567 [==============================] - 25s 38ms/step - loss: 0.0079\n"
          ],
          "name": "stdout"
        },
        {
          "output_type": "stream",
          "text": [
            "\r 39%|███▊      | 145/376 [1:17:25<2:10:38, 33.93s/it]"
          ],
          "name": "stderr"
        },
        {
          "output_type": "stream",
          "text": [
            "567/567 [==============================] - 24s 37ms/step - loss: 0.0064\n"
          ],
          "name": "stdout"
        },
        {
          "output_type": "stream",
          "text": [
            "\r 39%|███▉      | 146/376 [1:17:52<2:02:59, 32.09s/it]"
          ],
          "name": "stderr"
        },
        {
          "output_type": "stream",
          "text": [
            "567/567 [==============================] - 25s 38ms/step - loss: 0.0058\n"
          ],
          "name": "stdout"
        },
        {
          "output_type": "stream",
          "text": [
            "\r 39%|███▉      | 147/376 [1:18:40<2:20:24, 36.79s/it]"
          ],
          "name": "stderr"
        },
        {
          "output_type": "stream",
          "text": [
            "567/567 [==============================] - 24s 38ms/step - loss: 0.0036\n"
          ],
          "name": "stdout"
        },
        {
          "output_type": "stream",
          "text": [
            "\r 39%|███▉      | 148/376 [1:19:08<2:09:53, 34.18s/it]"
          ],
          "name": "stderr"
        },
        {
          "output_type": "stream",
          "text": [
            "567/567 [==============================] - 25s 38ms/step - loss: 0.0050\n"
          ],
          "name": "stdout"
        },
        {
          "output_type": "stream",
          "text": [
            "\r 40%|███▉      | 149/376 [1:19:37<2:02:57, 32.50s/it]"
          ],
          "name": "stderr"
        },
        {
          "output_type": "stream",
          "text": [
            "567/567 [==============================] - 24s 38ms/step - loss: 0.0041\n"
          ],
          "name": "stdout"
        },
        {
          "output_type": "stream",
          "text": [
            "\r 40%|███▉      | 150/376 [1:20:05<1:57:06, 31.09s/it]"
          ],
          "name": "stderr"
        },
        {
          "output_type": "stream",
          "text": [
            "372/372 [==============================] - 17s 38ms/step - loss: 0.0104\n"
          ],
          "name": "stdout"
        },
        {
          "output_type": "stream",
          "text": [
            "\r 40%|████      | 151/376 [1:20:31<1:51:12, 29.65s/it]"
          ],
          "name": "stderr"
        },
        {
          "output_type": "stream",
          "text": [
            "567/567 [==============================] - 24s 38ms/step - loss: 0.0061\n"
          ],
          "name": "stdout"
        },
        {
          "output_type": "stream",
          "text": [
            "\r 40%|████      | 152/376 [1:21:18<2:10:21, 34.92s/it]"
          ],
          "name": "stderr"
        },
        {
          "output_type": "stream",
          "text": [
            "567/567 [==============================] - 24s 38ms/step - loss: 0.0060\n"
          ],
          "name": "stdout"
        },
        {
          "output_type": "stream",
          "text": [
            "\r 41%|████      | 153/376 [1:21:46<2:02:35, 32.98s/it]"
          ],
          "name": "stderr"
        },
        {
          "output_type": "stream",
          "text": [
            "567/567 [==============================] - 24s 37ms/step - loss: 0.0085\n"
          ],
          "name": "stdout"
        },
        {
          "output_type": "stream",
          "text": [
            "\r 41%|████      | 154/376 [1:22:14<1:56:24, 31.46s/it]"
          ],
          "name": "stderr"
        },
        {
          "output_type": "stream",
          "text": [
            "567/567 [==============================] - 24s 37ms/step - loss: 0.0041\n"
          ],
          "name": "stdout"
        },
        {
          "output_type": "stream",
          "text": [
            "\r 41%|████      | 155/376 [1:22:42<1:52:02, 30.42s/it]"
          ],
          "name": "stderr"
        },
        {
          "output_type": "stream",
          "text": [
            "567/567 [==============================] - 24s 38ms/step - loss: 0.0045\n"
          ],
          "name": "stdout"
        },
        {
          "output_type": "stream",
          "text": [
            "\r 41%|████▏     | 156/376 [1:23:10<1:48:38, 29.63s/it]"
          ],
          "name": "stderr"
        },
        {
          "output_type": "stream",
          "text": [
            "567/567 [==============================] - 24s 38ms/step - loss: 0.0053\n"
          ],
          "name": "stdout"
        },
        {
          "output_type": "stream",
          "text": [
            "\r 42%|████▏     | 157/376 [1:23:57<2:07:22, 34.90s/it]"
          ],
          "name": "stderr"
        },
        {
          "output_type": "stream",
          "text": [
            "90/90 [==============================] - 7s 37ms/step - loss: 0.0102\n"
          ],
          "name": "stdout"
        },
        {
          "output_type": "stream",
          "text": [
            "\r 42%|████▏     | 158/376 [1:24:07<1:39:05, 27.27s/it]"
          ],
          "name": "stderr"
        },
        {
          "output_type": "stream",
          "text": [
            "364/364 [==============================] - 16s 38ms/step - loss: 0.0145\n"
          ],
          "name": "stdout"
        },
        {
          "output_type": "stream",
          "text": [
            "\r 42%|████▏     | 159/376 [1:24:26<1:29:52, 24.85s/it]"
          ],
          "name": "stderr"
        },
        {
          "output_type": "stream",
          "text": [
            "567/567 [==============================] - 24s 38ms/step - loss: 0.0042\n"
          ],
          "name": "stdout"
        },
        {
          "output_type": "stream",
          "text": [
            "\r 43%|████▎     | 160/376 [1:24:54<1:33:21, 25.93s/it]"
          ],
          "name": "stderr"
        },
        {
          "output_type": "stream",
          "text": [
            "567/567 [==============================] - 24s 38ms/step - loss: 0.0127\n"
          ],
          "name": "stdout"
        },
        {
          "output_type": "stream",
          "text": [
            "\r 43%|████▎     | 161/376 [1:25:42<1:55:57, 32.36s/it]"
          ],
          "name": "stderr"
        },
        {
          "output_type": "stream",
          "text": [
            "567/567 [==============================] - 25s 38ms/step - loss: 0.0066\n"
          ],
          "name": "stdout"
        },
        {
          "output_type": "stream",
          "text": [
            "\r 43%|████▎     | 162/376 [1:26:10<1:51:19, 31.21s/it]"
          ],
          "name": "stderr"
        },
        {
          "output_type": "stream",
          "text": [
            "567/567 [==============================] - 24s 38ms/step - loss: 0.0085\n"
          ],
          "name": "stdout"
        },
        {
          "output_type": "stream",
          "text": [
            "\r 43%|████▎     | 163/376 [1:26:57<2:07:29, 35.91s/it]"
          ],
          "name": "stderr"
        },
        {
          "output_type": "stream",
          "text": [
            "567/567 [==============================] - 25s 38ms/step - loss: 0.0047\n"
          ],
          "name": "stdout"
        },
        {
          "output_type": "stream",
          "text": [
            "\r 44%|████▎     | 164/376 [1:27:26<1:58:57, 33.67s/it]"
          ],
          "name": "stderr"
        },
        {
          "output_type": "stream",
          "text": [
            "567/567 [==============================] - 24s 38ms/step - loss: 0.0075\n"
          ],
          "name": "stdout"
        },
        {
          "output_type": "stream",
          "text": [
            "\r 44%|████▍     | 165/376 [1:27:54<1:52:31, 32.00s/it]"
          ],
          "name": "stderr"
        },
        {
          "output_type": "stream",
          "text": [
            "567/567 [==============================] - 25s 38ms/step - loss: 0.0047\n"
          ],
          "name": "stdout"
        },
        {
          "output_type": "stream",
          "text": [
            "\r 44%|████▍     | 166/376 [1:28:22<1:48:09, 30.90s/it]"
          ],
          "name": "stderr"
        },
        {
          "output_type": "stream",
          "text": [
            "567/567 [==============================] - 24s 38ms/step - loss: 0.0071\n"
          ],
          "name": "stdout"
        },
        {
          "output_type": "stream",
          "text": [
            "\r 44%|████▍     | 167/376 [1:29:10<2:05:06, 35.92s/it]"
          ],
          "name": "stderr"
        },
        {
          "output_type": "stream",
          "text": [
            "567/567 [==============================] - 25s 38ms/step - loss: 0.0113\n"
          ],
          "name": "stdout"
        },
        {
          "output_type": "stream",
          "text": [
            "\r 45%|████▍     | 168/376 [1:29:39<1:57:08, 33.79s/it]"
          ],
          "name": "stderr"
        },
        {
          "output_type": "stream",
          "text": [
            "364/364 [==============================] - 17s 38ms/step - loss: 0.0079\n"
          ],
          "name": "stdout"
        },
        {
          "output_type": "stream",
          "text": [
            "\r 45%|████▍     | 169/376 [1:29:58<1:41:50, 29.52s/it]"
          ],
          "name": "stderr"
        },
        {
          "output_type": "stream",
          "text": [
            "567/567 [==============================] - 24s 38ms/step - loss: 0.0071\n"
          ],
          "name": "stdout"
        },
        {
          "output_type": "stream",
          "text": [
            "\r 45%|████▌     | 170/376 [1:30:27<1:40:16, 29.20s/it]"
          ],
          "name": "stderr"
        },
        {
          "output_type": "stream",
          "text": [
            "567/567 [==============================] - 25s 39ms/step - loss: 0.0046\n"
          ],
          "name": "stdout"
        },
        {
          "output_type": "stream",
          "text": [
            "\r 45%|████▌     | 171/376 [1:30:55<1:38:35, 28.85s/it]"
          ],
          "name": "stderr"
        },
        {
          "output_type": "stream",
          "text": [
            "567/567 [==============================] - 24s 38ms/step - loss: 0.0078\n"
          ],
          "name": "stdout"
        },
        {
          "output_type": "stream",
          "text": [
            "\r 46%|████▌     | 172/376 [1:31:42<1:56:49, 34.36s/it]"
          ],
          "name": "stderr"
        },
        {
          "output_type": "stream",
          "text": [
            "567/567 [==============================] - 25s 38ms/step - loss: 0.0050\n"
          ],
          "name": "stdout"
        },
        {
          "output_type": "stream",
          "text": [
            "\r 46%|████▌     | 173/376 [1:32:29<2:09:39, 38.33s/it]"
          ],
          "name": "stderr"
        },
        {
          "output_type": "stream",
          "text": [
            "567/567 [==============================] - 25s 39ms/step - loss: 0.0070\n"
          ],
          "name": "stdout"
        },
        {
          "output_type": "stream",
          "text": [
            "\r 46%|████▋     | 174/376 [1:32:57<1:58:37, 35.24s/it]"
          ],
          "name": "stderr"
        },
        {
          "output_type": "stream",
          "text": [
            "567/567 [==============================] - 25s 39ms/step - loss: 0.0065\n"
          ],
          "name": "stdout"
        },
        {
          "output_type": "stream",
          "text": [
            "\r 47%|████▋     | 175/376 [1:33:27<1:51:49, 33.38s/it]"
          ],
          "name": "stderr"
        },
        {
          "output_type": "stream",
          "text": [
            "567/567 [==============================] - 25s 39ms/step - loss: 0.0050\n"
          ],
          "name": "stdout"
        },
        {
          "output_type": "stream",
          "text": [
            "\r 47%|████▋     | 176/376 [1:33:55<1:46:40, 32.00s/it]"
          ],
          "name": "stderr"
        },
        {
          "output_type": "stream",
          "text": [
            "140/140 [==============================] - 9s 38ms/step - loss: 0.0234\n"
          ],
          "name": "stdout"
        },
        {
          "output_type": "stream",
          "text": [
            "\r 47%|████▋     | 177/376 [1:34:12<1:30:29, 27.28s/it]"
          ],
          "name": "stderr"
        },
        {
          "output_type": "stream",
          "text": [
            "567/567 [==============================] - 24s 38ms/step - loss: 0.0061\n"
          ],
          "name": "stdout"
        },
        {
          "output_type": "stream",
          "text": [
            "\r 47%|████▋     | 178/376 [1:34:58<1:49:22, 33.14s/it]"
          ],
          "name": "stderr"
        },
        {
          "output_type": "stream",
          "text": [
            "567/567 [==============================] - 26s 39ms/step - loss: 0.0062\n"
          ],
          "name": "stdout"
        },
        {
          "output_type": "stream",
          "text": [
            "\r 48%|████▊     | 179/376 [1:35:27<1:44:31, 31.84s/it]"
          ],
          "name": "stderr"
        },
        {
          "output_type": "stream",
          "text": [
            "567/567 [==============================] - 25s 39ms/step - loss: 0.0055\n"
          ],
          "name": "stdout"
        },
        {
          "output_type": "stream",
          "text": [
            "\r 48%|████▊     | 180/376 [1:36:14<1:59:05, 36.46s/it]"
          ],
          "name": "stderr"
        },
        {
          "output_type": "stream",
          "text": [
            "567/567 [==============================] - 25s 39ms/step - loss: 0.0067\n"
          ],
          "name": "stdout"
        },
        {
          "output_type": "stream",
          "text": [
            "\r 48%|████▊     | 181/376 [1:36:43<1:50:34, 34.02s/it]"
          ],
          "name": "stderr"
        },
        {
          "output_type": "stream",
          "text": [
            "567/567 [==============================] - 25s 39ms/step - loss: 0.0039\n"
          ],
          "name": "stdout"
        },
        {
          "output_type": "stream",
          "text": [
            "\r 48%|████▊     | 182/376 [1:37:11<1:44:27, 32.31s/it]"
          ],
          "name": "stderr"
        },
        {
          "output_type": "stream",
          "text": [
            "567/567 [==============================] - 25s 39ms/step - loss: 0.0067\n"
          ],
          "name": "stdout"
        },
        {
          "output_type": "stream",
          "text": [
            "\r 49%|████▊     | 183/376 [1:37:40<1:40:55, 31.38s/it]"
          ],
          "name": "stderr"
        },
        {
          "output_type": "stream",
          "text": [
            "567/567 [==============================] - 25s 39ms/step - loss: 0.0057\n"
          ],
          "name": "stdout"
        },
        {
          "output_type": "stream",
          "text": [
            "\r 49%|████▉     | 184/376 [1:38:28<1:55:37, 36.14s/it]"
          ],
          "name": "stderr"
        },
        {
          "output_type": "stream",
          "text": [
            "567/567 [==============================] - 26s 40ms/step - loss: 0.0109\n"
          ],
          "name": "stdout"
        },
        {
          "output_type": "stream",
          "text": [
            "\r 49%|████▉     | 185/376 [1:38:56<1:48:12, 33.99s/it]"
          ],
          "name": "stderr"
        },
        {
          "output_type": "stream",
          "text": [
            "567/567 [==============================] - 25s 38ms/step - loss: 0.0052\n"
          ],
          "name": "stdout"
        },
        {
          "output_type": "stream",
          "text": [
            "\r 49%|████▉     | 186/376 [1:39:24<1:41:45, 32.13s/it]"
          ],
          "name": "stderr"
        },
        {
          "output_type": "stream",
          "text": [
            "148/148 [==============================] - 8s 38ms/step - loss: 0.0155\n"
          ],
          "name": "stdout"
        },
        {
          "output_type": "stream",
          "text": [
            "\r 50%|████▉     | 187/376 [1:39:36<1:22:05, 26.06s/it]"
          ],
          "name": "stderr"
        },
        {
          "output_type": "stream",
          "text": [
            "527/527 [==============================] - 23s 39ms/step - loss: 0.0040\n"
          ],
          "name": "stdout"
        },
        {
          "output_type": "stream",
          "text": [
            "\r 50%|█████     | 188/376 [1:40:03<1:22:01, 26.18s/it]"
          ],
          "name": "stderr"
        },
        {
          "output_type": "stream",
          "text": [
            "567/567 [==============================] - 24s 38ms/step - loss: 0.0044\n"
          ],
          "name": "stdout"
        },
        {
          "output_type": "stream",
          "text": [
            "\r 50%|█████     | 189/376 [1:40:31<1:23:23, 26.76s/it]"
          ],
          "name": "stderr"
        },
        {
          "output_type": "stream",
          "text": [
            "567/567 [==============================] - 25s 38ms/step - loss: 0.0074\n"
          ],
          "name": "stdout"
        },
        {
          "output_type": "stream",
          "text": [
            "\r 51%|█████     | 190/376 [1:40:59<1:24:10, 27.15s/it]"
          ],
          "name": "stderr"
        },
        {
          "output_type": "stream",
          "text": [
            "567/567 [==============================] - 24s 38ms/step - loss: 0.0044\n"
          ],
          "name": "stdout"
        },
        {
          "output_type": "stream",
          "text": [
            "\r 51%|█████     | 191/376 [1:41:27<1:24:44, 27.49s/it]"
          ],
          "name": "stderr"
        },
        {
          "output_type": "stream",
          "text": [
            "567/567 [==============================] - 25s 39ms/step - loss: 0.0060\n"
          ],
          "name": "stdout"
        },
        {
          "output_type": "stream",
          "text": [
            "\r 51%|█████     | 192/376 [1:41:56<1:25:42, 27.95s/it]"
          ],
          "name": "stderr"
        },
        {
          "output_type": "stream",
          "text": [
            "567/567 [==============================] - 24s 38ms/step - loss: 0.0048\n"
          ],
          "name": "stdout"
        },
        {
          "output_type": "stream",
          "text": [
            "\r 51%|█████▏    | 193/376 [1:42:23<1:24:38, 27.75s/it]"
          ],
          "name": "stderr"
        },
        {
          "output_type": "stream",
          "text": [
            "567/567 [==============================] - 25s 38ms/step - loss: 0.0040\n"
          ],
          "name": "stdout"
        },
        {
          "output_type": "stream",
          "text": [
            "\r 52%|█████▏    | 194/376 [1:42:52<1:25:17, 28.12s/it]"
          ],
          "name": "stderr"
        },
        {
          "output_type": "stream",
          "text": [
            "567/567 [==============================] - 24s 38ms/step - loss: 0.0055\n"
          ],
          "name": "stdout"
        },
        {
          "output_type": "stream",
          "text": [
            "\r 52%|█████▏    | 195/376 [1:43:20<1:24:34, 28.04s/it]"
          ],
          "name": "stderr"
        },
        {
          "output_type": "stream",
          "text": [
            "567/567 [==============================] - 25s 38ms/step - loss: 0.0046\n"
          ],
          "name": "stdout"
        },
        {
          "output_type": "stream",
          "text": [
            "\r 52%|█████▏    | 196/376 [1:44:08<1:42:02, 34.01s/it]"
          ],
          "name": "stderr"
        },
        {
          "output_type": "stream",
          "text": [
            "567/567 [==============================] - 25s 39ms/step - loss: 0.0065\n"
          ],
          "name": "stdout"
        },
        {
          "output_type": "stream",
          "text": [
            "\r 52%|█████▏    | 197/376 [1:44:36<1:36:16, 32.27s/it]"
          ],
          "name": "stderr"
        },
        {
          "output_type": "stream",
          "text": [
            "567/567 [==============================] - 26s 40ms/step - loss: 0.0076\n"
          ],
          "name": "stdout"
        },
        {
          "output_type": "stream",
          "text": [
            "\r 53%|█████▎    | 198/376 [1:45:24<1:49:33, 36.93s/it]"
          ],
          "name": "stderr"
        },
        {
          "output_type": "stream",
          "text": [
            "567/567 [==============================] - 25s 40ms/step - loss: 0.0040\n"
          ],
          "name": "stdout"
        },
        {
          "output_type": "stream",
          "text": [
            "\r 53%|█████▎    | 199/376 [1:45:54<1:42:20, 34.69s/it]"
          ],
          "name": "stderr"
        },
        {
          "output_type": "stream",
          "text": [
            "172/172 [==============================] - 10s 39ms/step - loss: 0.0178\n"
          ],
          "name": "stdout"
        },
        {
          "output_type": "stream",
          "text": [
            "\r 53%|█████▎    | 200/376 [1:46:10<1:25:30, 29.15s/it]"
          ],
          "name": "stderr"
        },
        {
          "output_type": "stream",
          "text": [
            "567/567 [==============================] - 25s 40ms/step - loss: 0.0049\n"
          ],
          "name": "stdout"
        },
        {
          "output_type": "stream",
          "text": [
            "\r 53%|█████▎    | 201/376 [1:46:39<1:24:33, 28.99s/it]"
          ],
          "name": "stderr"
        },
        {
          "output_type": "stream",
          "text": [
            "567/567 [==============================] - 26s 40ms/step - loss: 0.0049\n"
          ],
          "name": "stdout"
        },
        {
          "output_type": "stream",
          "text": [
            "\r 54%|█████▎    | 202/376 [1:47:09<1:25:01, 29.32s/it]"
          ],
          "name": "stderr"
        },
        {
          "output_type": "stream",
          "text": [
            "542/542 [==============================] - 24s 40ms/step - loss: 0.0064\n"
          ],
          "name": "stdout"
        },
        {
          "output_type": "stream",
          "text": [
            "\r 54%|█████▍    | 203/376 [1:47:36<1:22:52, 28.74s/it]"
          ],
          "name": "stderr"
        },
        {
          "output_type": "stream",
          "text": [
            "567/567 [==============================] - 26s 39ms/step - loss: 0.0083\n"
          ],
          "name": "stdout"
        },
        {
          "output_type": "stream",
          "text": [
            "\r 54%|█████▍    | 204/376 [1:48:06<1:23:09, 29.01s/it]"
          ],
          "name": "stderr"
        },
        {
          "output_type": "stream",
          "text": [
            "567/567 [==============================] - 25s 39ms/step - loss: 0.0070\n"
          ],
          "name": "stdout"
        },
        {
          "output_type": "stream",
          "text": [
            "\r 55%|█████▍    | 205/376 [1:48:34<1:22:25, 28.92s/it]"
          ],
          "name": "stderr"
        },
        {
          "output_type": "stream",
          "text": [
            "567/567 [==============================] - 26s 39ms/step - loss: 0.0037\n"
          ],
          "name": "stdout"
        },
        {
          "output_type": "stream",
          "text": [
            "\r 55%|█████▍    | 206/376 [1:49:04<1:22:10, 29.00s/it]"
          ],
          "name": "stderr"
        },
        {
          "output_type": "stream",
          "text": [
            "567/567 [==============================] - 26s 40ms/step - loss: 0.0056\n"
          ],
          "name": "stdout"
        },
        {
          "output_type": "stream",
          "text": [
            "\r 55%|█████▌    | 207/376 [1:49:32<1:21:20, 28.88s/it]"
          ],
          "name": "stderr"
        },
        {
          "output_type": "stream",
          "text": [
            "567/567 [==============================] - 25s 39ms/step - loss: 0.0031\n"
          ],
          "name": "stdout"
        },
        {
          "output_type": "stream",
          "text": [
            "\r 55%|█████▌    | 208/376 [1:50:01<1:21:00, 28.93s/it]"
          ],
          "name": "stderr"
        },
        {
          "output_type": "stream",
          "text": [
            "567/567 [==============================] - 25s 40ms/step - loss: 0.0068\n"
          ],
          "name": "stdout"
        },
        {
          "output_type": "stream",
          "text": [
            "\r 56%|█████▌    | 209/376 [1:50:31<1:21:00, 29.10s/it]"
          ],
          "name": "stderr"
        },
        {
          "output_type": "stream",
          "text": [
            "567/567 [==============================] - 25s 39ms/step - loss: 0.0030\n"
          ],
          "name": "stdout"
        },
        {
          "output_type": "stream",
          "text": [
            "\r 56%|█████▌    | 210/376 [1:51:00<1:20:21, 29.04s/it]"
          ],
          "name": "stderr"
        },
        {
          "output_type": "stream",
          "text": [
            "567/567 [==============================] - 26s 40ms/step - loss: 0.0056\n"
          ],
          "name": "stdout"
        },
        {
          "output_type": "stream",
          "text": [
            "\r 56%|█████▌    | 211/376 [1:51:29<1:20:23, 29.23s/it]"
          ],
          "name": "stderr"
        },
        {
          "output_type": "stream",
          "text": [
            "567/567 [==============================] - 24s 38ms/step - loss: 0.0092\n"
          ],
          "name": "stdout"
        },
        {
          "output_type": "stream",
          "text": [
            "\r 56%|█████▋    | 212/376 [1:51:57<1:19:04, 28.93s/it]"
          ],
          "name": "stderr"
        },
        {
          "output_type": "stream",
          "text": [
            "567/567 [==============================] - 25s 38ms/step - loss: 0.0056\n"
          ],
          "name": "stdout"
        },
        {
          "output_type": "stream",
          "text": [
            "\r 57%|█████▋    | 213/376 [1:52:45<1:34:06, 34.64s/it]"
          ],
          "name": "stderr"
        },
        {
          "output_type": "stream",
          "text": [
            "567/567 [==============================] - 24s 38ms/step - loss: 0.0072\n"
          ],
          "name": "stdout"
        },
        {
          "output_type": "stream",
          "text": [
            "\r 57%|█████▋    | 214/376 [1:53:14<1:28:14, 32.68s/it]"
          ],
          "name": "stderr"
        },
        {
          "output_type": "stream",
          "text": [
            "567/567 [==============================] - 25s 38ms/step - loss: 0.0036\n"
          ],
          "name": "stdout"
        },
        {
          "output_type": "stream",
          "text": [
            "\r 57%|█████▋    | 215/376 [1:53:42<1:24:11, 31.37s/it]"
          ],
          "name": "stderr"
        },
        {
          "output_type": "stream",
          "text": [
            "567/567 [==============================] - 24s 38ms/step - loss: 0.0091\n"
          ],
          "name": "stdout"
        },
        {
          "output_type": "stream",
          "text": [
            "\r 57%|█████▋    | 216/376 [1:54:29<1:36:25, 36.16s/it]"
          ],
          "name": "stderr"
        },
        {
          "output_type": "stream",
          "text": [
            "567/567 [==============================] - 24s 37ms/step - loss: 0.0081\n"
          ],
          "name": "stdout"
        },
        {
          "output_type": "stream",
          "text": [
            "\r 58%|█████▊    | 217/376 [1:54:58<1:29:41, 33.84s/it]"
          ],
          "name": "stderr"
        },
        {
          "output_type": "stream",
          "text": [
            "567/567 [==============================] - 24s 38ms/step - loss: 0.0110\n"
          ],
          "name": "stdout"
        },
        {
          "output_type": "stream",
          "text": [
            "\r 58%|█████▊    | 218/376 [1:55:26<1:24:35, 32.12s/it]"
          ],
          "name": "stderr"
        },
        {
          "output_type": "stream",
          "text": [
            "567/567 [==============================] - 25s 38ms/step - loss: 0.0050\n"
          ],
          "name": "stdout"
        },
        {
          "output_type": "stream",
          "text": [
            "\r 58%|█████▊    | 219/376 [1:55:54<1:20:38, 30.82s/it]"
          ],
          "name": "stderr"
        },
        {
          "output_type": "stream",
          "text": [
            "567/567 [==============================] - 24s 38ms/step - loss: 0.0037\n"
          ],
          "name": "stdout"
        },
        {
          "output_type": "stream",
          "text": [
            "\r 59%|█████▊    | 220/376 [1:56:22<1:18:14, 30.09s/it]"
          ],
          "name": "stderr"
        },
        {
          "output_type": "stream",
          "text": [
            "567/567 [==============================] - 25s 38ms/step - loss: 0.0064\n"
          ],
          "name": "stdout"
        },
        {
          "output_type": "stream",
          "text": [
            "\r 59%|█████▉    | 221/376 [1:56:50<1:16:29, 29.61s/it]"
          ],
          "name": "stderr"
        },
        {
          "output_type": "stream",
          "text": [
            "567/567 [==============================] - 24s 38ms/step - loss: 0.0085\n"
          ],
          "name": "stdout"
        },
        {
          "output_type": "stream",
          "text": [
            "\r 59%|█████▉    | 222/376 [1:57:18<1:14:39, 29.09s/it]"
          ],
          "name": "stderr"
        },
        {
          "output_type": "stream",
          "text": [
            "567/567 [==============================] - 25s 38ms/step - loss: 0.0046\n"
          ],
          "name": "stdout"
        },
        {
          "output_type": "stream",
          "text": [
            "\r 59%|█████▉    | 223/376 [1:57:46<1:13:07, 28.67s/it]"
          ],
          "name": "stderr"
        },
        {
          "output_type": "stream",
          "text": [
            "567/567 [==============================] - 24s 38ms/step - loss: 0.0068\n"
          ],
          "name": "stdout"
        },
        {
          "output_type": "stream",
          "text": [
            "\r 60%|█████▉    | 224/376 [1:58:14<1:12:02, 28.44s/it]"
          ],
          "name": "stderr"
        },
        {
          "output_type": "stream",
          "text": [
            "567/567 [==============================] - 24s 38ms/step - loss: 0.0089\n"
          ],
          "name": "stdout"
        },
        {
          "output_type": "stream",
          "text": [
            "\r 60%|█████▉    | 225/376 [1:58:42<1:11:14, 28.31s/it]"
          ],
          "name": "stderr"
        },
        {
          "output_type": "stream",
          "text": [
            "567/567 [==============================] - 24s 38ms/step - loss: 0.0035\n"
          ],
          "name": "stdout"
        },
        {
          "output_type": "stream",
          "text": [
            "\r 60%|██████    | 226/376 [1:59:10<1:10:51, 28.34s/it]"
          ],
          "name": "stderr"
        },
        {
          "output_type": "stream",
          "text": [
            "567/567 [==============================] - 24s 39ms/step - loss: 0.0079\n"
          ],
          "name": "stdout"
        },
        {
          "output_type": "stream",
          "text": [
            "\r 60%|██████    | 227/376 [1:59:38<1:10:09, 28.25s/it]"
          ],
          "name": "stderr"
        },
        {
          "output_type": "stream",
          "text": [
            "567/567 [==============================] - 24s 38ms/step - loss: 0.0062\n"
          ],
          "name": "stdout"
        },
        {
          "output_type": "stream",
          "text": [
            "\r 61%|██████    | 228/376 [2:00:07<1:09:54, 28.34s/it]"
          ],
          "name": "stderr"
        },
        {
          "output_type": "stream",
          "text": [
            "567/567 [==============================] - 23s 37ms/step - loss: 0.0041\n"
          ],
          "name": "stdout"
        },
        {
          "output_type": "stream",
          "text": [
            "\r 61%|██████    | 229/376 [2:00:34<1:08:22, 27.91s/it]"
          ],
          "name": "stderr"
        },
        {
          "output_type": "stream",
          "text": [
            "567/567 [==============================] - 24s 37ms/step - loss: 0.0052\n"
          ],
          "name": "stdout"
        },
        {
          "output_type": "stream",
          "text": [
            "\r 61%|██████    | 230/376 [2:01:21<1:21:55, 33.67s/it]"
          ],
          "name": "stderr"
        },
        {
          "output_type": "stream",
          "text": [
            "328/328 [==============================] - 15s 37ms/step - loss: 0.0131\n"
          ],
          "name": "stdout"
        },
        {
          "output_type": "stream",
          "text": [
            "\r 61%|██████▏   | 231/376 [2:01:39<1:09:44, 28.86s/it]"
          ],
          "name": "stderr"
        },
        {
          "output_type": "stream",
          "text": [
            "140/140 [==============================] - 8s 37ms/step - loss: 0.0035\n"
          ],
          "name": "stdout"
        },
        {
          "output_type": "stream",
          "text": [
            "\r 62%|██████▏   | 232/376 [2:01:50<56:34, 23.57s/it]  "
          ],
          "name": "stderr"
        },
        {
          "output_type": "stream",
          "text": [
            "567/567 [==============================] - 24s 37ms/step - loss: 0.0067\n"
          ],
          "name": "stdout"
        },
        {
          "output_type": "stream",
          "text": [
            "\r 62%|██████▏   | 233/376 [2:02:17<58:50, 24.69s/it]"
          ],
          "name": "stderr"
        },
        {
          "output_type": "stream",
          "text": [
            "567/567 [==============================] - 24s 37ms/step - loss: 0.0099\n"
          ],
          "name": "stdout"
        },
        {
          "output_type": "stream",
          "text": [
            "\r 62%|██████▏   | 234/376 [2:02:45<1:00:42, 25.65s/it]"
          ],
          "name": "stderr"
        },
        {
          "output_type": "stream",
          "text": [
            "567/567 [==============================] - 24s 37ms/step - loss: 0.0067\n"
          ],
          "name": "stdout"
        },
        {
          "output_type": "stream",
          "text": [
            "\r 62%|██████▎   | 235/376 [2:03:32<1:15:24, 32.09s/it]"
          ],
          "name": "stderr"
        },
        {
          "output_type": "stream",
          "text": [
            "567/567 [==============================] - 24s 38ms/step - loss: 0.0050\n"
          ],
          "name": "stdout"
        },
        {
          "output_type": "stream",
          "text": [
            "\r 63%|██████▎   | 236/376 [2:04:00<1:12:11, 30.94s/it]"
          ],
          "name": "stderr"
        },
        {
          "output_type": "stream",
          "text": [
            "567/567 [==============================] - 24s 37ms/step - loss: 0.0047\n"
          ],
          "name": "stdout"
        },
        {
          "output_type": "stream",
          "text": [
            "\r 63%|██████▎   | 237/376 [2:04:28<1:09:23, 29.95s/it]"
          ],
          "name": "stderr"
        },
        {
          "output_type": "stream",
          "text": [
            "567/567 [==============================] - 24s 38ms/step - loss: 0.0053\n"
          ],
          "name": "stdout"
        },
        {
          "output_type": "stream",
          "text": [
            "\r 63%|██████▎   | 238/376 [2:04:56<1:07:34, 29.38s/it]"
          ],
          "name": "stderr"
        },
        {
          "output_type": "stream",
          "text": [
            "358/358 [==============================] - 16s 38ms/step - loss: 0.0090\n"
          ],
          "name": "stdout"
        },
        {
          "output_type": "stream",
          "text": [
            "\r 64%|██████▎   | 239/376 [2:05:22<1:04:39, 28.32s/it]"
          ],
          "name": "stderr"
        },
        {
          "output_type": "stream",
          "text": [
            "567/567 [==============================] - 24s 38ms/step - loss: 0.0064\n"
          ],
          "name": "stdout"
        },
        {
          "output_type": "stream",
          "text": [
            "\r 64%|██████▍   | 240/376 [2:05:50<1:04:11, 28.32s/it]"
          ],
          "name": "stderr"
        },
        {
          "output_type": "stream",
          "text": [
            "567/567 [==============================] - 24s 38ms/step - loss: 0.0044\n"
          ],
          "name": "stdout"
        },
        {
          "output_type": "stream",
          "text": [
            "\r 64%|██████▍   | 241/376 [2:06:18<1:03:17, 28.13s/it]"
          ],
          "name": "stderr"
        },
        {
          "output_type": "stream",
          "text": [
            "567/567 [==============================] - 24s 37ms/step - loss: 0.0074\n"
          ],
          "name": "stdout"
        },
        {
          "output_type": "stream",
          "text": [
            "\r 64%|██████▍   | 242/376 [2:07:05<1:15:18, 33.72s/it]"
          ],
          "name": "stderr"
        },
        {
          "output_type": "stream",
          "text": [
            "567/567 [==============================] - 25s 38ms/step - loss: 0.0069\n"
          ],
          "name": "stdout"
        },
        {
          "output_type": "stream",
          "text": [
            "\r 65%|██████▍   | 243/376 [2:07:53<1:24:11, 37.98s/it]"
          ],
          "name": "stderr"
        },
        {
          "output_type": "stream",
          "text": [
            "535/535 [==============================] - 23s 38ms/step - loss: 0.0073\n"
          ],
          "name": "stdout"
        },
        {
          "output_type": "stream",
          "text": [
            "\r 65%|██████▍   | 244/376 [2:08:18<1:15:31, 34.33s/it]"
          ],
          "name": "stderr"
        },
        {
          "output_type": "stream",
          "text": [
            "567/567 [==============================] - 25s 38ms/step - loss: 0.0054\n"
          ],
          "name": "stdout"
        },
        {
          "output_type": "stream",
          "text": [
            "\r 65%|██████▌   | 245/376 [2:08:47<1:11:03, 32.55s/it]"
          ],
          "name": "stderr"
        },
        {
          "output_type": "stream",
          "text": [
            "567/567 [==============================] - 24s 38ms/step - loss: 0.0033\n"
          ],
          "name": "stdout"
        },
        {
          "output_type": "stream",
          "text": [
            "\r 65%|██████▌   | 246/376 [2:09:14<1:06:57, 30.90s/it]"
          ],
          "name": "stderr"
        },
        {
          "output_type": "stream",
          "text": [
            "567/567 [==============================] - 25s 38ms/step - loss: 0.0058\n"
          ],
          "name": "stdout"
        },
        {
          "output_type": "stream",
          "text": [
            "\r 66%|██████▌   | 247/376 [2:09:42<1:04:25, 29.97s/it]"
          ],
          "name": "stderr"
        },
        {
          "output_type": "stream",
          "text": [
            "567/567 [==============================] - 24s 39ms/step - loss: 0.0073\n"
          ],
          "name": "stdout"
        },
        {
          "output_type": "stream",
          "text": [
            "\r 66%|██████▌   | 248/376 [2:10:29<1:14:51, 35.09s/it]"
          ],
          "name": "stderr"
        },
        {
          "output_type": "stream",
          "text": [
            "567/567 [==============================] - 25s 38ms/step - loss: 0.0115\n"
          ],
          "name": "stdout"
        },
        {
          "output_type": "stream",
          "text": [
            "\r 66%|██████▌   | 249/376 [2:10:57<1:09:56, 33.04s/it]"
          ],
          "name": "stderr"
        },
        {
          "output_type": "stream",
          "text": [
            "567/567 [==============================] - 24s 38ms/step - loss: 0.0093\n"
          ],
          "name": "stdout"
        },
        {
          "output_type": "stream",
          "text": [
            "\r 66%|██████▋   | 250/376 [2:11:25<1:06:14, 31.54s/it]"
          ],
          "name": "stderr"
        },
        {
          "output_type": "stream",
          "text": [
            "567/567 [==============================] - 26s 39ms/step - loss: 0.0071\n"
          ],
          "name": "stdout"
        },
        {
          "output_type": "stream",
          "text": [
            "\r 67%|██████▋   | 251/376 [2:11:54<1:04:11, 30.81s/it]"
          ],
          "name": "stderr"
        },
        {
          "output_type": "stream",
          "text": [
            "567/567 [==============================] - 25s 39ms/step - loss: 0.0042\n"
          ],
          "name": "stdout"
        },
        {
          "output_type": "stream",
          "text": [
            "\r 67%|██████▋   | 252/376 [2:12:22<1:01:58, 29.99s/it]"
          ],
          "name": "stderr"
        },
        {
          "output_type": "stream",
          "text": [
            "567/567 [==============================] - 26s 40ms/step - loss: 0.0053\n"
          ],
          "name": "stdout"
        },
        {
          "output_type": "stream",
          "text": [
            "\r 67%|██████▋   | 253/376 [2:12:52<1:01:10, 29.84s/it]"
          ],
          "name": "stderr"
        },
        {
          "output_type": "stream",
          "text": [
            "567/567 [==============================] - 25s 39ms/step - loss: 0.0110\n"
          ],
          "name": "stdout"
        },
        {
          "output_type": "stream",
          "text": [
            "\r 68%|██████▊   | 254/376 [2:13:20<59:30, 29.26s/it]  "
          ],
          "name": "stderr"
        },
        {
          "output_type": "stream",
          "text": [
            "567/567 [==============================] - 25s 38ms/step - loss: 0.0066\n"
          ],
          "name": "stdout"
        },
        {
          "output_type": "stream",
          "text": [
            "\r 68%|██████▊   | 255/376 [2:13:48<58:32, 29.03s/it]"
          ],
          "name": "stderr"
        },
        {
          "output_type": "stream",
          "text": [
            "567/567 [==============================] - 25s 39ms/step - loss: 0.0061\n"
          ],
          "name": "stdout"
        },
        {
          "output_type": "stream",
          "text": [
            "\r 68%|██████▊   | 256/376 [2:14:16<57:33, 28.78s/it]"
          ],
          "name": "stderr"
        },
        {
          "output_type": "stream",
          "text": [
            "567/567 [==============================] - 25s 38ms/step - loss: 0.0017\n"
          ],
          "name": "stdout"
        },
        {
          "output_type": "stream",
          "text": [
            "\r 68%|██████▊   | 257/376 [2:14:45<57:07, 28.81s/it]"
          ],
          "name": "stderr"
        },
        {
          "output_type": "stream",
          "text": [
            "567/567 [==============================] - 25s 39ms/step - loss: 0.0066\n"
          ],
          "name": "stdout"
        },
        {
          "output_type": "stream",
          "text": [
            "\r 69%|██████▊   | 258/376 [2:15:32<1:07:33, 34.35s/it]"
          ],
          "name": "stderr"
        },
        {
          "output_type": "stream",
          "text": [
            "567/567 [==============================] - 25s 39ms/step - loss: 0.0053\n"
          ],
          "name": "stdout"
        },
        {
          "output_type": "stream",
          "text": [
            "\r 69%|██████▉   | 259/376 [2:16:01<1:03:26, 32.53s/it]"
          ],
          "name": "stderr"
        },
        {
          "output_type": "stream",
          "text": [
            "567/567 [==============================] - 24s 38ms/step - loss: 0.0038\n"
          ],
          "name": "stdout"
        },
        {
          "output_type": "stream",
          "text": [
            "\r 69%|██████▉   | 260/376 [2:16:29<1:00:34, 31.33s/it]"
          ],
          "name": "stderr"
        },
        {
          "output_type": "stream",
          "text": [
            "567/567 [==============================] - 24s 38ms/step - loss: 0.0066\n"
          ],
          "name": "stdout"
        },
        {
          "output_type": "stream",
          "text": [
            "\r 69%|██████▉   | 261/376 [2:16:57<58:03, 30.29s/it]  "
          ],
          "name": "stderr"
        },
        {
          "output_type": "stream",
          "text": [
            "567/567 [==============================] - 24s 38ms/step - loss: 0.0039\n"
          ],
          "name": "stdout"
        },
        {
          "output_type": "stream",
          "text": [
            "\r 70%|██████▉   | 262/376 [2:17:25<56:26, 29.71s/it]"
          ],
          "name": "stderr"
        },
        {
          "output_type": "stream",
          "text": [
            "567/567 [==============================] - 24s 38ms/step - loss: 0.0073\n"
          ],
          "name": "stdout"
        },
        {
          "output_type": "stream",
          "text": [
            "\r 70%|██████▉   | 263/376 [2:17:53<54:30, 28.94s/it]"
          ],
          "name": "stderr"
        },
        {
          "output_type": "stream",
          "text": [
            "567/567 [==============================] - 25s 38ms/step - loss: 0.0062\n"
          ],
          "name": "stdout"
        },
        {
          "output_type": "stream",
          "text": [
            "\r 70%|███████   | 264/376 [2:18:21<53:33, 28.69s/it]"
          ],
          "name": "stderr"
        },
        {
          "output_type": "stream",
          "text": [
            "567/567 [==============================] - 24s 38ms/step - loss: 0.0067\n"
          ],
          "name": "stdout"
        },
        {
          "output_type": "stream",
          "text": [
            "\r 70%|███████   | 265/376 [2:18:48<52:26, 28.34s/it]"
          ],
          "name": "stderr"
        },
        {
          "output_type": "stream",
          "text": [
            "567/567 [==============================] - 25s 38ms/step - loss: 0.0041\n"
          ],
          "name": "stdout"
        },
        {
          "output_type": "stream",
          "text": [
            "\r 71%|███████   | 266/376 [2:19:16<51:46, 28.24s/it]"
          ],
          "name": "stderr"
        },
        {
          "output_type": "stream",
          "text": [
            "567/567 [==============================] - 24s 38ms/step - loss: 0.0067\n"
          ],
          "name": "stdout"
        },
        {
          "output_type": "stream",
          "text": [
            "\r 71%|███████   | 267/376 [2:19:44<50:53, 28.02s/it]"
          ],
          "name": "stderr"
        },
        {
          "output_type": "stream",
          "text": [
            "567/567 [==============================] - 25s 38ms/step - loss: 0.0049\n"
          ],
          "name": "stdout"
        },
        {
          "output_type": "stream",
          "text": [
            "\r 71%|███████▏  | 268/376 [2:20:31<1:00:40, 33.71s/it]"
          ],
          "name": "stderr"
        },
        {
          "output_type": "stream",
          "text": [
            "567/567 [==============================] - 24s 38ms/step - loss: 0.0049\n"
          ],
          "name": "stdout"
        },
        {
          "output_type": "stream",
          "text": [
            "\r 72%|███████▏  | 269/376 [2:20:58<56:34, 31.73s/it]  "
          ],
          "name": "stderr"
        },
        {
          "output_type": "stream",
          "text": [
            "567/567 [==============================] - 25s 39ms/step - loss: 0.0069\n"
          ],
          "name": "stdout"
        },
        {
          "output_type": "stream",
          "text": [
            "\r 72%|███████▏  | 270/376 [2:21:46<1:04:37, 36.58s/it]"
          ],
          "name": "stderr"
        },
        {
          "output_type": "stream",
          "text": [
            "567/567 [==============================] - 25s 39ms/step - loss: 0.0059\n"
          ],
          "name": "stdout"
        },
        {
          "output_type": "stream",
          "text": [
            "\r 72%|███████▏  | 271/376 [2:22:14<59:37, 34.08s/it]  "
          ],
          "name": "stderr"
        },
        {
          "output_type": "stream",
          "text": [
            "567/567 [==============================] - 25s 39ms/step - loss: 0.0048\n"
          ],
          "name": "stdout"
        },
        {
          "output_type": "stream",
          "text": [
            "\r 72%|███████▏  | 272/376 [2:22:43<56:23, 32.53s/it]"
          ],
          "name": "stderr"
        },
        {
          "output_type": "stream",
          "text": [
            "567/567 [==============================] - 25s 39ms/step - loss: 0.0059\n"
          ],
          "name": "stdout"
        },
        {
          "output_type": "stream",
          "text": [
            "\r 73%|███████▎  | 273/376 [2:23:11<53:51, 31.37s/it]"
          ],
          "name": "stderr"
        },
        {
          "output_type": "stream",
          "text": [
            "459/459 [==============================] - 21s 39ms/step - loss: 0.0060\n"
          ],
          "name": "stdout"
        },
        {
          "output_type": "stream",
          "text": [
            "\r 73%|███████▎  | 274/376 [2:23:36<49:36, 29.18s/it]"
          ],
          "name": "stderr"
        },
        {
          "output_type": "stream",
          "text": [
            "567/567 [==============================] - 25s 39ms/step - loss: 0.0075\n"
          ],
          "name": "stdout"
        },
        {
          "output_type": "stream",
          "text": [
            "\r 73%|███████▎  | 275/376 [2:24:22<58:04, 34.50s/it]"
          ],
          "name": "stderr"
        },
        {
          "output_type": "stream",
          "text": [
            "567/567 [==============================] - 24s 38ms/step - loss: 0.0097\n"
          ],
          "name": "stdout"
        },
        {
          "output_type": "stream",
          "text": [
            "\r 73%|███████▎  | 276/376 [2:24:50<53:55, 32.35s/it]"
          ],
          "name": "stderr"
        },
        {
          "output_type": "stream",
          "text": [
            "567/567 [==============================] - 24s 38ms/step - loss: 0.0049\n"
          ],
          "name": "stdout"
        },
        {
          "output_type": "stream",
          "text": [
            "\r 74%|███████▎  | 277/376 [2:25:18<51:31, 31.23s/it]"
          ],
          "name": "stderr"
        },
        {
          "output_type": "stream",
          "text": [
            "567/567 [==============================] - 24s 38ms/step - loss: 0.0067\n"
          ],
          "name": "stdout"
        },
        {
          "output_type": "stream",
          "text": [
            "\r 74%|███████▍  | 278/376 [2:25:46<49:17, 30.18s/it]"
          ],
          "name": "stderr"
        },
        {
          "output_type": "stream",
          "text": [
            "567/567 [==============================] - 24s 38ms/step - loss: 0.0066\n"
          ],
          "name": "stdout"
        },
        {
          "output_type": "stream",
          "text": [
            "\r 74%|███████▍  | 279/376 [2:26:14<47:47, 29.56s/it]"
          ],
          "name": "stderr"
        },
        {
          "output_type": "stream",
          "text": [
            "567/567 [==============================] - 24s 38ms/step - loss: 0.0079\n"
          ],
          "name": "stdout"
        },
        {
          "output_type": "stream",
          "text": [
            "\r 74%|███████▍  | 280/376 [2:26:42<46:15, 28.91s/it]"
          ],
          "name": "stderr"
        },
        {
          "output_type": "stream",
          "text": [
            "567/567 [==============================] - 24s 39ms/step - loss: 0.0064\n"
          ],
          "name": "stdout"
        },
        {
          "output_type": "stream",
          "text": [
            "\r 75%|███████▍  | 281/376 [2:27:10<45:38, 28.83s/it]"
          ],
          "name": "stderr"
        },
        {
          "output_type": "stream",
          "text": [
            "567/567 [==============================] - 24s 38ms/step - loss: 0.0077\n"
          ],
          "name": "stdout"
        },
        {
          "output_type": "stream",
          "text": [
            "\r 75%|███████▌  | 282/376 [2:27:57<53:35, 34.20s/it]"
          ],
          "name": "stderr"
        },
        {
          "output_type": "stream",
          "text": [
            "567/567 [==============================] - 26s 40ms/step - loss: 0.0064\n"
          ],
          "name": "stdout"
        },
        {
          "output_type": "stream",
          "text": [
            "\r 75%|███████▌  | 283/376 [2:28:27<50:53, 32.83s/it]"
          ],
          "name": "stderr"
        },
        {
          "output_type": "stream",
          "text": [
            "567/567 [==============================] - 25s 39ms/step - loss: 0.0067\n"
          ],
          "name": "stdout"
        },
        {
          "output_type": "stream",
          "text": [
            "\r 76%|███████▌  | 284/376 [2:28:55<48:14, 31.46s/it]"
          ],
          "name": "stderr"
        },
        {
          "output_type": "stream",
          "text": [
            "567/567 [==============================] - 26s 39ms/step - loss: 0.0082\n"
          ],
          "name": "stdout"
        },
        {
          "output_type": "stream",
          "text": [
            "\r 76%|███████▌  | 285/376 [2:29:25<46:55, 30.94s/it]"
          ],
          "name": "stderr"
        },
        {
          "output_type": "stream",
          "text": [
            "567/567 [==============================] - 25s 39ms/step - loss: 0.0063\n"
          ],
          "name": "stdout"
        },
        {
          "output_type": "stream",
          "text": [
            "\r 76%|███████▌  | 286/376 [2:29:53<45:18, 30.21s/it]"
          ],
          "name": "stderr"
        },
        {
          "output_type": "stream",
          "text": [
            "567/567 [==============================] - 25s 39ms/step - loss: 0.0089\n"
          ],
          "name": "stdout"
        },
        {
          "output_type": "stream",
          "text": [
            "\r 76%|███████▋  | 287/376 [2:30:21<43:56, 29.63s/it]"
          ],
          "name": "stderr"
        },
        {
          "output_type": "stream",
          "text": [
            "567/567 [==============================] - 25s 39ms/step - loss: 0.0051\n"
          ],
          "name": "stdout"
        },
        {
          "output_type": "stream",
          "text": [
            "\r 77%|███████▋  | 288/376 [2:30:49<42:38, 29.07s/it]"
          ],
          "name": "stderr"
        },
        {
          "output_type": "stream",
          "text": [
            "567/567 [==============================] - 25s 38ms/step - loss: 0.0094\n"
          ],
          "name": "stdout"
        },
        {
          "output_type": "stream",
          "text": [
            "\r 77%|███████▋  | 289/376 [2:31:18<42:03, 29.00s/it]"
          ],
          "name": "stderr"
        },
        {
          "output_type": "stream",
          "text": [
            "567/567 [==============================] - 25s 40ms/step - loss: 0.0035\n"
          ],
          "name": "stdout"
        },
        {
          "output_type": "stream",
          "text": [
            "\r 77%|███████▋  | 290/376 [2:31:47<41:40, 29.07s/it]"
          ],
          "name": "stderr"
        },
        {
          "output_type": "stream",
          "text": [
            "567/567 [==============================] - 26s 40ms/step - loss: 0.0056\n"
          ],
          "name": "stdout"
        },
        {
          "output_type": "stream",
          "text": [
            "\r 77%|███████▋  | 291/376 [2:32:17<41:19, 29.17s/it]"
          ],
          "name": "stderr"
        },
        {
          "output_type": "stream",
          "text": [
            "567/567 [==============================] - 26s 40ms/step - loss: 0.0072\n"
          ],
          "name": "stdout"
        },
        {
          "output_type": "stream",
          "text": [
            "\r 78%|███████▊  | 292/376 [2:32:46<40:59, 29.28s/it]"
          ],
          "name": "stderr"
        },
        {
          "output_type": "stream",
          "text": [
            "146/146 [==============================] - 8s 40ms/step - loss: 0.0213\n"
          ],
          "name": "stdout"
        },
        {
          "output_type": "stream",
          "text": [
            "\r 78%|███████▊  | 293/376 [2:33:02<34:58, 25.28s/it]"
          ],
          "name": "stderr"
        },
        {
          "output_type": "stream",
          "text": [
            "567/567 [==============================] - 25s 39ms/step - loss: 0.0063\n"
          ],
          "name": "stdout"
        },
        {
          "output_type": "stream",
          "text": [
            "\r 78%|███████▊  | 294/376 [2:33:31<36:06, 26.42s/it]"
          ],
          "name": "stderr"
        },
        {
          "output_type": "stream",
          "text": [
            "567/567 [==============================] - 25s 39ms/step - loss: 0.0023\n"
          ],
          "name": "stdout"
        },
        {
          "output_type": "stream",
          "text": [
            "\r 78%|███████▊  | 295/376 [2:33:59<36:17, 26.88s/it]"
          ],
          "name": "stderr"
        },
        {
          "output_type": "stream",
          "text": [
            "567/567 [==============================] - 25s 39ms/step - loss: 0.0067\n"
          ],
          "name": "stdout"
        },
        {
          "output_type": "stream",
          "text": [
            "\r 79%|███████▊  | 296/376 [2:34:29<36:53, 27.67s/it]"
          ],
          "name": "stderr"
        },
        {
          "output_type": "stream",
          "text": [
            "567/567 [==============================] - 24s 38ms/step - loss: 0.0066\n"
          ],
          "name": "stdout"
        },
        {
          "output_type": "stream",
          "text": [
            "\r 79%|███████▉  | 297/376 [2:34:57<36:31, 27.74s/it]"
          ],
          "name": "stderr"
        },
        {
          "output_type": "stream",
          "text": [
            "567/567 [==============================] - 25s 40ms/step - loss: 0.0075\n"
          ],
          "name": "stdout"
        },
        {
          "output_type": "stream",
          "text": [
            "\r 79%|███████▉  | 298/376 [2:35:45<43:55, 33.79s/it]"
          ],
          "name": "stderr"
        },
        {
          "output_type": "stream",
          "text": [
            "567/567 [==============================] - 25s 39ms/step - loss: 0.0060\n"
          ],
          "name": "stdout"
        },
        {
          "output_type": "stream",
          "text": [
            "\r 80%|███████▉  | 299/376 [2:36:31<48:25, 37.73s/it]"
          ],
          "name": "stderr"
        },
        {
          "output_type": "stream",
          "text": [
            "567/567 [==============================] - 25s 39ms/step - loss: 0.0046\n"
          ],
          "name": "stdout"
        },
        {
          "output_type": "stream",
          "text": [
            "\r 80%|███████▉  | 300/376 [2:37:19<51:22, 40.56s/it]"
          ],
          "name": "stderr"
        },
        {
          "output_type": "stream",
          "text": [
            "567/567 [==============================] - 25s 39ms/step - loss: 0.0051\n"
          ],
          "name": "stdout"
        },
        {
          "output_type": "stream",
          "text": [
            "\r 80%|████████  | 301/376 [2:38:05<53:00, 42.40s/it]"
          ],
          "name": "stderr"
        },
        {
          "output_type": "stream",
          "text": [
            "567/567 [==============================] - 25s 38ms/step - loss: 0.0106\n"
          ],
          "name": "stdout"
        },
        {
          "output_type": "stream",
          "text": [
            "\r 80%|████████  | 302/376 [2:38:34<47:18, 38.36s/it]"
          ],
          "name": "stderr"
        },
        {
          "output_type": "stream",
          "text": [
            "567/567 [==============================] - 24s 38ms/step - loss: 0.0095\n"
          ],
          "name": "stdout"
        },
        {
          "output_type": "stream",
          "text": [
            "\r 81%|████████  | 303/376 [2:39:03<42:59, 35.33s/it]"
          ],
          "name": "stderr"
        },
        {
          "output_type": "stream",
          "text": [
            "567/567 [==============================] - 25s 39ms/step - loss: 0.0047\n"
          ],
          "name": "stdout"
        },
        {
          "output_type": "stream",
          "text": [
            "\r 81%|████████  | 304/376 [2:39:31<39:49, 33.19s/it]"
          ],
          "name": "stderr"
        },
        {
          "output_type": "stream",
          "text": [
            "567/567 [==============================] - 25s 39ms/step - loss: 0.0059\n"
          ],
          "name": "stdout"
        },
        {
          "output_type": "stream",
          "text": [
            "\r 81%|████████  | 305/376 [2:40:18<44:09, 37.32s/it]"
          ],
          "name": "stderr"
        },
        {
          "output_type": "stream",
          "text": [
            "567/567 [==============================] - 26s 40ms/step - loss: 0.0055\n"
          ],
          "name": "stdout"
        },
        {
          "output_type": "stream",
          "text": [
            "\r 81%|████████▏ | 306/376 [2:40:47<40:52, 35.04s/it]"
          ],
          "name": "stderr"
        },
        {
          "output_type": "stream",
          "text": [
            "342/342 [==============================] - 16s 40ms/step - loss: 0.0060\n"
          ],
          "name": "stdout"
        },
        {
          "output_type": "stream",
          "text": [
            "\r 82%|████████▏ | 307/376 [2:41:07<34:52, 30.33s/it]"
          ],
          "name": "stderr"
        },
        {
          "output_type": "stream",
          "text": [
            "567/567 [==============================] - 26s 39ms/step - loss: 0.0065\n"
          ],
          "name": "stdout"
        },
        {
          "output_type": "stream",
          "text": [
            "\r 82%|████████▏ | 308/376 [2:41:55<40:21, 35.60s/it]"
          ],
          "name": "stderr"
        },
        {
          "output_type": "stream",
          "text": [
            "567/567 [==============================] - 25s 39ms/step - loss: 0.0065\n"
          ],
          "name": "stdout"
        },
        {
          "output_type": "stream",
          "text": [
            "\r 82%|████████▏ | 309/376 [2:42:23<37:18, 33.41s/it]"
          ],
          "name": "stderr"
        },
        {
          "output_type": "stream",
          "text": [
            "277/277 [==============================] - 13s 39ms/step - loss: 0.0084\n"
          ],
          "name": "stdout"
        },
        {
          "output_type": "stream",
          "text": [
            "\r 82%|████████▏ | 310/376 [2:42:49<34:25, 31.30s/it]"
          ],
          "name": "stderr"
        },
        {
          "output_type": "stream",
          "text": [
            "567/567 [==============================] - 25s 40ms/step - loss: 0.0071\n"
          ],
          "name": "stdout"
        },
        {
          "output_type": "stream",
          "text": [
            "\r 83%|████████▎ | 311/376 [2:43:18<33:04, 30.53s/it]"
          ],
          "name": "stderr"
        },
        {
          "output_type": "stream",
          "text": [
            "481/481 [==============================] - 21s 39ms/step - loss: 0.0076\n"
          ],
          "name": "stdout"
        },
        {
          "output_type": "stream",
          "text": [
            "\r 83%|████████▎ | 312/376 [2:43:42<30:35, 28.68s/it]"
          ],
          "name": "stderr"
        },
        {
          "output_type": "stream",
          "text": [
            "567/567 [==============================] - 25s 39ms/step - loss: 0.0084\n"
          ],
          "name": "stdout"
        },
        {
          "output_type": "stream",
          "text": [
            "\r 83%|████████▎ | 313/376 [2:44:30<36:13, 34.51s/it]"
          ],
          "name": "stderr"
        },
        {
          "output_type": "stream",
          "text": [
            "567/567 [==============================] - 25s 39ms/step - loss: 0.0051\n"
          ],
          "name": "stdout"
        },
        {
          "output_type": "stream",
          "text": [
            "\r 84%|████████▎ | 314/376 [2:44:59<33:46, 32.68s/it]"
          ],
          "name": "stderr"
        },
        {
          "output_type": "stream",
          "text": [
            "567/567 [==============================] - 26s 39ms/step - loss: 0.0036\n"
          ],
          "name": "stdout"
        },
        {
          "output_type": "stream",
          "text": [
            "\r 84%|████████▍ | 315/376 [2:45:46<37:38, 37.02s/it]"
          ],
          "name": "stderr"
        },
        {
          "output_type": "stream",
          "text": [
            "567/567 [==============================] - 26s 41ms/step - loss: 0.0063\n"
          ],
          "name": "stdout"
        },
        {
          "output_type": "stream",
          "text": [
            "\r 84%|████████▍ | 316/376 [2:46:16<34:50, 34.84s/it]"
          ],
          "name": "stderr"
        },
        {
          "output_type": "stream",
          "text": [
            "567/567 [==============================] - 26s 39ms/step - loss: 0.0093\n"
          ],
          "name": "stdout"
        },
        {
          "output_type": "stream",
          "text": [
            "\r 84%|████████▍ | 317/376 [2:47:04<38:07, 38.78s/it]"
          ],
          "name": "stderr"
        },
        {
          "output_type": "stream",
          "text": [
            "567/567 [==============================] - 24s 38ms/step - loss: 0.0090\n"
          ],
          "name": "stdout"
        },
        {
          "output_type": "stream",
          "text": [
            "\r 85%|████████▍ | 318/376 [2:47:31<34:12, 35.39s/it]"
          ],
          "name": "stderr"
        },
        {
          "output_type": "stream",
          "text": [
            "567/567 [==============================] - 25s 38ms/step - loss: 0.0090\n"
          ],
          "name": "stdout"
        },
        {
          "output_type": "stream",
          "text": [
            "\r 85%|████████▍ | 319/376 [2:48:00<31:37, 33.28s/it]"
          ],
          "name": "stderr"
        },
        {
          "output_type": "stream",
          "text": [
            "567/567 [==============================] - 25s 39ms/step - loss: 0.0079\n"
          ],
          "name": "stdout"
        },
        {
          "output_type": "stream",
          "text": [
            "\r 85%|████████▌ | 320/376 [2:48:28<29:37, 31.73s/it]"
          ],
          "name": "stderr"
        },
        {
          "output_type": "stream",
          "text": [
            "353/353 [==============================] - 17s 39ms/step - loss: 0.0111\n"
          ],
          "name": "stdout"
        },
        {
          "output_type": "stream",
          "text": [
            "\r 85%|████████▌ | 321/376 [2:48:47<25:43, 28.06s/it]"
          ],
          "name": "stderr"
        },
        {
          "output_type": "stream",
          "text": [
            "567/567 [==============================] - 24s 38ms/step - loss: 0.0045\n"
          ],
          "name": "stdout"
        },
        {
          "output_type": "stream",
          "text": [
            "\r 86%|████████▌ | 322/376 [2:49:16<25:20, 28.16s/it]"
          ],
          "name": "stderr"
        },
        {
          "output_type": "stream",
          "text": [
            "567/567 [==============================] - 25s 39ms/step - loss: 0.0056\n"
          ],
          "name": "stdout"
        },
        {
          "output_type": "stream",
          "text": [
            "\r 86%|████████▌ | 323/376 [2:50:03<30:02, 34.00s/it]"
          ],
          "name": "stderr"
        },
        {
          "output_type": "stream",
          "text": [
            "567/567 [==============================] - 25s 39ms/step - loss: 0.0056\n"
          ],
          "name": "stdout"
        },
        {
          "output_type": "stream",
          "text": [
            "\r 86%|████████▌ | 324/376 [2:50:32<28:09, 32.49s/it]"
          ],
          "name": "stderr"
        },
        {
          "output_type": "stream",
          "text": [
            "567/567 [==============================] - 26s 40ms/step - loss: 0.0085\n"
          ],
          "name": "stdout"
        },
        {
          "output_type": "stream",
          "text": [
            "\r 86%|████████▋ | 325/376 [2:51:02<26:53, 31.63s/it]"
          ],
          "name": "stderr"
        },
        {
          "output_type": "stream",
          "text": [
            "567/567 [==============================] - 26s 41ms/step - loss: 0.0046\n"
          ],
          "name": "stdout"
        },
        {
          "output_type": "stream",
          "text": [
            "\r 87%|████████▋ | 326/376 [2:51:31<25:47, 30.95s/it]"
          ],
          "name": "stderr"
        },
        {
          "output_type": "stream",
          "text": [
            "567/567 [==============================] - 25s 39ms/step - loss: 0.0059\n"
          ],
          "name": "stdout"
        },
        {
          "output_type": "stream",
          "text": [
            "\r 87%|████████▋ | 327/376 [2:51:59<24:36, 30.13s/it]"
          ],
          "name": "stderr"
        },
        {
          "output_type": "stream",
          "text": [
            "567/567 [==============================] - 26s 40ms/step - loss: 0.0068\n"
          ],
          "name": "stdout"
        },
        {
          "output_type": "stream",
          "text": [
            "\r 87%|████████▋ | 328/376 [2:52:29<24:02, 30.06s/it]"
          ],
          "name": "stderr"
        },
        {
          "output_type": "stream",
          "text": [
            "131/131 [==============================] - 8s 40ms/step - loss: 0.0251\n"
          ],
          "name": "stdout"
        },
        {
          "output_type": "stream",
          "text": [
            "\r 88%|████████▊ | 329/376 [2:52:45<20:05, 25.65s/it]"
          ],
          "name": "stderr"
        },
        {
          "output_type": "stream",
          "text": [
            "104/104 [==============================] - 7s 38ms/step - loss: 0.0174\n"
          ],
          "name": "stdout"
        },
        {
          "output_type": "stream",
          "text": [
            "\r 88%|████████▊ | 330/376 [2:52:55<16:06, 21.01s/it]"
          ],
          "name": "stderr"
        },
        {
          "output_type": "stream",
          "text": [
            "567/567 [==============================] - 25s 39ms/step - loss: 0.0068\n"
          ],
          "name": "stdout"
        },
        {
          "output_type": "stream",
          "text": [
            "\r 88%|████████▊ | 331/376 [2:53:23<17:19, 23.10s/it]"
          ],
          "name": "stderr"
        },
        {
          "output_type": "stream",
          "text": [
            "567/567 [==============================] - 25s 39ms/step - loss: 0.0030\n"
          ],
          "name": "stdout"
        },
        {
          "output_type": "stream",
          "text": [
            "\r 88%|████████▊ | 332/376 [2:53:51<18:08, 24.75s/it]"
          ],
          "name": "stderr"
        },
        {
          "output_type": "stream",
          "text": [
            "567/567 [==============================] - 24s 38ms/step - loss: 0.0052\n"
          ],
          "name": "stdout"
        },
        {
          "output_type": "stream",
          "text": [
            "\r 89%|████████▊ | 333/376 [2:54:19<18:25, 25.72s/it]"
          ],
          "name": "stderr"
        },
        {
          "output_type": "stream",
          "text": [
            "567/567 [==============================] - 25s 39ms/step - loss: 0.0068\n"
          ],
          "name": "stdout"
        },
        {
          "output_type": "stream",
          "text": [
            "\r 89%|████████▉ | 334/376 [2:54:48<18:37, 26.62s/it]"
          ],
          "name": "stderr"
        },
        {
          "output_type": "stream",
          "text": [
            "279/279 [==============================] - 14s 39ms/step - loss: 0.0074\n"
          ],
          "name": "stdout"
        },
        {
          "output_type": "stream",
          "text": [
            "\r 89%|████████▉ | 335/376 [2:55:05<16:10, 23.66s/it]"
          ],
          "name": "stderr"
        },
        {
          "output_type": "stream",
          "text": [
            "567/567 [==============================] - 25s 39ms/step - loss: 0.0082\n"
          ],
          "name": "stdout"
        },
        {
          "output_type": "stream",
          "text": [
            "\r 89%|████████▉ | 336/376 [2:55:34<16:49, 25.24s/it]"
          ],
          "name": "stderr"
        },
        {
          "output_type": "stream",
          "text": [
            "567/567 [==============================] - 25s 39ms/step - loss: 0.0043\n"
          ],
          "name": "stdout"
        },
        {
          "output_type": "stream",
          "text": [
            "\r 90%|████████▉ | 337/376 [2:56:21<20:41, 31.83s/it]"
          ],
          "name": "stderr"
        },
        {
          "output_type": "stream",
          "text": [
            "347/347 [==============================] - 16s 39ms/step - loss: 0.0108\n"
          ],
          "name": "stdout"
        },
        {
          "output_type": "stream",
          "text": [
            "\r 90%|████████▉ | 338/376 [2:56:47<18:58, 29.97s/it]"
          ],
          "name": "stderr"
        },
        {
          "output_type": "stream",
          "text": [
            "80/80 [==============================] - 6s 38ms/step - loss: 0.0215\n"
          ],
          "name": "stdout"
        },
        {
          "output_type": "stream",
          "text": [
            "\r 90%|█████████ | 339/376 [2:56:57<14:54, 24.17s/it]"
          ],
          "name": "stderr"
        },
        {
          "output_type": "stream",
          "text": [
            "567/567 [==============================] - 24s 38ms/step - loss: 0.0069\n"
          ],
          "name": "stdout"
        },
        {
          "output_type": "stream",
          "text": [
            "\r 90%|█████████ | 340/376 [2:57:25<15:12, 25.35s/it]"
          ],
          "name": "stderr"
        },
        {
          "output_type": "stream",
          "text": [
            "170/170 [==============================] - 10s 39ms/step - loss: 0.0214\n"
          ],
          "name": "stdout"
        },
        {
          "output_type": "stream",
          "text": [
            "\r 91%|█████████ | 341/376 [2:57:38<12:33, 21.52s/it]"
          ],
          "name": "stderr"
        },
        {
          "output_type": "stream",
          "text": [
            "567/567 [==============================] - 25s 39ms/step - loss: 0.0086\n"
          ],
          "name": "stdout"
        },
        {
          "output_type": "stream",
          "text": [
            "\r 91%|█████████ | 342/376 [2:58:25<16:30, 29.14s/it]"
          ],
          "name": "stderr"
        },
        {
          "output_type": "stream",
          "text": [
            "567/567 [==============================] - 25s 38ms/step - loss: 0.0062\n"
          ],
          "name": "stdout"
        },
        {
          "output_type": "stream",
          "text": [
            "\r 91%|█████████ | 343/376 [2:58:53<15:51, 28.85s/it]"
          ],
          "name": "stderr"
        },
        {
          "output_type": "stream",
          "text": [
            "567/567 [==============================] - 24s 38ms/step - loss: 0.0053\n"
          ],
          "name": "stdout"
        },
        {
          "output_type": "stream",
          "text": [
            "\r 91%|█████████▏| 344/376 [2:59:40<18:17, 34.29s/it]"
          ],
          "name": "stderr"
        },
        {
          "output_type": "stream",
          "text": [
            "567/567 [==============================] - 25s 39ms/step - loss: 0.0089\n"
          ],
          "name": "stdout"
        },
        {
          "output_type": "stream",
          "text": [
            "\r 92%|█████████▏| 345/376 [3:00:09<16:53, 32.69s/it]"
          ],
          "name": "stderr"
        },
        {
          "output_type": "stream",
          "text": [
            "567/567 [==============================] - 25s 39ms/step - loss: 0.0072\n"
          ],
          "name": "stdout"
        },
        {
          "output_type": "stream",
          "text": [
            "\r 92%|█████████▏| 346/376 [3:00:38<15:45, 31.51s/it]"
          ],
          "name": "stderr"
        },
        {
          "output_type": "stream",
          "text": [
            "567/567 [==============================] - 25s 39ms/step - loss: 0.0088\n"
          ],
          "name": "stdout"
        },
        {
          "output_type": "stream",
          "text": [
            "\r 92%|█████████▏| 347/376 [3:01:07<14:52, 30.79s/it]"
          ],
          "name": "stderr"
        },
        {
          "output_type": "stream",
          "text": [
            "567/567 [==============================] - 25s 39ms/step - loss: 0.0076\n"
          ],
          "name": "stdout"
        },
        {
          "output_type": "stream",
          "text": [
            "\r 93%|█████████▎| 348/376 [3:01:35<13:59, 29.99s/it]"
          ],
          "name": "stderr"
        },
        {
          "output_type": "stream",
          "text": [
            "103/103 [==============================] - 7s 40ms/step - loss: 0.0035\n"
          ],
          "name": "stdout"
        },
        {
          "output_type": "stream",
          "text": [
            "\r 93%|█████████▎| 349/376 [3:01:45<10:50, 24.08s/it]"
          ],
          "name": "stderr"
        },
        {
          "output_type": "stream",
          "text": [
            "483/483 [==============================] - 21s 39ms/step - loss: 0.0100\n"
          ],
          "name": "stdout"
        },
        {
          "output_type": "stream",
          "text": [
            "\r 93%|█████████▎| 350/376 [3:02:10<10:27, 24.13s/it]"
          ],
          "name": "stderr"
        },
        {
          "output_type": "stream",
          "text": [
            "567/567 [==============================] - 24s 38ms/step - loss: 0.0055\n"
          ],
          "name": "stdout"
        },
        {
          "output_type": "stream",
          "text": [
            "\r 93%|█████████▎| 351/376 [3:02:37<10:25, 25.02s/it]"
          ],
          "name": "stderr"
        },
        {
          "output_type": "stream",
          "text": [
            "567/567 [==============================] - 25s 39ms/step - loss: 0.0087\n"
          ],
          "name": "stdout"
        },
        {
          "output_type": "stream",
          "text": [
            "\r 94%|█████████▎| 352/376 [3:03:06<10:30, 26.27s/it]"
          ],
          "name": "stderr"
        },
        {
          "output_type": "stream",
          "text": [
            "98/98 [==============================] - 6s 39ms/step - loss: 0.0322\n"
          ],
          "name": "stdout"
        },
        {
          "output_type": "stream",
          "text": [
            "\r 94%|█████████▍| 353/376 [3:03:15<08:07, 21.18s/it]"
          ],
          "name": "stderr"
        },
        {
          "output_type": "stream",
          "text": [
            "567/567 [==============================] - 25s 39ms/step - loss: 0.0055\n"
          ],
          "name": "stdout"
        },
        {
          "output_type": "stream",
          "text": [
            "\r 94%|█████████▍| 354/376 [3:03:44<08:37, 23.52s/it]"
          ],
          "name": "stderr"
        },
        {
          "output_type": "stream",
          "text": [
            "567/567 [==============================] - 24s 38ms/step - loss: 0.0039\n"
          ],
          "name": "stdout"
        },
        {
          "output_type": "stream",
          "text": [
            "\r 94%|█████████▍| 355/376 [3:04:12<08:43, 24.92s/it]"
          ],
          "name": "stderr"
        },
        {
          "output_type": "stream",
          "text": [
            "567/567 [==============================] - 25s 39ms/step - loss: 0.0053\n"
          ],
          "name": "stdout"
        },
        {
          "output_type": "stream",
          "text": [
            "\r 95%|█████████▍| 356/376 [3:04:41<08:41, 26.08s/it]"
          ],
          "name": "stderr"
        },
        {
          "output_type": "stream",
          "text": [
            "567/567 [==============================] - 24s 38ms/step - loss: 0.0076\n"
          ],
          "name": "stdout"
        },
        {
          "output_type": "stream",
          "text": [
            "\r 95%|█████████▍| 357/376 [3:05:09<08:26, 26.67s/it]"
          ],
          "name": "stderr"
        },
        {
          "output_type": "stream",
          "text": [
            "567/567 [==============================] - 25s 38ms/step - loss: 0.0082\n"
          ],
          "name": "stdout"
        },
        {
          "output_type": "stream",
          "text": [
            "\r 95%|█████████▌| 358/376 [3:05:57<09:53, 32.95s/it]"
          ],
          "name": "stderr"
        },
        {
          "output_type": "stream",
          "text": [
            "567/567 [==============================] - 24s 38ms/step - loss: 0.0043\n"
          ],
          "name": "stdout"
        },
        {
          "output_type": "stream",
          "text": [
            "\r 95%|█████████▌| 359/376 [3:06:25<08:56, 31.56s/it]"
          ],
          "name": "stderr"
        },
        {
          "output_type": "stream",
          "text": [
            "567/567 [==============================] - 25s 39ms/step - loss: 0.0069\n"
          ],
          "name": "stdout"
        },
        {
          "output_type": "stream",
          "text": [
            "\r 96%|█████████▌| 360/376 [3:06:54<08:11, 30.71s/it]"
          ],
          "name": "stderr"
        },
        {
          "output_type": "stream",
          "text": [
            "567/567 [==============================] - 24s 38ms/step - loss: 0.0047\n"
          ],
          "name": "stdout"
        },
        {
          "output_type": "stream",
          "text": [
            "\r 96%|█████████▌| 361/376 [3:07:22<07:27, 29.85s/it]"
          ],
          "name": "stderr"
        },
        {
          "output_type": "stream",
          "text": [
            "567/567 [==============================] - 25s 38ms/step - loss: 0.0060\n"
          ],
          "name": "stdout"
        },
        {
          "output_type": "stream",
          "text": [
            "\r 96%|█████████▋| 362/376 [3:07:50<06:51, 29.39s/it]"
          ],
          "name": "stderr"
        },
        {
          "output_type": "stream",
          "text": [
            "567/567 [==============================] - 24s 38ms/step - loss: 0.0043\n"
          ],
          "name": "stdout"
        },
        {
          "output_type": "stream",
          "text": [
            "\r 97%|█████████▋| 363/376 [3:08:17<06:14, 28.78s/it]"
          ],
          "name": "stderr"
        },
        {
          "output_type": "stream",
          "text": [
            "567/567 [==============================] - 24s 38ms/step - loss: 0.0063\n"
          ],
          "name": "stdout"
        },
        {
          "output_type": "stream",
          "text": [
            "\r 97%|█████████▋| 364/376 [3:08:46<05:43, 28.66s/it]"
          ],
          "name": "stderr"
        },
        {
          "output_type": "stream",
          "text": [
            "567/567 [==============================] - 24s 39ms/step - loss: 0.0062\n"
          ],
          "name": "stdout"
        },
        {
          "output_type": "stream",
          "text": [
            "\r 97%|█████████▋| 365/376 [3:09:14<05:13, 28.51s/it]"
          ],
          "name": "stderr"
        },
        {
          "output_type": "stream",
          "text": [
            "567/567 [==============================] - 25s 39ms/step - loss: 0.0051\n"
          ],
          "name": "stdout"
        },
        {
          "output_type": "stream",
          "text": [
            "\r 97%|█████████▋| 366/376 [3:09:43<04:45, 28.56s/it]"
          ],
          "name": "stderr"
        },
        {
          "output_type": "stream",
          "text": [
            "567/567 [==============================] - 25s 39ms/step - loss: 0.0061\n"
          ],
          "name": "stdout"
        },
        {
          "output_type": "stream",
          "text": [
            "\r 98%|█████████▊| 367/376 [3:10:11<04:16, 28.53s/it]"
          ],
          "name": "stderr"
        },
        {
          "output_type": "stream",
          "text": [
            "567/567 [==============================] - 24s 38ms/step - loss: 0.0035\n"
          ],
          "name": "stdout"
        },
        {
          "output_type": "stream",
          "text": [
            "\r 98%|█████████▊| 368/376 [3:10:38<03:45, 28.21s/it]"
          ],
          "name": "stderr"
        },
        {
          "output_type": "stream",
          "text": [
            "567/567 [==============================] - 25s 39ms/step - loss: 0.0047\n"
          ],
          "name": "stdout"
        },
        {
          "output_type": "stream",
          "text": [
            "\r 98%|█████████▊| 369/376 [3:11:07<03:17, 28.25s/it]"
          ],
          "name": "stderr"
        },
        {
          "output_type": "stream",
          "text": [
            "567/567 [==============================] - 24s 38ms/step - loss: 0.0054\n"
          ],
          "name": "stdout"
        },
        {
          "output_type": "stream",
          "text": [
            "\r 98%|█████████▊| 370/376 [3:11:35<02:49, 28.22s/it]"
          ],
          "name": "stderr"
        },
        {
          "output_type": "stream",
          "text": [
            "567/567 [==============================] - 25s 39ms/step - loss: 0.0048\n"
          ],
          "name": "stdout"
        },
        {
          "output_type": "stream",
          "text": [
            "\r 99%|█████████▊| 371/376 [3:12:23<02:50, 34.12s/it]"
          ],
          "name": "stderr"
        },
        {
          "output_type": "stream",
          "text": [
            "180/180 [==============================] - 10s 39ms/step - loss: 0.0209\n"
          ],
          "name": "stdout"
        },
        {
          "output_type": "stream",
          "text": [
            "\r 99%|█████████▉| 372/376 [3:12:35<01:50, 27.64s/it]"
          ],
          "name": "stderr"
        },
        {
          "output_type": "stream",
          "text": [
            "567/567 [==============================] - 25s 39ms/step - loss: 0.0075\n"
          ],
          "name": "stdout"
        },
        {
          "output_type": "stream",
          "text": [
            "\r 99%|█████████▉| 373/376 [3:13:04<01:23, 27.97s/it]"
          ],
          "name": "stderr"
        },
        {
          "output_type": "stream",
          "text": [
            "567/567 [==============================] - 24s 38ms/step - loss: 0.0081\n"
          ],
          "name": "stdout"
        },
        {
          "output_type": "stream",
          "text": [
            "\r 99%|█████████▉| 374/376 [3:13:51<01:07, 33.72s/it]"
          ],
          "name": "stderr"
        },
        {
          "output_type": "stream",
          "text": [
            "550/550 [==============================] - 25s 39ms/step - loss: 0.0065\n"
          ],
          "name": "stdout"
        },
        {
          "output_type": "stream",
          "text": [
            "\r100%|█████████▉| 375/376 [3:14:19<00:32, 32.00s/it]"
          ],
          "name": "stderr"
        },
        {
          "output_type": "stream",
          "text": [
            "567/567 [==============================] - 24s 38ms/step - loss: 0.0066\n"
          ],
          "name": "stdout"
        },
        {
          "output_type": "stream",
          "text": [
            "100%|██████████| 376/376 [3:14:47<00:00, 31.08s/it]\n"
          ],
          "name": "stderr"
        },
        {
          "output_type": "execute_result",
          "data": {
            "text/plain": [
              "10"
            ]
          },
          "metadata": {},
          "execution_count": 102
        }
      ]
    },
    {
      "cell_type": "code",
      "metadata": {
        "id": "WWad5mdjlLne",
        "colab": {
          "base_uri": "https://localhost:8080/",
          "height": 171
        },
        "outputId": "8188baf0-c491-46b9-f9f8-53d0e69c2cb5"
      },
      "source": [
        "predicted"
      ],
      "execution_count": null,
      "outputs": [
        {
          "output_type": "error",
          "ename": "NameError",
          "evalue": "ignored",
          "traceback": [
            "\u001b[0;31m---------------------------------------------------------------------------\u001b[0m",
            "\u001b[0;31mNameError\u001b[0m                                 Traceback (most recent call last)",
            "\u001b[0;32m<ipython-input-1-b5aaa8bb16df>\u001b[0m in \u001b[0;36m<module>\u001b[0;34m()\u001b[0m\n\u001b[0;32m----> 1\u001b[0;31m \u001b[0mpredicted\u001b[0m\u001b[0;34m\u001b[0m\u001b[0;34m\u001b[0m\u001b[0m\n\u001b[0m",
            "\u001b[0;31mNameError\u001b[0m: name 'predicted' is not defined"
          ]
        }
      ]
    },
    {
      "cell_type": "code",
      "metadata": {
        "id": "Jm0XZjini35_"
      },
      "source": [
        "sample_submission.to_csv('BASELINE_Linear.csv',index=False)"
      ],
      "execution_count": null,
      "outputs": []
    },
    {
      "cell_type": "code",
      "metadata": {
        "colab": {
          "base_uri": "https://localhost:8080/",
          "height": 576
        },
        "id": "E-uuAEqpViYu",
        "outputId": "32a0629f-c3d6-45a4-def4-b392769ab4bc"
      },
      "source": [
        "sample_submission"
      ],
      "execution_count": null,
      "outputs": [
        {
          "output_type": "execute_result",
          "data": {
            "text/html": [
              "<div>\n",
              "<style scoped>\n",
              "    .dataframe tbody tr th:only-of-type {\n",
              "        vertical-align: middle;\n",
              "    }\n",
              "\n",
              "    .dataframe tbody tr th {\n",
              "        vertical-align: top;\n",
              "    }\n",
              "\n",
              "    .dataframe thead th {\n",
              "        text-align: right;\n",
              "    }\n",
              "</style>\n",
              "<table border=\"1\" class=\"dataframe\">\n",
              "  <thead>\n",
              "    <tr style=\"text-align: right;\">\n",
              "      <th></th>\n",
              "      <th>Day</th>\n",
              "      <th>000060</th>\n",
              "      <th>000080</th>\n",
              "      <th>000100</th>\n",
              "      <th>000120</th>\n",
              "      <th>000150</th>\n",
              "      <th>000240</th>\n",
              "      <th>000250</th>\n",
              "      <th>000270</th>\n",
              "      <th>000660</th>\n",
              "      <th>000670</th>\n",
              "      <th>000720</th>\n",
              "      <th>000810</th>\n",
              "      <th>000880</th>\n",
              "      <th>000990</th>\n",
              "      <th>001230</th>\n",
              "      <th>001440</th>\n",
              "      <th>001450</th>\n",
              "      <th>001740</th>\n",
              "      <th>002380</th>\n",
              "      <th>002790</th>\n",
              "      <th>003000</th>\n",
              "      <th>003090</th>\n",
              "      <th>003380</th>\n",
              "      <th>003410</th>\n",
              "      <th>003490</th>\n",
              "      <th>003670</th>\n",
              "      <th>003800</th>\n",
              "      <th>004000</th>\n",
              "      <th>004020</th>\n",
              "      <th>004170</th>\n",
              "      <th>004370</th>\n",
              "      <th>004490</th>\n",
              "      <th>004800</th>\n",
              "      <th>004990</th>\n",
              "      <th>005250</th>\n",
              "      <th>005290</th>\n",
              "      <th>005300</th>\n",
              "      <th>005380</th>\n",
              "      <th>005385</th>\n",
              "      <th>...</th>\n",
              "      <th>278280</th>\n",
              "      <th>278530</th>\n",
              "      <th>282330</th>\n",
              "      <th>285130</th>\n",
              "      <th>287410</th>\n",
              "      <th>290510</th>\n",
              "      <th>290650</th>\n",
              "      <th>292150</th>\n",
              "      <th>293490</th>\n",
              "      <th>293780</th>\n",
              "      <th>294090</th>\n",
              "      <th>294870</th>\n",
              "      <th>298000</th>\n",
              "      <th>298020</th>\n",
              "      <th>298050</th>\n",
              "      <th>298380</th>\n",
              "      <th>298540</th>\n",
              "      <th>299030</th>\n",
              "      <th>299660</th>\n",
              "      <th>299900</th>\n",
              "      <th>307950</th>\n",
              "      <th>314130</th>\n",
              "      <th>316140</th>\n",
              "      <th>319400</th>\n",
              "      <th>319660</th>\n",
              "      <th>321550</th>\n",
              "      <th>323990</th>\n",
              "      <th>326030</th>\n",
              "      <th>330590</th>\n",
              "      <th>330860</th>\n",
              "      <th>336260</th>\n",
              "      <th>336370</th>\n",
              "      <th>347860</th>\n",
              "      <th>348150</th>\n",
              "      <th>348210</th>\n",
              "      <th>352820</th>\n",
              "      <th>357780</th>\n",
              "      <th>363280</th>\n",
              "      <th>950130</th>\n",
              "      <th>000020</th>\n",
              "    </tr>\n",
              "  </thead>\n",
              "  <tbody>\n",
              "    <tr>\n",
              "      <th>0</th>\n",
              "      <td>2021-08-09</td>\n",
              "      <td>21769.189453</td>\n",
              "      <td>35207.996094</td>\n",
              "      <td>61628.367188</td>\n",
              "      <td>179946.750000</td>\n",
              "      <td>115402.859375</td>\n",
              "      <td>18570.853516</td>\n",
              "      <td>52707.390625</td>\n",
              "      <td>87135.609375</td>\n",
              "      <td>118957.335938</td>\n",
              "      <td>673617.0625</td>\n",
              "      <td>56368.312500</td>\n",
              "      <td>217534.734375</td>\n",
              "      <td>30382.140625</td>\n",
              "      <td>64943.519531</td>\n",
              "      <td>20480.722656</td>\n",
              "      <td>2609.098877</td>\n",
              "      <td>25156.560547</td>\n",
              "      <td>6085.913574</td>\n",
              "      <td>305956.43750</td>\n",
              "      <td>61770.035156</td>\n",
              "      <td>20765.500000</td>\n",
              "      <td>35415.128906</td>\n",
              "      <td>9848.725586</td>\n",
              "      <td>8036.996094</td>\n",
              "      <td>30775.724609</td>\n",
              "      <td>158319.109375</td>\n",
              "      <td>48538.503906</td>\n",
              "      <td>71237.585938</td>\n",
              "      <td>51943.679688</td>\n",
              "      <td>275929.09375</td>\n",
              "      <td>323901.46875</td>\n",
              "      <td>92334.015625</td>\n",
              "      <td>117814.226562</td>\n",
              "      <td>38672.855469</td>\n",
              "      <td>33552.261719</td>\n",
              "      <td>28944.558594</td>\n",
              "      <td>139849.546875</td>\n",
              "      <td>226264.046875</td>\n",
              "      <td>112207.750000</td>\n",
              "      <td>...</td>\n",
              "      <td>233036.906250</td>\n",
              "      <td>14153.069336</td>\n",
              "      <td>168541.468750</td>\n",
              "      <td>251270.250000</td>\n",
              "      <td>6792.691406</td>\n",
              "      <td>8685.855469</td>\n",
              "      <td>33622.804688</td>\n",
              "      <td>14940.499023</td>\n",
              "      <td>82416.804688</td>\n",
              "      <td>67180.523438</td>\n",
              "      <td>61006.828125</td>\n",
              "      <td>31389.242188</td>\n",
              "      <td>406964.75000</td>\n",
              "      <td>880612.5000</td>\n",
              "      <td>594894.0000</td>\n",
              "      <td>20690.218750</td>\n",
              "      <td>33476.578125</td>\n",
              "      <td>69133.203125</td>\n",
              "      <td>132663.906250</td>\n",
              "      <td>17868.373047</td>\n",
              "      <td>129461.257812</td>\n",
              "      <td>38785.609375</td>\n",
              "      <td>11354.521484</td>\n",
              "      <td>5069.663574</td>\n",
              "      <td>42043.750000</td>\n",
              "      <td>23122.130859</td>\n",
              "      <td>86916.523438</td>\n",
              "      <td>125930.523438</td>\n",
              "      <td>5884.028809</td>\n",
              "      <td>46470.324219</td>\n",
              "      <td>50142.300781</td>\n",
              "      <td>58529.050781</td>\n",
              "      <td>47942.035156</td>\n",
              "      <td>32217.162109</td>\n",
              "      <td>64452.128906</td>\n",
              "      <td>301922.37500</td>\n",
              "      <td>332395.78125</td>\n",
              "      <td>31121.041016</td>\n",
              "      <td>27460.978516</td>\n",
              "      <td>NaN</td>\n",
              "    </tr>\n",
              "    <tr>\n",
              "      <th>1</th>\n",
              "      <td>2021-08-10</td>\n",
              "      <td>21972.640625</td>\n",
              "      <td>35134.656250</td>\n",
              "      <td>61533.179688</td>\n",
              "      <td>179838.031250</td>\n",
              "      <td>114129.054688</td>\n",
              "      <td>18498.162109</td>\n",
              "      <td>52509.101562</td>\n",
              "      <td>86988.179688</td>\n",
              "      <td>118561.781250</td>\n",
              "      <td>679678.7500</td>\n",
              "      <td>55839.738281</td>\n",
              "      <td>217290.359375</td>\n",
              "      <td>30339.523438</td>\n",
              "      <td>64990.050781</td>\n",
              "      <td>20520.931641</td>\n",
              "      <td>2583.129150</td>\n",
              "      <td>25144.470703</td>\n",
              "      <td>6093.976074</td>\n",
              "      <td>307817.56250</td>\n",
              "      <td>61563.144531</td>\n",
              "      <td>20727.818359</td>\n",
              "      <td>35441.546875</td>\n",
              "      <td>9804.652344</td>\n",
              "      <td>8028.366699</td>\n",
              "      <td>30690.417969</td>\n",
              "      <td>157796.453125</td>\n",
              "      <td>48701.878906</td>\n",
              "      <td>71496.539062</td>\n",
              "      <td>51925.218750</td>\n",
              "      <td>274998.43750</td>\n",
              "      <td>323455.53125</td>\n",
              "      <td>92061.171875</td>\n",
              "      <td>118153.484375</td>\n",
              "      <td>38555.144531</td>\n",
              "      <td>33445.769531</td>\n",
              "      <td>29118.076172</td>\n",
              "      <td>139451.812500</td>\n",
              "      <td>225706.203125</td>\n",
              "      <td>111825.968750</td>\n",
              "      <td>...</td>\n",
              "      <td>232992.296875</td>\n",
              "      <td>14135.000000</td>\n",
              "      <td>168147.578125</td>\n",
              "      <td>250896.671875</td>\n",
              "      <td>6811.520020</td>\n",
              "      <td>8652.782227</td>\n",
              "      <td>33659.703125</td>\n",
              "      <td>14920.958008</td>\n",
              "      <td>83939.281250</td>\n",
              "      <td>68465.679688</td>\n",
              "      <td>61143.375000</td>\n",
              "      <td>31240.984375</td>\n",
              "      <td>407823.21875</td>\n",
              "      <td>878550.5625</td>\n",
              "      <td>603438.9375</td>\n",
              "      <td>20627.019531</td>\n",
              "      <td>33316.953125</td>\n",
              "      <td>69117.593750</td>\n",
              "      <td>131093.750000</td>\n",
              "      <td>18089.587891</td>\n",
              "      <td>129019.953125</td>\n",
              "      <td>38845.183594</td>\n",
              "      <td>11319.886719</td>\n",
              "      <td>5045.741699</td>\n",
              "      <td>42183.050781</td>\n",
              "      <td>23112.044922</td>\n",
              "      <td>86710.296875</td>\n",
              "      <td>124993.968750</td>\n",
              "      <td>5883.629395</td>\n",
              "      <td>46412.769531</td>\n",
              "      <td>50215.582031</td>\n",
              "      <td>58649.003906</td>\n",
              "      <td>49408.714844</td>\n",
              "      <td>32199.648438</td>\n",
              "      <td>64348.964844</td>\n",
              "      <td>301447.28125</td>\n",
              "      <td>334922.59375</td>\n",
              "      <td>31258.187500</td>\n",
              "      <td>27115.597656</td>\n",
              "      <td>NaN</td>\n",
              "    </tr>\n",
              "    <tr>\n",
              "      <th>2</th>\n",
              "      <td>2021-08-11</td>\n",
              "      <td>22202.455078</td>\n",
              "      <td>35053.261719</td>\n",
              "      <td>61483.882812</td>\n",
              "      <td>179823.171875</td>\n",
              "      <td>112835.500000</td>\n",
              "      <td>18431.322266</td>\n",
              "      <td>52318.757812</td>\n",
              "      <td>86857.968750</td>\n",
              "      <td>118118.453125</td>\n",
              "      <td>683933.3750</td>\n",
              "      <td>55346.515625</td>\n",
              "      <td>216941.640625</td>\n",
              "      <td>30301.335938</td>\n",
              "      <td>64895.531250</td>\n",
              "      <td>20610.015625</td>\n",
              "      <td>2565.627930</td>\n",
              "      <td>25126.267578</td>\n",
              "      <td>6101.158203</td>\n",
              "      <td>309153.34375</td>\n",
              "      <td>61344.273438</td>\n",
              "      <td>20688.253906</td>\n",
              "      <td>35442.652344</td>\n",
              "      <td>9785.865234</td>\n",
              "      <td>8020.478516</td>\n",
              "      <td>30637.474609</td>\n",
              "      <td>157068.859375</td>\n",
              "      <td>48852.269531</td>\n",
              "      <td>71698.968750</td>\n",
              "      <td>52027.953125</td>\n",
              "      <td>274179.87500</td>\n",
              "      <td>322827.62500</td>\n",
              "      <td>91790.843750</td>\n",
              "      <td>118294.734375</td>\n",
              "      <td>38417.929688</td>\n",
              "      <td>33299.453125</td>\n",
              "      <td>29225.087891</td>\n",
              "      <td>138829.093750</td>\n",
              "      <td>225178.703125</td>\n",
              "      <td>111396.343750</td>\n",
              "      <td>...</td>\n",
              "      <td>232535.062500</td>\n",
              "      <td>14117.951172</td>\n",
              "      <td>167445.500000</td>\n",
              "      <td>250388.218750</td>\n",
              "      <td>6838.418945</td>\n",
              "      <td>8624.471680</td>\n",
              "      <td>33724.871094</td>\n",
              "      <td>14904.386719</td>\n",
              "      <td>85250.382812</td>\n",
              "      <td>69478.000000</td>\n",
              "      <td>61276.406250</td>\n",
              "      <td>31114.978516</td>\n",
              "      <td>408454.50000</td>\n",
              "      <td>877101.7500</td>\n",
              "      <td>609967.7500</td>\n",
              "      <td>20593.197266</td>\n",
              "      <td>33180.238281</td>\n",
              "      <td>69135.226562</td>\n",
              "      <td>129572.007812</td>\n",
              "      <td>18257.810547</td>\n",
              "      <td>128513.507812</td>\n",
              "      <td>38824.246094</td>\n",
              "      <td>11280.125000</td>\n",
              "      <td>5033.932617</td>\n",
              "      <td>42364.371094</td>\n",
              "      <td>23030.337891</td>\n",
              "      <td>86439.531250</td>\n",
              "      <td>124149.921875</td>\n",
              "      <td>5885.820801</td>\n",
              "      <td>46397.601562</td>\n",
              "      <td>50206.218750</td>\n",
              "      <td>58737.429688</td>\n",
              "      <td>50036.394531</td>\n",
              "      <td>32164.966797</td>\n",
              "      <td>64270.496094</td>\n",
              "      <td>300869.28125</td>\n",
              "      <td>336998.12500</td>\n",
              "      <td>31373.099609</td>\n",
              "      <td>26987.236328</td>\n",
              "      <td>NaN</td>\n",
              "    </tr>\n",
              "    <tr>\n",
              "      <th>3</th>\n",
              "      <td>2021-08-12</td>\n",
              "      <td>22475.162109</td>\n",
              "      <td>34966.523438</td>\n",
              "      <td>61467.839844</td>\n",
              "      <td>179666.406250</td>\n",
              "      <td>111578.781250</td>\n",
              "      <td>18365.187500</td>\n",
              "      <td>52111.976562</td>\n",
              "      <td>86725.421875</td>\n",
              "      <td>117572.585938</td>\n",
              "      <td>686811.3125</td>\n",
              "      <td>55000.292969</td>\n",
              "      <td>216652.859375</td>\n",
              "      <td>30268.515625</td>\n",
              "      <td>64601.859375</td>\n",
              "      <td>20722.767578</td>\n",
              "      <td>2551.082520</td>\n",
              "      <td>25166.181641</td>\n",
              "      <td>6108.637207</td>\n",
              "      <td>310836.96875</td>\n",
              "      <td>61200.878906</td>\n",
              "      <td>20641.601562</td>\n",
              "      <td>35506.636719</td>\n",
              "      <td>9772.728516</td>\n",
              "      <td>8016.321289</td>\n",
              "      <td>30589.271484</td>\n",
              "      <td>156323.734375</td>\n",
              "      <td>48980.386719</td>\n",
              "      <td>71719.273438</td>\n",
              "      <td>52243.640625</td>\n",
              "      <td>273406.09375</td>\n",
              "      <td>322303.06250</td>\n",
              "      <td>91486.734375</td>\n",
              "      <td>118475.437500</td>\n",
              "      <td>38290.265625</td>\n",
              "      <td>33084.550781</td>\n",
              "      <td>29322.128906</td>\n",
              "      <td>138194.281250</td>\n",
              "      <td>224495.078125</td>\n",
              "      <td>110853.640625</td>\n",
              "      <td>...</td>\n",
              "      <td>231536.921875</td>\n",
              "      <td>14105.495117</td>\n",
              "      <td>166732.890625</td>\n",
              "      <td>249660.421875</td>\n",
              "      <td>6853.387207</td>\n",
              "      <td>8592.568359</td>\n",
              "      <td>33724.179688</td>\n",
              "      <td>14885.880859</td>\n",
              "      <td>86141.093750</td>\n",
              "      <td>70225.125000</td>\n",
              "      <td>61344.464844</td>\n",
              "      <td>31004.429688</td>\n",
              "      <td>408318.03125</td>\n",
              "      <td>876596.2500</td>\n",
              "      <td>614991.7500</td>\n",
              "      <td>20529.474609</td>\n",
              "      <td>33030.542969</td>\n",
              "      <td>69130.507812</td>\n",
              "      <td>127672.148438</td>\n",
              "      <td>18337.662109</td>\n",
              "      <td>128309.226562</td>\n",
              "      <td>38732.792969</td>\n",
              "      <td>11240.383789</td>\n",
              "      <td>5056.130371</td>\n",
              "      <td>42521.320312</td>\n",
              "      <td>22974.732422</td>\n",
              "      <td>86101.187500</td>\n",
              "      <td>123279.937500</td>\n",
              "      <td>5889.272949</td>\n",
              "      <td>46408.445312</td>\n",
              "      <td>50145.269531</td>\n",
              "      <td>58736.511719</td>\n",
              "      <td>50167.285156</td>\n",
              "      <td>32115.001953</td>\n",
              "      <td>64198.984375</td>\n",
              "      <td>300269.34375</td>\n",
              "      <td>338445.65625</td>\n",
              "      <td>31449.544922</td>\n",
              "      <td>27129.119141</td>\n",
              "      <td>NaN</td>\n",
              "    </tr>\n",
              "    <tr>\n",
              "      <th>4</th>\n",
              "      <td>2021-08-13</td>\n",
              "      <td>22867.271484</td>\n",
              "      <td>34889.199219</td>\n",
              "      <td>61535.925781</td>\n",
              "      <td>179354.671875</td>\n",
              "      <td>110362.468750</td>\n",
              "      <td>18310.232422</td>\n",
              "      <td>52431.875000</td>\n",
              "      <td>86614.296875</td>\n",
              "      <td>116995.843750</td>\n",
              "      <td>688563.8125</td>\n",
              "      <td>54717.394531</td>\n",
              "      <td>216462.359375</td>\n",
              "      <td>30244.718750</td>\n",
              "      <td>64183.800781</td>\n",
              "      <td>20802.167969</td>\n",
              "      <td>2540.485596</td>\n",
              "      <td>25228.126953</td>\n",
              "      <td>6109.765137</td>\n",
              "      <td>315247.87500</td>\n",
              "      <td>60829.867188</td>\n",
              "      <td>20630.205078</td>\n",
              "      <td>35684.515625</td>\n",
              "      <td>9783.432617</td>\n",
              "      <td>8014.816895</td>\n",
              "      <td>30547.937500</td>\n",
              "      <td>155808.734375</td>\n",
              "      <td>49053.343750</td>\n",
              "      <td>71708.578125</td>\n",
              "      <td>52473.484375</td>\n",
              "      <td>272746.09375</td>\n",
              "      <td>322252.62500</td>\n",
              "      <td>91154.093750</td>\n",
              "      <td>119080.078125</td>\n",
              "      <td>38202.335938</td>\n",
              "      <td>32852.878906</td>\n",
              "      <td>29432.416016</td>\n",
              "      <td>138303.109375</td>\n",
              "      <td>223754.046875</td>\n",
              "      <td>110286.109375</td>\n",
              "      <td>...</td>\n",
              "      <td>230533.578125</td>\n",
              "      <td>14096.399414</td>\n",
              "      <td>166149.359375</td>\n",
              "      <td>248700.953125</td>\n",
              "      <td>6861.218262</td>\n",
              "      <td>8561.149414</td>\n",
              "      <td>33689.367188</td>\n",
              "      <td>14867.960938</td>\n",
              "      <td>86681.593750</td>\n",
              "      <td>71486.984375</td>\n",
              "      <td>61334.226562</td>\n",
              "      <td>30933.142578</td>\n",
              "      <td>408358.68750</td>\n",
              "      <td>878193.3750</td>\n",
              "      <td>620976.0625</td>\n",
              "      <td>20469.644531</td>\n",
              "      <td>33032.117188</td>\n",
              "      <td>69136.718750</td>\n",
              "      <td>125594.718750</td>\n",
              "      <td>18322.218750</td>\n",
              "      <td>128512.859375</td>\n",
              "      <td>38590.011719</td>\n",
              "      <td>11199.409180</td>\n",
              "      <td>5089.675781</td>\n",
              "      <td>42657.230469</td>\n",
              "      <td>22959.097656</td>\n",
              "      <td>85753.562500</td>\n",
              "      <td>122493.195312</td>\n",
              "      <td>5894.236328</td>\n",
              "      <td>46462.886719</td>\n",
              "      <td>50113.445312</td>\n",
              "      <td>58938.425781</td>\n",
              "      <td>49806.867188</td>\n",
              "      <td>32057.773438</td>\n",
              "      <td>64129.246094</td>\n",
              "      <td>299624.87500</td>\n",
              "      <td>339527.09375</td>\n",
              "      <td>31492.423828</td>\n",
              "      <td>27363.195312</td>\n",
              "      <td>NaN</td>\n",
              "    </tr>\n",
              "    <tr>\n",
              "      <th>5</th>\n",
              "      <td>2021-08-30</td>\n",
              "      <td>23338.119141</td>\n",
              "      <td>34819.835938</td>\n",
              "      <td>61583.640625</td>\n",
              "      <td>178548.343750</td>\n",
              "      <td>109079.054688</td>\n",
              "      <td>18249.136719</td>\n",
              "      <td>53027.281250</td>\n",
              "      <td>86340.398438</td>\n",
              "      <td>116362.429688</td>\n",
              "      <td>688819.8125</td>\n",
              "      <td>54484.730469</td>\n",
              "      <td>216151.953125</td>\n",
              "      <td>30208.478516</td>\n",
              "      <td>63705.644531</td>\n",
              "      <td>20891.050781</td>\n",
              "      <td>2531.879395</td>\n",
              "      <td>25340.513672</td>\n",
              "      <td>6110.525391</td>\n",
              "      <td>320788.81250</td>\n",
              "      <td>60374.960938</td>\n",
              "      <td>20633.632812</td>\n",
              "      <td>35891.492188</td>\n",
              "      <td>9791.048828</td>\n",
              "      <td>8010.388672</td>\n",
              "      <td>30495.462891</td>\n",
              "      <td>155343.968750</td>\n",
              "      <td>49092.761719</td>\n",
              "      <td>71614.132812</td>\n",
              "      <td>52736.105469</td>\n",
              "      <td>271630.78125</td>\n",
              "      <td>322769.56250</td>\n",
              "      <td>90637.710938</td>\n",
              "      <td>119650.093750</td>\n",
              "      <td>38107.613281</td>\n",
              "      <td>32619.464844</td>\n",
              "      <td>29493.171875</td>\n",
              "      <td>138937.359375</td>\n",
              "      <td>222703.812500</td>\n",
              "      <td>109597.054688</td>\n",
              "      <td>...</td>\n",
              "      <td>229782.046875</td>\n",
              "      <td>14078.431641</td>\n",
              "      <td>165489.609375</td>\n",
              "      <td>247337.437500</td>\n",
              "      <td>6883.978516</td>\n",
              "      <td>8517.458008</td>\n",
              "      <td>33662.156250</td>\n",
              "      <td>14841.080078</td>\n",
              "      <td>86651.203125</td>\n",
              "      <td>72466.976562</td>\n",
              "      <td>61222.210938</td>\n",
              "      <td>30881.695312</td>\n",
              "      <td>407458.37500</td>\n",
              "      <td>879483.4375</td>\n",
              "      <td>625580.3750</td>\n",
              "      <td>20408.939453</td>\n",
              "      <td>33117.550781</td>\n",
              "      <td>69121.718750</td>\n",
              "      <td>123022.257812</td>\n",
              "      <td>18153.728516</td>\n",
              "      <td>128830.843750</td>\n",
              "      <td>38373.949219</td>\n",
              "      <td>11141.145508</td>\n",
              "      <td>5117.122070</td>\n",
              "      <td>42745.425781</td>\n",
              "      <td>22881.599609</td>\n",
              "      <td>85441.929688</td>\n",
              "      <td>121710.117188</td>\n",
              "      <td>5899.636719</td>\n",
              "      <td>46501.660156</td>\n",
              "      <td>50053.250000</td>\n",
              "      <td>59161.429688</td>\n",
              "      <td>49120.542969</td>\n",
              "      <td>31985.916016</td>\n",
              "      <td>64049.398438</td>\n",
              "      <td>298749.87500</td>\n",
              "      <td>340159.03125</td>\n",
              "      <td>31492.011719</td>\n",
              "      <td>27738.794922</td>\n",
              "      <td>NaN</td>\n",
              "    </tr>\n",
              "    <tr>\n",
              "      <th>6</th>\n",
              "      <td>2021-08-31</td>\n",
              "      <td>23659.841797</td>\n",
              "      <td>34724.089844</td>\n",
              "      <td>61646.683594</td>\n",
              "      <td>177678.218750</td>\n",
              "      <td>107735.539062</td>\n",
              "      <td>18194.908203</td>\n",
              "      <td>54713.292969</td>\n",
              "      <td>86063.890625</td>\n",
              "      <td>115904.945312</td>\n",
              "      <td>688082.9375</td>\n",
              "      <td>54276.535156</td>\n",
              "      <td>216004.921875</td>\n",
              "      <td>30172.984375</td>\n",
              "      <td>63499.292969</td>\n",
              "      <td>20926.146484</td>\n",
              "      <td>2521.734375</td>\n",
              "      <td>25457.255859</td>\n",
              "      <td>6106.761230</td>\n",
              "      <td>325903.18750</td>\n",
              "      <td>59997.003906</td>\n",
              "      <td>20659.753906</td>\n",
              "      <td>36146.718750</td>\n",
              "      <td>9787.651367</td>\n",
              "      <td>8001.664062</td>\n",
              "      <td>30418.177734</td>\n",
              "      <td>154944.171875</td>\n",
              "      <td>49104.835938</td>\n",
              "      <td>71244.539062</td>\n",
              "      <td>52963.160156</td>\n",
              "      <td>270498.15625</td>\n",
              "      <td>323636.90625</td>\n",
              "      <td>90139.781250</td>\n",
              "      <td>119792.460938</td>\n",
              "      <td>38032.464844</td>\n",
              "      <td>32404.947266</td>\n",
              "      <td>29546.748047</td>\n",
              "      <td>139697.437500</td>\n",
              "      <td>221766.796875</td>\n",
              "      <td>108890.156250</td>\n",
              "      <td>...</td>\n",
              "      <td>228992.015625</td>\n",
              "      <td>14063.799805</td>\n",
              "      <td>165235.171875</td>\n",
              "      <td>246605.015625</td>\n",
              "      <td>7034.317383</td>\n",
              "      <td>8465.283203</td>\n",
              "      <td>33697.539062</td>\n",
              "      <td>14823.700195</td>\n",
              "      <td>86106.054688</td>\n",
              "      <td>73230.835938</td>\n",
              "      <td>61047.425781</td>\n",
              "      <td>30815.525391</td>\n",
              "      <td>404964.28125</td>\n",
              "      <td>879437.5625</td>\n",
              "      <td>627547.2500</td>\n",
              "      <td>20372.972656</td>\n",
              "      <td>33253.015625</td>\n",
              "      <td>69038.375000</td>\n",
              "      <td>120900.921875</td>\n",
              "      <td>17901.638672</td>\n",
              "      <td>128990.914062</td>\n",
              "      <td>38114.867188</td>\n",
              "      <td>11079.934570</td>\n",
              "      <td>5125.285156</td>\n",
              "      <td>42783.019531</td>\n",
              "      <td>22723.878906</td>\n",
              "      <td>85165.484375</td>\n",
              "      <td>121324.695312</td>\n",
              "      <td>5900.902832</td>\n",
              "      <td>46631.937500</td>\n",
              "      <td>49993.324219</td>\n",
              "      <td>59422.910156</td>\n",
              "      <td>48210.425781</td>\n",
              "      <td>31902.156250</td>\n",
              "      <td>63964.460938</td>\n",
              "      <td>297910.68750</td>\n",
              "      <td>340536.00000</td>\n",
              "      <td>31454.564453</td>\n",
              "      <td>28112.982422</td>\n",
              "      <td>NaN</td>\n",
              "    </tr>\n",
              "    <tr>\n",
              "      <th>7</th>\n",
              "      <td>2021-09-01</td>\n",
              "      <td>23886.505859</td>\n",
              "      <td>34603.085938</td>\n",
              "      <td>61691.757812</td>\n",
              "      <td>176693.656250</td>\n",
              "      <td>106215.890625</td>\n",
              "      <td>18149.517578</td>\n",
              "      <td>56070.476562</td>\n",
              "      <td>85875.492188</td>\n",
              "      <td>115790.515625</td>\n",
              "      <td>686199.8750</td>\n",
              "      <td>54140.800781</td>\n",
              "      <td>216137.093750</td>\n",
              "      <td>30130.689453</td>\n",
              "      <td>63605.851562</td>\n",
              "      <td>20867.009766</td>\n",
              "      <td>2504.076172</td>\n",
              "      <td>25552.339844</td>\n",
              "      <td>6066.494629</td>\n",
              "      <td>329044.81250</td>\n",
              "      <td>59626.789062</td>\n",
              "      <td>20771.291016</td>\n",
              "      <td>36363.832031</td>\n",
              "      <td>9780.533203</td>\n",
              "      <td>7986.674805</td>\n",
              "      <td>30338.082031</td>\n",
              "      <td>154535.515625</td>\n",
              "      <td>49101.234375</td>\n",
              "      <td>70848.937500</td>\n",
              "      <td>52996.375000</td>\n",
              "      <td>269588.53125</td>\n",
              "      <td>324052.53125</td>\n",
              "      <td>89666.703125</td>\n",
              "      <td>119531.203125</td>\n",
              "      <td>37939.156250</td>\n",
              "      <td>32200.761719</td>\n",
              "      <td>29608.158203</td>\n",
              "      <td>140388.953125</td>\n",
              "      <td>221275.421875</td>\n",
              "      <td>108402.132812</td>\n",
              "      <td>...</td>\n",
              "      <td>228686.562500</td>\n",
              "      <td>14057.294922</td>\n",
              "      <td>165300.140625</td>\n",
              "      <td>246879.312500</td>\n",
              "      <td>7288.524414</td>\n",
              "      <td>8411.704102</td>\n",
              "      <td>33775.078125</td>\n",
              "      <td>14817.100586</td>\n",
              "      <td>85093.437500</td>\n",
              "      <td>73608.507812</td>\n",
              "      <td>60803.195312</td>\n",
              "      <td>30710.195312</td>\n",
              "      <td>401381.09375</td>\n",
              "      <td>878716.5625</td>\n",
              "      <td>627859.4375</td>\n",
              "      <td>20333.464844</td>\n",
              "      <td>33307.085938</td>\n",
              "      <td>68895.914062</td>\n",
              "      <td>118783.890625</td>\n",
              "      <td>17651.998047</td>\n",
              "      <td>129420.171875</td>\n",
              "      <td>37834.789062</td>\n",
              "      <td>11033.377930</td>\n",
              "      <td>5118.613770</td>\n",
              "      <td>42868.347656</td>\n",
              "      <td>22505.568359</td>\n",
              "      <td>84896.273438</td>\n",
              "      <td>121211.593750</td>\n",
              "      <td>5898.052246</td>\n",
              "      <td>46820.933594</td>\n",
              "      <td>49904.074219</td>\n",
              "      <td>59693.222656</td>\n",
              "      <td>47283.250000</td>\n",
              "      <td>31816.400391</td>\n",
              "      <td>63883.894531</td>\n",
              "      <td>297047.37500</td>\n",
              "      <td>340970.28125</td>\n",
              "      <td>31355.902344</td>\n",
              "      <td>28311.392578</td>\n",
              "      <td>NaN</td>\n",
              "    </tr>\n",
              "    <tr>\n",
              "      <th>8</th>\n",
              "      <td>2021-09-02</td>\n",
              "      <td>24168.427734</td>\n",
              "      <td>34524.312500</td>\n",
              "      <td>61738.050781</td>\n",
              "      <td>175930.406250</td>\n",
              "      <td>105098.453125</td>\n",
              "      <td>18130.474609</td>\n",
              "      <td>56928.988281</td>\n",
              "      <td>85833.007812</td>\n",
              "      <td>115961.382812</td>\n",
              "      <td>685222.0625</td>\n",
              "      <td>54039.382812</td>\n",
              "      <td>216356.062500</td>\n",
              "      <td>30132.857422</td>\n",
              "      <td>63934.601562</td>\n",
              "      <td>20793.958984</td>\n",
              "      <td>2494.717773</td>\n",
              "      <td>25662.492188</td>\n",
              "      <td>6018.620605</td>\n",
              "      <td>331585.87500</td>\n",
              "      <td>59470.082031</td>\n",
              "      <td>20882.140625</td>\n",
              "      <td>36713.621094</td>\n",
              "      <td>9783.507812</td>\n",
              "      <td>7978.005371</td>\n",
              "      <td>30369.660156</td>\n",
              "      <td>154264.796875</td>\n",
              "      <td>49037.230469</td>\n",
              "      <td>70588.617188</td>\n",
              "      <td>52959.652344</td>\n",
              "      <td>269383.12500</td>\n",
              "      <td>323993.03125</td>\n",
              "      <td>89358.593750</td>\n",
              "      <td>119106.398438</td>\n",
              "      <td>37942.714844</td>\n",
              "      <td>32094.716797</td>\n",
              "      <td>29649.843750</td>\n",
              "      <td>141016.812500</td>\n",
              "      <td>221199.453125</td>\n",
              "      <td>108119.804688</td>\n",
              "      <td>...</td>\n",
              "      <td>228256.609375</td>\n",
              "      <td>14068.660156</td>\n",
              "      <td>165921.968750</td>\n",
              "      <td>247939.062500</td>\n",
              "      <td>7564.769043</td>\n",
              "      <td>8373.246094</td>\n",
              "      <td>33886.421875</td>\n",
              "      <td>14830.664062</td>\n",
              "      <td>83889.023438</td>\n",
              "      <td>74025.937500</td>\n",
              "      <td>60545.468750</td>\n",
              "      <td>30606.294922</td>\n",
              "      <td>397376.31250</td>\n",
              "      <td>877776.1250</td>\n",
              "      <td>626654.6875</td>\n",
              "      <td>20359.458984</td>\n",
              "      <td>33349.105469</td>\n",
              "      <td>68736.171875</td>\n",
              "      <td>117052.851562</td>\n",
              "      <td>17511.261719</td>\n",
              "      <td>129981.195312</td>\n",
              "      <td>37586.863281</td>\n",
              "      <td>11025.475586</td>\n",
              "      <td>5106.831055</td>\n",
              "      <td>43071.246094</td>\n",
              "      <td>22287.171875</td>\n",
              "      <td>84656.156250</td>\n",
              "      <td>121255.195312</td>\n",
              "      <td>5890.315430</td>\n",
              "      <td>47015.414062</td>\n",
              "      <td>49824.179688</td>\n",
              "      <td>59940.593750</td>\n",
              "      <td>46454.625000</td>\n",
              "      <td>31746.974609</td>\n",
              "      <td>63812.144531</td>\n",
              "      <td>296328.87500</td>\n",
              "      <td>341192.40625</td>\n",
              "      <td>31245.419922</td>\n",
              "      <td>28525.878906</td>\n",
              "      <td>NaN</td>\n",
              "    </tr>\n",
              "    <tr>\n",
              "      <th>9</th>\n",
              "      <td>2021-09-03</td>\n",
              "      <td>24471.972656</td>\n",
              "      <td>34499.570312</td>\n",
              "      <td>61797.300781</td>\n",
              "      <td>176057.703125</td>\n",
              "      <td>104179.015625</td>\n",
              "      <td>18140.755859</td>\n",
              "      <td>57350.738281</td>\n",
              "      <td>85794.328125</td>\n",
              "      <td>116258.640625</td>\n",
              "      <td>685505.7500</td>\n",
              "      <td>53917.511719</td>\n",
              "      <td>216610.703125</td>\n",
              "      <td>30155.117188</td>\n",
              "      <td>64333.414062</td>\n",
              "      <td>20730.562500</td>\n",
              "      <td>2512.338135</td>\n",
              "      <td>25773.919922</td>\n",
              "      <td>5983.579590</td>\n",
              "      <td>331440.96875</td>\n",
              "      <td>59528.902344</td>\n",
              "      <td>20971.923828</td>\n",
              "      <td>37135.359375</td>\n",
              "      <td>9791.906250</td>\n",
              "      <td>7984.119629</td>\n",
              "      <td>30427.714844</td>\n",
              "      <td>154310.750000</td>\n",
              "      <td>48936.019531</td>\n",
              "      <td>70381.914062</td>\n",
              "      <td>52860.148438</td>\n",
              "      <td>269387.87500</td>\n",
              "      <td>323690.46875</td>\n",
              "      <td>89234.789062</td>\n",
              "      <td>118740.226562</td>\n",
              "      <td>37983.042969</td>\n",
              "      <td>32097.253906</td>\n",
              "      <td>29676.880859</td>\n",
              "      <td>141676.156250</td>\n",
              "      <td>221187.062500</td>\n",
              "      <td>107884.117188</td>\n",
              "      <td>...</td>\n",
              "      <td>228158.500000</td>\n",
              "      <td>14089.832031</td>\n",
              "      <td>166726.921875</td>\n",
              "      <td>249287.078125</td>\n",
              "      <td>7836.285156</td>\n",
              "      <td>8356.870117</td>\n",
              "      <td>33980.640625</td>\n",
              "      <td>14856.845703</td>\n",
              "      <td>82717.148438</td>\n",
              "      <td>74727.718750</td>\n",
              "      <td>60297.984375</td>\n",
              "      <td>30546.800781</td>\n",
              "      <td>393623.18750</td>\n",
              "      <td>876951.9375</td>\n",
              "      <td>624525.9375</td>\n",
              "      <td>20454.710938</td>\n",
              "      <td>33381.574219</td>\n",
              "      <td>68581.820312</td>\n",
              "      <td>116132.835938</td>\n",
              "      <td>17443.224609</td>\n",
              "      <td>130591.367188</td>\n",
              "      <td>37440.519531</td>\n",
              "      <td>11024.684570</td>\n",
              "      <td>5088.170410</td>\n",
              "      <td>43469.699219</td>\n",
              "      <td>22088.603516</td>\n",
              "      <td>84470.570312</td>\n",
              "      <td>121672.671875</td>\n",
              "      <td>5881.708496</td>\n",
              "      <td>47229.593750</td>\n",
              "      <td>49784.722656</td>\n",
              "      <td>60303.691406</td>\n",
              "      <td>45770.250000</td>\n",
              "      <td>31716.912109</td>\n",
              "      <td>63770.921875</td>\n",
              "      <td>295835.15625</td>\n",
              "      <td>341218.81250</td>\n",
              "      <td>31115.027344</td>\n",
              "      <td>28655.117188</td>\n",
              "      <td>NaN</td>\n",
              "    </tr>\n",
              "  </tbody>\n",
              "</table>\n",
              "<p>10 rows × 378 columns</p>\n",
              "</div>"
            ],
            "text/plain": [
              "          Day        000060        000080  ...        363280        950130  000020\n",
              "0  2021-08-09  21769.189453  35207.996094  ...  31121.041016  27460.978516     NaN\n",
              "1  2021-08-10  21972.640625  35134.656250  ...  31258.187500  27115.597656     NaN\n",
              "2  2021-08-11  22202.455078  35053.261719  ...  31373.099609  26987.236328     NaN\n",
              "3  2021-08-12  22475.162109  34966.523438  ...  31449.544922  27129.119141     NaN\n",
              "4  2021-08-13  22867.271484  34889.199219  ...  31492.423828  27363.195312     NaN\n",
              "5  2021-08-30  23338.119141  34819.835938  ...  31492.011719  27738.794922     NaN\n",
              "6  2021-08-31  23659.841797  34724.089844  ...  31454.564453  28112.982422     NaN\n",
              "7  2021-09-01  23886.505859  34603.085938  ...  31355.902344  28311.392578     NaN\n",
              "8  2021-09-02  24168.427734  34524.312500  ...  31245.419922  28525.878906     NaN\n",
              "9  2021-09-03  24471.972656  34499.570312  ...  31115.027344  28655.117188     NaN\n",
              "\n",
              "[10 rows x 378 columns]"
            ]
          },
          "metadata": {},
          "execution_count": 104
        }
      ]
    },
    {
      "cell_type": "code",
      "metadata": {
        "colab": {
          "base_uri": "https://localhost:8080/",
          "height": 188
        },
        "id": "WawPYEyTYzMZ",
        "outputId": "0807039f-57fd-408c-ac15-d673fc16a7b1"
      },
      "source": [
        "sample_name2 = 'sample_submission2.csv'\n",
        "sample_submission2 = pd.read_csv(os.path.join(path,sample_name))"
      ],
      "execution_count": null,
      "outputs": [
        {
          "output_type": "error",
          "ename": "NameError",
          "evalue": "ignored",
          "traceback": [
            "\u001b[0;31m---------------------------------------------------------------------------\u001b[0m",
            "\u001b[0;31mNameError\u001b[0m                                 Traceback (most recent call last)",
            "\u001b[0;32m<ipython-input-5-d2fb01d2548e>\u001b[0m in \u001b[0;36m<module>\u001b[0;34m()\u001b[0m\n\u001b[1;32m      1\u001b[0m \u001b[0msample_name2\u001b[0m \u001b[0;34m=\u001b[0m \u001b[0;34m'sample_submission2.csv'\u001b[0m\u001b[0;34m\u001b[0m\u001b[0;34m\u001b[0m\u001b[0m\n\u001b[0;32m----> 2\u001b[0;31m \u001b[0msample_submission2\u001b[0m \u001b[0;34m=\u001b[0m \u001b[0mpd\u001b[0m\u001b[0;34m.\u001b[0m\u001b[0mread_csv\u001b[0m\u001b[0;34m(\u001b[0m\u001b[0mos\u001b[0m\u001b[0;34m.\u001b[0m\u001b[0mpath\u001b[0m\u001b[0;34m.\u001b[0m\u001b[0mjoin\u001b[0m\u001b[0;34m(\u001b[0m\u001b[0mpath\u001b[0m\u001b[0;34m,\u001b[0m\u001b[0msample_name\u001b[0m\u001b[0;34m)\u001b[0m\u001b[0;34m)\u001b[0m\u001b[0;34m\u001b[0m\u001b[0;34m\u001b[0m\u001b[0m\n\u001b[0m",
            "\u001b[0;31mNameError\u001b[0m: name 'path' is not defined"
          ]
        }
      ]
    }
  ]
}